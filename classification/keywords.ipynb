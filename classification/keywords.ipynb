{
 "cells": [
  {
   "cell_type": "code",
   "execution_count": null,
   "metadata": {},
   "outputs": [
    {
     "ename": "",
     "evalue": "",
     "output_type": "error",
     "traceback": [
      "\u001b[1;31mFailed to start the Kernel. \n",
      "\u001b[1;31mJupyter server crashed. Unable to connect. \n",
      "\u001b[1;31mError code from Jupyter: 1\n",
      "\u001b[1;31musage: jupyter.py [-h] [--version] [--config-dir] [--data-dir] [--runtime-dir]\n",
      "\u001b[1;31m                  [--paths] [--json] [--debug]\n",
      "\u001b[1;31m                  [subcommand]\n",
      "\u001b[1;31m\n",
      "\u001b[1;31mJupyter: Interactive Computing\n",
      "\u001b[1;31m\n",
      "\u001b[1;31mpositional arguments:\n",
      "\u001b[1;31m  subcommand     the subcommand to launch\n",
      "\u001b[1;31m\n",
      "\u001b[1;31moptional arguments:\n",
      "\u001b[1;31m  -h, --help     show this help message and exit\n",
      "\u001b[1;31m  --version      show the versions of core jupyter packages and exit\n",
      "\u001b[1;31m  --config-dir   show Jupyter config dir\n",
      "\u001b[1;31m  --data-dir     show Jupyter data dir\n",
      "\u001b[1;31m  --runtime-dir  show Jupyter runtime dir\n",
      "\u001b[1;31m  --paths        show all Jupyter paths. Add --json for machine-readable\n",
      "\u001b[1;31m                 format.\n",
      "\u001b[1;31m  --json         output paths as machine-readable json\n",
      "\u001b[1;31m  --debug        output debug information about paths\n",
      "\u001b[1;31m\n",
      "\u001b[1;31mAvailable subcommands:\n",
      "\u001b[1;31m\n",
      "\u001b[1;31mJupyter command `jupyter-notebook` not found. \n",
      "\u001b[1;31mView Jupyter <a href='command:jupyter.viewOutput'>log</a> for further details."
     ]
    }
   ],
   "source": [
    "import requests\n",
    "import json\n",
    "import csv\n",
    "import threading\n",
    "import time\n",
    "import pandas as pd\n",
    "\n",
    "main_keyword_list = {}\n",
    "\n",
    "def extract_keywords(protein_list: list) -> None:\n",
    "    with open(\"keywords.csv\", \"a\") as f:\n",
    "        for protein in protein_list:\n",
    "            # create words dict\n",
    "            words = {}\n",
    "\n",
    "            # extract request\n",
    "            url = \"https://rest.uniprot.org/uniprotkb/\" + protein + \".json\"\n",
    "            r = requests.get(url)\n",
    "            request = r.json()\n",
    "\n",
    "            for i, val in enumerate(request[\"keywords\"]):\n",
    "                words[request[\"keywords\"][i][\"name\"]] = 1\n",
    "\n",
    "            main_keyword_list[protein] = words\n",
    "\n",
    "def extract_proteins(path: str) -> list:\n",
    "    proteins = []\n",
    "\n",
    "    # read in text file\n",
    "    with open(path, 'r') as f:\n",
    "        lines = f.readlines()\n",
    "\n",
    "    # take the first value from text file\n",
    "    for line in lines:\n",
    "        proteins.append(line.split('|')[0])\n",
    "\n",
    "    # return list\n",
    "    return proteins\n",
    "\n",
    "def explore_json(protein: str) -> None:\n",
    "    url = \"https://rest.uniprot.org/uniprotkb/\" + protein + \".json\"\n",
    "    r = requests.get(url)\n",
    "    request = r.json()\n",
    "    for key in request.keys():\n",
    "        print(key)\n",
    "        print(request[key])\n",
    "        print()\n",
    "\n",
    "\n",
    "def main():\n",
    "    proteins = extract_proteins(\"data/protein_aliases.txt\")\n",
    "    res_path = \"results/functions.txt\"\n",
    "\n",
    "    extract_functions(proteins[:10])\n",
    "\n",
    "    df = pd.DataFrame(main_keyword_list)\n",
    "    df = df.transpose()\n",
    "    # print(df.head())\n",
    "    print(df.count())\n",
    "\n",
    "main()"
   ]
  },
  {
   "cell_type": "code",
   "execution_count": null,
   "metadata": {},
   "outputs": [],
   "source": []
  },
  {
   "attachments": {},
   "cell_type": "markdown",
   "metadata": {},
   "source": [
    "Just get the most common keywords"
   ]
  },
  {
   "cell_type": "code",
   "execution_count": 41,
   "metadata": {},
   "outputs": [],
   "source": [
    "import requests\n",
    "import json\n",
    "import csv\n",
    "import threading\n",
    "import time\n",
    "import pandas as pd\n",
    "from collections import Counter\n",
    "\n",
    "def extract_keywords(protein_list: list, res: list):\n",
    "    res = []\n",
    "    for protein in protein_list:\n",
    "        # create words dict\n",
    "\n",
    "        # extract request\n",
    "        url = \"https://rest.uniprot.org/uniprotkb/\" + protein + \".json\"\n",
    "        r = requests.get(url)\n",
    "        request = r.json()\n",
    "\n",
    "        for i, val in enumerate(request[\"keywords\"]):\n",
    "            res.append(val[\"name\"])\n",
    "    print(res)\n",
    "\n",
    "def extract_proteins(path: str) -> list:\n",
    "    proteins = []\n",
    "\n",
    "    # read in text file\n",
    "    with open(path, 'r') as f:\n",
    "        lines = f.readlines()\n",
    "\n",
    "    # take the first value from text file\n",
    "    for line in lines:\n",
    "        proteins.append(line.split('|')[0])\n",
    "\n",
    "    # return list\n",
    "    return proteins"
   ]
  },
  {
   "cell_type": "code",
   "execution_count": 42,
   "metadata": {},
   "outputs": [
    {
     "name": "stdout",
     "output_type": "stream",
     "text": [
      "[]\n",
      "Counter()\n"
     ]
    },
    {
     "name": "stdout",
     "output_type": "stream",
     "text": [
      "['Acetylation', 'Activator', 'Alternative splicing', 'Biological rhythms', 'Cytoplasm', 'DNA-binding', 'Glycoprotein', 'Host-virus interaction', 'Isopeptide bond', 'Metal-binding', 'Nucleus', 'Phosphoprotein', 'Reference proteome', 'Repeat', 'Repressor', 'Transcription', 'Transcription regulation', 'Ubl conjugation', 'Zinc', 'Zinc-finger', 'LIM domain', 'Metal-binding', 'Proteomics identification', 'Reference proteome', 'Zinc', 'ATP-binding', 'Glutathione biosynthesis', 'Ligase', 'Magnesium', 'Metal-binding', 'Nucleotide-binding', 'Proteomics identification', 'Reference proteome']['Cytoplasm', 'Endosome', 'Membrane', 'Phosphoprotein', 'Protein transport', 'Reference proteome', 'Transport', 'Protein transport', 'Proteomics identification', 'Reference proteome', 'Transport', 'Membrane', 'Proteomics identification', 'Reference proteome', 'Repeat', 'Transmembrane', 'Transmembrane helix']\n",
      "\n",
      "['3D-structure', 'Alternative splicing', 'Calcium', 'Cell junction', 'Cell membrane', 'Developmental protein', 'Disulfide bond', 'EGF-like domain', 'Glycoprotein', 'Membrane', 'Phosphoprotein', 'Reference proteome', 'Repeat', 'Secreted', 'Signal', 'Transmembrane', 'Transmembrane helix', '3D-structure', 'Alternative splicing', 'ATP-binding', 'Cardiomyopathy', 'Cell membrane', 'Cytoplasm', 'Deafness', 'Direct protein sequencing', 'Disease variant', 'Kinase', 'Membrane', 'Metal-binding', 'Methylation', 'Mitochondrion', 'Nucleotide-binding', 'Nucleus', 'Phosphoprotein', 'Proto-oncogene', 'Reference proteome', 'Serine/threonine-protein kinase', 'Transferase', 'Zinc', 'Zinc-finger', '3D-structure', 'Acetylation', 'Cell membrane', 'Cytoplasm', 'Host cell receptor for virus entry', 'Isopeptide bond', 'Membrane', 'Nucleus', 'Phosphoprotein', 'Receptor', 'Reference proteome', 'Repeat', 'Ribonucleoprotein', 'Ribosomal protein', 'Ubl conjugation']\n"
     ]
    }
   ],
   "source": [
    "proteins = extract_proteins(\"data/protein_aliases.txt\")\n",
    "res_path = \"results/functions.txt\"\n",
    "\n",
    "res_1 = []\n",
    "res_2 = []\n",
    "res_3 = []\n",
    "\n",
    "t1 = threading.Thread(target=extract_keywords, args=(proteins[:3], res_1, ))\n",
    "t2 = threading.Thread(target=extract_keywords, args=(proteins[3:6], res_2, ))\n",
    "t3 = threading.Thread(target=extract_keywords, args=(proteins[6:9], res_3, ))\n",
    "\n",
    "t1.start()\n",
    "t2.start()\n",
    "t3.start()\n",
    "\n",
    "xyz = res_1 + res_2 + res_3\n",
    "print(res_1)\n",
    "counts = Counter(xyz)\n",
    "print(counts)"
   ]
  },
  {
   "cell_type": "code",
   "execution_count": 37,
   "metadata": {},
   "outputs": [
    {
     "name": "stdout",
     "output_type": "stream",
     "text": [
      "Counter()\n"
     ]
    }
   ],
   "source": []
  },
  {
   "cell_type": "code",
   "execution_count": 38,
   "metadata": {},
   "outputs": [
    {
     "data": {
      "text/plain": [
       "[]"
      ]
     },
     "execution_count": 38,
     "metadata": {},
     "output_type": "execute_result"
    }
   ],
   "source": [
    "xyz"
   ]
  }
 ],
 "metadata": {
  "kernelspec": {
   "display_name": "base",
   "language": "python",
   "name": "python3"
  },
  "language_info": {
   "codemirror_mode": {
    "name": "ipython",
    "version": 3
   },
   "file_extension": ".py",
   "mimetype": "text/x-python",
   "name": "python",
   "nbconvert_exporter": "python",
   "pygments_lexer": "ipython3",
   "version": "3.9.13"
  },
  "orig_nbformat": 4,
  "vscode": {
   "interpreter": {
    "hash": "79732fd3e39fcc86bf7c7aeb079145247bae47b6d1bafa505c129d7881fdf4a2"
   }
  }
 },
 "nbformat": 4,
 "nbformat_minor": 2
}
