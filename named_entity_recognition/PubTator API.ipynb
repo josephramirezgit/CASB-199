{
 "cells": [
  {
   "cell_type": "code",
   "execution_count": 2,
   "id": "7eca425f",
   "metadata": {},
   "outputs": [],
   "source": [
    "# https://www.ncbi.nlm.nih.gov/research/pubtator/api.html"
   ]
  },
  {
   "cell_type": "code",
   "execution_count": 1,
   "id": "d3b3396d",
   "metadata": {},
   "outputs": [],
   "source": [
    "import requests\n",
    "import json\n",
    "\n",
    "def extract_annotations(annotation):\n",
    "    entity_type = annotation['infons']['type']\n",
    "    start_index = annotation['locations'][0]['offset']\n",
    "    end_index = start_index+annotation['locations'][0]['length']\n",
    "    \n",
    "    return entity_type, [start_index, end_index]"
   ]
  },
  {
   "cell_type": "code",
   "execution_count": 2,
   "id": "9cd10fba",
   "metadata": {},
   "outputs": [],
   "source": [
    "pmids = '28483578,28483579'\n",
    "url = f'https://www.ncbi.nlm.nih.gov/research/pubtator-api/publications/export/biocjson?pmids={pmids}'#&concepts=gene,protein'\n",
    "\n",
    "response = requests.get(url)\n",
    "responses = response.text.split('\\n')"
   ]
  },
  {
   "cell_type": "code",
   "execution_count": 59,
   "id": "fe6d5388",
   "metadata": {},
   "outputs": [
    {
     "name": "stdout",
     "output_type": "stream",
     "text": [
      "6\n",
      "1185\n",
      "9\n",
      "6\n",
      "1419\n",
      "22\n"
     ]
    }
   ],
   "source": [
    "# can also do full text I think, but we need the PMCIDs. \n",
    "# We can get that data later. \n",
    "pmid_to_entity_type_to_indices = dict()\n",
    "pmid_to_indices_to_entity_type = dict()\n",
    "abstracts = []\n",
    "\n",
    "for entry_txt in responses:\n",
    "    if entry_txt == '':\n",
    "        continue\n",
    "    entry = json.loads(entry_txt)\n",
    "    \n",
    "    # PMID\n",
    "    pmid = str(entry['id'])\n",
    "    \n",
    "    # Title\n",
    "    title_section = entry['passages'][0]\n",
    "    title = title_section['text']\n",
    "    title_annotations = title_section['annotations']\n",
    "    # print(title)\n",
    "    # Abstract\n",
    "    abstract_section = entry['passages'][1]\n",
    "    abstract = abstract_section['text']\n",
    "    abstract_annotations = abstract_section['annotations']\n",
    "    abstracts += [abstract]\n",
    "    print(len(abstract_section))\n",
    "    print(len(abstract))\n",
    "    print(len(abstract_annotations))\n",
    "\n",
    "    # Title Annotations\n",
    "    entity_type_to_title_indices = dict()\n",
    "    title_indices_to_entity_type = dict()\n",
    "    for annotation in title_annotations:    \n",
    "        entity_type, indices = extract_annotations(annotation)\n",
    "        entity_type_to_title_indices.setdefault(entity_type,list()).append(indices)\n",
    "        title_indices_to_entity_type[tuple(indices)] = entity_type\n",
    "        \n",
    "    # Abstract Annotations\n",
    "    entity_type_to_abstract_indices = dict() \n",
    "    abstract_indices_to_entity_type = dict()\n",
    "    for annotation in abstract_annotations:\n",
    "        entity_type, indices = extract_annotations(annotation)\n",
    "        entity_type_to_abstract_indices.setdefault(entity_type, list()).append(indices)\n",
    "        abstract_indices_to_entity_type[tuple(indices)] = entity_type\n",
    "        \n",
    "    # PMID->Entities->Indices\n",
    "    pmid_to_entity_type_to_indices[pmid] = dict()\n",
    "    pmid_to_entity_type_to_indices[pmid]['title'] = entity_type_to_title_indices\n",
    "    pmid_to_entity_type_to_indices[pmid]['abstract'] = entity_type_to_abstract_indices\n",
    "    \n",
    "    # PMID->Indices->Entity Type\n",
    "    pmid_to_indices_to_entity_type[pmid] = dict()\n",
    "    pmid_to_indices_to_entity_type[pmid]['title'] = title_indices_to_entity_type\n",
    "    pmid_to_indices_to_entity_type[pmid]['abstract'] = abstract_indices_to_entity_type\n",
    "    \n",
    "    # PMID->Indices->Entity Type->Entity\n",
    "    #...\n",
    "    #..."
   ]
  },
  {
   "cell_type": "code",
   "execution_count": 60,
   "id": "aa07ca96",
   "metadata": {},
   "outputs": [
    {
     "data": {
      "text/plain": [
       "[{'id': '34',\n",
       "  'infons': {'identifier': 'MESH:D014801', 'type': 'Chemical'},\n",
       "  'text': 'vitamin A',\n",
       "  'locations': [{'offset': 202, 'length': 9}]},\n",
       " {'id': '35',\n",
       "  'infons': {'identifier': 'MESH:D008103', 'type': 'Disease'},\n",
       "  'text': 'liver fibrosis',\n",
       "  'locations': [{'offset': 227, 'length': 14}]},\n",
       " {'id': '36',\n",
       "  'infons': {'identifier': '10090', 'type': 'Species'},\n",
       "  'text': 'mice',\n",
       "  'locations': [{'offset': 534, 'length': 4}]},\n",
       " {'id': '37',\n",
       "  'infons': {'identifier': '6182', 'type': 'Species'},\n",
       "  'text': 'Schistosoma japonicum',\n",
       "  'locations': [{'offset': 544, 'length': 21}]},\n",
       " {'id': '38',\n",
       "  'infons': {'identifier': '6182', 'type': 'Species'},\n",
       "  'text': 'S. japonicum',\n",
       "  'locations': [{'offset': 567, 'length': 12}]},\n",
       " {'id': '39',\n",
       "  'infons': {'identifier': 'MESH:D007239', 'type': 'Disease'},\n",
       "  'text': 'infection',\n",
       "  'locations': [{'offset': 581, 'length': 9}]},\n",
       " {'id': '40',\n",
       "  'infons': {'identifier': 'MESH:D005355', 'type': 'Disease'},\n",
       "  'text': 'fibrosis',\n",
       "  'locations': [{'offset': 659, 'length': 8}]},\n",
       " {'id': '41',\n",
       "  'infons': {'identifier': 'MESH:D012554', 'type': 'Disease'},\n",
       "  'text': 'japonicum infection',\n",
       "  'locations': [{'offset': 681, 'length': 19}]},\n",
       " {'id': '42',\n",
       "  'infons': {'identifier': '111364', 'type': 'Gene'},\n",
       "  'text': 'MHC II',\n",
       "  'locations': [{'offset': 772, 'length': 6}]},\n",
       " {'id': '43',\n",
       "  'infons': {'identifier': 'MESH:D012554', 'type': 'Disease'},\n",
       "  'text': 'japonicum infection',\n",
       "  'locations': [{'offset': 809, 'length': 19}]},\n",
       " {'id': '44',\n",
       "  'infons': {'identifier': '111364', 'type': 'Gene'},\n",
       "  'text': 'MHC II',\n",
       "  'locations': [{'offset': 859, 'length': 6}]},\n",
       " {'id': '45',\n",
       "  'infons': {'identifier': '111364', 'type': 'Gene'},\n",
       "  'text': 'MHC II',\n",
       "  'locations': [{'offset': 876, 'length': 6}]},\n",
       " {'id': '46',\n",
       "  'infons': {'identifier': '111364', 'type': 'Gene'},\n",
       "  'text': 'MHC II',\n",
       "  'locations': [{'offset': 992, 'length': 6}]},\n",
       " {'id': '47',\n",
       "  'infons': {'identifier': '111364', 'type': 'Gene'},\n",
       "  'text': 'MHC II',\n",
       "  'locations': [{'offset': 1110, 'length': 6}]},\n",
       " {'id': '48',\n",
       "  'infons': {'identifier': 'MESH:D011223', 'type': 'Chemical'},\n",
       "  'text': 'praziquantel',\n",
       "  'locations': [{'offset': 1202, 'length': 12}]},\n",
       " {'id': '49',\n",
       "  'infons': {'identifier': '111364', 'type': 'Gene'},\n",
       "  'text': 'MHC II',\n",
       "  'locations': [{'offset': 1274, 'length': 6}]},\n",
       " {'id': '50',\n",
       "  'infons': {'identifier': 'MESH:D012554', 'type': 'Disease'},\n",
       "  'text': 'japonicum-infected',\n",
       "  'locations': [{'offset': 1330, 'length': 18}]},\n",
       " {'id': '51',\n",
       "  'infons': {'identifier': '10090', 'type': 'Species'},\n",
       "  'text': 'mice',\n",
       "  'locations': [{'offset': 1349, 'length': 4}]},\n",
       " {'id': '52',\n",
       "  'infons': {'identifier': '111364', 'type': 'Gene'},\n",
       "  'text': 'MHC II',\n",
       "  'locations': [{'offset': 1378, 'length': 6}]},\n",
       " {'id': '53',\n",
       "  'infons': {'identifier': 'MESH:D005355', 'type': 'Disease'},\n",
       "  'text': 'fibrosis',\n",
       "  'locations': [{'offset': 1451, 'length': 8}]},\n",
       " {'id': '54',\n",
       "  'infons': {'identifier': 'MESH:D011223', 'type': 'Chemical'},\n",
       "  'text': 'praziquantel',\n",
       "  'locations': [{'offset': 1509, 'length': 12}]},\n",
       " {'id': '55',\n",
       "  'infons': {'identifier': 'MESH:D005355', 'type': 'Disease'},\n",
       "  'text': 'fibrosis',\n",
       "  'locations': [{'offset': 1527, 'length': 8}]}]"
      ]
     },
     "execution_count": 60,
     "metadata": {},
     "output_type": "execute_result"
    }
   ],
   "source": [
    "abstract_annotations"
   ]
  },
  {
   "cell_type": "code",
   "execution_count": 61,
   "id": "f8b228d4",
   "metadata": {},
   "outputs": [
    {
     "data": {
      "text/plain": [
       "[{'id': '6',\n",
       "  'infons': {'identifier': '111364', 'type': 'Gene'},\n",
       "  'text': 'MHC II',\n",
       "  'locations': [{'offset': 0, 'length': 6}]},\n",
       " {'id': '7',\n",
       "  'infons': {'identifier': '111364', 'type': 'Gene'},\n",
       "  'text': 'MHC II',\n",
       "  'locations': [{'offset': 17, 'length': 6}]},\n",
       " {'id': '8',\n",
       "  'infons': {'identifier': 'MESH:D005355', 'type': 'Disease'},\n",
       "  'text': 'fibrosis',\n",
       "  'locations': [{'offset': 69, 'length': 8}]},\n",
       " {'id': '9',\n",
       "  'infons': {'identifier': '10090', 'type': 'Species'},\n",
       "  'text': 'mice',\n",
       "  'locations': [{'offset': 81, 'length': 4}]},\n",
       " {'id': '10',\n",
       "  'infons': {'identifier': 'MESH:D007239', 'type': 'Disease'},\n",
       "  'text': 'infection',\n",
       "  'locations': [{'offset': 89, 'length': 9}]},\n",
       " {'id': '11',\n",
       "  'infons': {'identifier': '6182', 'type': 'Species'},\n",
       "  'text': 'Schistosoma japonicum',\n",
       "  'locations': [{'offset': 104, 'length': 21}]}]"
      ]
     },
     "execution_count": 61,
     "metadata": {},
     "output_type": "execute_result"
    }
   ],
   "source": [
    "title_annotations"
   ]
  },
  {
   "cell_type": "code",
   "execution_count": 4,
   "id": "02c2f0be",
   "metadata": {},
   "outputs": [
    {
     "data": {
      "text/plain": [
       "{'28483579': {'title': {(83, 97): 'Disease', (101, 120): 'Disease'},\n",
       "  'abstract': {(212, 226): 'Disease',\n",
       "   (238, 246): 'Species',\n",
       "   (252, 287): 'Disease',\n",
       "   (334, 342): 'Species',\n",
       "   (440, 448): 'Species',\n",
       "   (604, 619): 'Disease',\n",
       "   (715, 723): 'Species',\n",
       "   (1091, 1105): 'Disease',\n",
       "   (1210, 1224): 'Disease'}},\n",
       " '28483578': {'title': {(0, 6): 'Gene',\n",
       "   (17, 23): 'Gene',\n",
       "   (69, 77): 'Disease',\n",
       "   (81, 85): 'Species',\n",
       "   (89, 98): 'Disease',\n",
       "   (104, 125): 'Species'},\n",
       "  'abstract': {(202, 211): 'Chemical',\n",
       "   (227, 241): 'Disease',\n",
       "   (534, 538): 'Species',\n",
       "   (544, 565): 'Species',\n",
       "   (567, 579): 'Species',\n",
       "   (581, 590): 'Disease',\n",
       "   (659, 667): 'Disease',\n",
       "   (681, 700): 'Disease',\n",
       "   (772, 778): 'Gene',\n",
       "   (809, 828): 'Disease',\n",
       "   (859, 865): 'Gene',\n",
       "   (876, 882): 'Gene',\n",
       "   (992, 998): 'Gene',\n",
       "   (1110, 1116): 'Gene',\n",
       "   (1202, 1214): 'Chemical',\n",
       "   (1274, 1280): 'Gene',\n",
       "   (1330, 1348): 'Disease',\n",
       "   (1349, 1353): 'Species',\n",
       "   (1378, 1384): 'Gene',\n",
       "   (1451, 1459): 'Disease',\n",
       "   (1509, 1521): 'Chemical',\n",
       "   (1527, 1535): 'Disease'}}}"
      ]
     },
     "execution_count": 4,
     "metadata": {},
     "output_type": "execute_result"
    }
   ],
   "source": [
    "pmid_to_indices_to_entity_type"
   ]
  },
  {
   "cell_type": "code",
   "execution_count": 34,
   "id": "623c08e9",
   "metadata": {},
   "outputs": [
    {
     "data": {
      "text/plain": [
       "2"
      ]
     },
     "execution_count": 34,
     "metadata": {},
     "output_type": "execute_result"
    }
   ],
   "source": [
    "len(pmid_to_indices_to_entity_type)"
   ]
  },
  {
   "cell_type": "code",
   "execution_count": 36,
   "id": "42925e04",
   "metadata": {},
   "outputs": [
    {
     "name": "stdout",
     "output_type": "stream",
     "text": [
      "{'title': {(83, 97): 'Disease', (101, 120): 'Disease'}, 'abstract': {(212, 226): 'Disease', (238, 246): 'Species', (252, 287): 'Disease', (334, 342): 'Species', (440, 448): 'Species', (604, 619): 'Disease', (715, 723): 'Species', (1091, 1105): 'Disease', (1210, 1224): 'Disease'}}\n"
     ]
    }
   ],
   "source": [
    "temp_indices_to_entity_type = list(pmid_to_indices_to_entity_type.values())[0]\n",
    "print(temp_indices_to_entity_type)"
   ]
  },
  {
   "cell_type": "code",
   "execution_count": 39,
   "id": "4812ad1b",
   "metadata": {},
   "outputs": [
    {
     "data": {
      "text/plain": [
       "dict_keys(['title', 'abstract'])"
      ]
     },
     "execution_count": 39,
     "metadata": {},
     "output_type": "execute_result"
    }
   ],
   "source": [
    "temp_indices_to_entity_type.keys()\n",
    "# len(temp_indices_to_entity_type)"
   ]
  },
  {
   "cell_type": "code",
   "execution_count": 40,
   "id": "d75b449e",
   "metadata": {},
   "outputs": [
    {
     "data": {
      "text/plain": [
       "{(83, 97): 'Disease', (101, 120): 'Disease'}"
      ]
     },
     "execution_count": 40,
     "metadata": {},
     "output_type": "execute_result"
    }
   ],
   "source": [
    "temp_titles = temp_indices_to_entity_type['title']\n",
    "temp_titles"
   ]
  },
  {
   "cell_type": "code",
   "execution_count": 43,
   "id": "bed5f519",
   "metadata": {},
   "outputs": [
    {
     "data": {
      "text/plain": [
       "'Liver Fibrosis'"
      ]
     },
     "execution_count": 43,
     "metadata": {},
     "output_type": "execute_result"
    }
   ],
   "source": [
    "temp_title_string = \"Comparison of 2-D Shear Wave Elastography and Transient Elastography for Assessing Liver Fibrosis in Chronic Hepatitis B.\"\n",
    "temp_title_string[83:97]"
   ]
  },
  {
   "cell_type": "code",
   "execution_count": 44,
   "id": "5554771d",
   "metadata": {},
   "outputs": [
    {
     "data": {
      "text/plain": [
       "'Chronic Hepatitis B'"
      ]
     },
     "execution_count": 44,
     "metadata": {},
     "output_type": "execute_result"
    }
   ],
   "source": [
    "temp_title_string[101:120]"
   ]
  },
  {
   "cell_type": "code",
   "execution_count": 45,
   "id": "49ef0ae1",
   "metadata": {},
   "outputs": [
    {
     "data": {
      "text/plain": [
       "{(0, 6): 'Gene',\n",
       " (17, 23): 'Gene',\n",
       " (69, 77): 'Disease',\n",
       " (81, 85): 'Species',\n",
       " (89, 98): 'Disease',\n",
       " (104, 125): 'Species'}"
      ]
     },
     "execution_count": 45,
     "metadata": {},
     "output_type": "execute_result"
    }
   ],
   "source": [
    "temp_title = list(pmid_to_indices_to_entity_type.values())[1]['title']\n",
    "temp_title\n"
   ]
  },
  {
   "cell_type": "code",
   "execution_count": 48,
   "id": "909e1f5f",
   "metadata": {},
   "outputs": [
    {
     "name": "stdout",
     "output_type": "stream",
     "text": [
      "(0, 6) Gene MHC II\n",
      "(17, 23) Gene MHC II\n",
      "(69, 77) Disease fibrosis\n",
      "(81, 85) Species mice\n",
      "(89, 98) Disease infection\n",
      "(104, 125) Species Schistosoma japonicum\n"
     ]
    }
   ],
   "source": [
    "temp_title_string = \"MHC II-, but not MHC II+, hepatic Stellate cells contribute to liver fibrosis of mice in infection with Schistosoma japonicum.\"\n",
    "for idx, etype in temp_title.items():\n",
    "    print(idx,etype,temp_title_string[idx[0]:idx[1]])"
   ]
  },
  {
   "cell_type": "code",
   "execution_count": 56,
   "id": "49b680c2",
   "metadata": {},
   "outputs": [
    {
     "name": "stdout",
     "output_type": "stream",
     "text": [
      "1419\n",
      "(202, 211) Chemical have plas\n",
      "(227, 241) Disease ogeneity, whic\n",
      "(534, 538) Species bros\n",
      "(544, 565) Species sed by S. japonicum i\n",
      "(567, 579) Species ection. Resu\n",
      "(581, 590) Disease s reveale\n",
      "(659, 667) Disease rogenic \n",
      "(681, 700) Disease  japonicum infectio\n",
      "(772, 778) Gene oth tw\n",
      "(809, 828) Disease he proliferation of\n",
      "(859, 865) Gene  only \n",
      "(876, 882) Gene s disp\n",
      "(992, 998) Gene d CIIT\n",
      "(1110, 1116) Gene e expr\n",
      "(1202, 1214) Chemical  japonicum-i\n",
      "(1274, 1280) Gene  were \n",
      "(1330, 1348) Disease is and could be co\n",
      "(1349, 1353) Species side\n",
      "(1378, 1384) Gene  of pr\n",
      "(1451, 1459) Disease \n",
      "(1509, 1521) Chemical \n",
      "(1527, 1535) Disease \n"
     ]
    }
   ],
   "source": [
    "idx_etype = list(pmid_to_indices_to_entity_type.values())[1]['abstract']\n",
    "temp_abstract = abstracts[1]\n",
    "print(len(temp_abstract))\n",
    "for idx, etype in idx_etype.items():\n",
    "    print(idx,etype,temp_abstract[idx[0]:idx[1]])"
   ]
  },
  {
   "cell_type": "code",
   "execution_count": 51,
   "id": "135ec9c7",
   "metadata": {},
   "outputs": [
    {
     "data": {
      "text/plain": [
       "'e'"
      ]
     },
     "execution_count": 51,
     "metadata": {},
     "output_type": "execute_result"
    }
   ],
   "source": [
    "temp_abstract"
   ]
  },
  {
   "cell_type": "code",
   "execution_count": 57,
   "id": "33beec7e",
   "metadata": {},
   "outputs": [
    {
     "name": "stdout",
     "output_type": "stream",
     "text": [
      "1185\n",
      "1419\n"
     ]
    }
   ],
   "source": [
    "for a in abstracts:\n",
    "    print(len(a))"
   ]
  },
  {
   "cell_type": "code",
   "execution_count": null,
   "id": "21ce5fd3",
   "metadata": {},
   "outputs": [],
   "source": []
  },
  {
   "cell_type": "code",
   "execution_count": null,
   "id": "2f7d80cd",
   "metadata": {},
   "outputs": [],
   "source": []
  },
  {
   "cell_type": "code",
   "execution_count": 3,
   "id": "90b0ae47",
   "metadata": {},
   "outputs": [
    {
     "name": "stdout",
     "output_type": "stream",
     "text": [
      "[\"Could not export data : [ErrorDetail(string='Please submit a list of pmids', code='parameter_exception')]\"]\n"
     ]
    }
   ],
   "source": [
    "import requests\n",
    "url = \"https://www.ncbi.nlm.nih.gov/research/pubtator-api/publications/export/pubtator?pmid=20085714&concepts=chemical\"\n",
    "\n",
    "r = requests.get(url)\n",
    "print(r.text)"
   ]
  },
  {
   "attachments": {},
   "cell_type": "markdown",
   "id": "3478d7e7",
   "metadata": {},
   "source": [
    "# Scratch for 28483578\n",
    "https://pubmed.ncbi.nlm.nih.gov/28483578/"
   ]
  },
  {
   "cell_type": "code",
   "execution_count": 5,
   "id": "b1c9b6f3",
   "metadata": {},
   "outputs": [],
   "source": [
    "import requests "
   ]
  },
  {
   "cell_type": "code",
   "execution_count": 23,
   "id": "366d6bf3",
   "metadata": {},
   "outputs": [],
   "source": [
    "# set url\n",
    "pmids = '29484645'\n",
    "url = f'https://www.ncbi.nlm.nih.gov/research/pubtator-api/publications/export/biocjson?pmids={pmids}&concept=chemical'#&concepts=gene,protein'"
   ]
  },
  {
   "cell_type": "code",
   "execution_count": 24,
   "id": "e5612c05",
   "metadata": {},
   "outputs": [
    {
     "name": "stdout",
     "output_type": "stream",
     "text": [
      "{\"_id\": \"29484645|None\", \"id\": \"29484645\", \"infons\": {}, \"passages\": [{\"infons\": {\"journal\": \"J. Anat.; 2018 Feb 27. doi:10.1111/joa.12798\", \"year\": \"2018\", \"type\": \"title\", \"authors\": \"Klimek-Piotrowska W, Krawczyk-O\\u017c\\u00f3g A, Suski M, Kapusta P, Wo\\u0142kow PP, Ho\\u0142da MK\", \"section\": \"Title\"}, \"offset\": 0, \"text\": \"Comparative iTRAQ analysis of protein abundance in the human sinoatrial node and working cardiomyocytes.\", \"sentences\": [], \"annotations\": [{\"id\": \"1\", \"infons\": {\"identifier\": \"9606\", \"type\": \"Species\"}, \"text\": \"human\", \"locations\": [{\"offset\": 55, \"length\": 5}]}], \"relations\": []}, {\"infons\": {\"type\": \"abstract\", \"section\": \"Abstract\"}, \"offset\": 105, \"text\": \"Our objective was to assess the changes in protein abundance in the human sinoatrial node (SAN) compared with working cardiomyocytes to identify SAN-specific protein signatures. Four pairs of samples (the SAN and working cardiomyocytes) were obtained postmortem from four human donors with no evidence of cardiovascular disease. We performed protein identification and quantitation using two-dimensional chromatography-tandem mass spectrometry with isobaric peptide labeling (iTRAQ). We identified 451 different proteins expressed in both the SAN and working cardiomyocytes, 166 of which were differentially regulated (110 were upregulated in the SAN and 56 in the working cardiomyocytes). We identified sarcomere structural proteins in both tissues, although they were differently distributed among the tested samples. For example, myosin light chain 4, myosin regulatory light chain 2-atrial isoform, and tropomyosin alpha-3 chain levels were twofold higher in the SAN than in working cardiomyocytes, and myosin light chain 3 and myosin regulatory light chain 2-ventricular/cardiac muscle isoform levels were twofold higher in the ventricle tissue than in SAN. We identified many mitochondrial oxidative phosphorylation, beta-oxidation, and tricarboxylic acid cycle proteins that were predominantly associated with working cardiomyocytes tissue. We detected upregulation of the fatty acid omega activation pathway proteins in the SAN samples. Some proteins specific for smooth muscle tissue were highly upregulated in the SAN (e.g. transgelin), which indicates that the SAN tissue might act as the bridge between the working myocardium and the smooth muscle. Our results show possible implementation of proteomic strategies to identify in-depth functional differences between various heart sub-structures.\", \"sentences\": [], \"annotations\": [{\"id\": \"12\", \"infons\": {\"identifier\": \"9606\", \"type\": \"Species\"}, \"text\": \"human\", \"locations\": [{\"offset\": 173, \"length\": 5}]}, {\"id\": \"13\", \"infons\": {\"identifier\": \"9606\", \"type\": \"Species\"}, \"text\": \"human\", \"locations\": [{\"offset\": 377, \"length\": 5}]}, {\"id\": \"14\", \"infons\": {\"identifier\": \"MESH:D002318\", \"type\": \"Disease\"}, \"text\": \"cardiovascular disease\", \"locations\": [{\"offset\": 410, \"length\": 22}]}, {\"id\": \"15\", \"infons\": {\"identifier\": \"4635\", \"type\": \"Gene\", \"ncbi_homologene\": \"20558\"}, \"text\": \"myosin light chain 4\", \"locations\": [{\"offset\": 938, \"length\": 20}]}, {\"id\": \"16\", \"infons\": {\"identifier\": \"58498\", \"type\": \"Gene\", \"ncbi_homologene\": \"23290\"}, \"text\": \"myosin regulatory light chain 2-atrial isoform\", \"locations\": [{\"offset\": 960, \"length\": 46}]}, {\"id\": \"17\", \"infons\": {\"identifier\": \"4634\", \"type\": \"Gene\", \"ncbi_homologene\": \"20099\"}, \"text\": \"myosin light chain 3\", \"locations\": [{\"offset\": 1112, \"length\": 20}]}, {\"id\": \"18\", \"infons\": {\"identifier\": \"4633\", \"type\": \"Gene\", \"ncbi_homologene\": \"55462\"}, \"text\": \"myosin regulatory light chain 2-ventricular/cardiac muscle isoform\", \"locations\": [{\"offset\": 1137, \"length\": 66}]}, {\"id\": \"19\", \"infons\": {\"identifier\": \"MESH:D014233\", \"type\": \"Chemical\"}, \"text\": \"tricarboxylic acid\", \"locations\": [{\"offset\": 1348, \"length\": 18}]}, {\"id\": \"20\", \"infons\": {\"identifier\": \"MESH:D005227\", \"type\": \"Chemical\"}, \"text\": \"fatty acid\", \"locations\": [{\"offset\": 1485, \"length\": 10}]}, {\"id\": \"21\", \"infons\": {\"identifier\": \"6876\", \"type\": \"Gene\", \"ncbi_homologene\": \"2398\"}, \"text\": \"transgelin\", \"locations\": [{\"offset\": 1639, \"length\": 10}]}], \"relations\": []}], \"relations\": [], \"pmid\": 29484645, \"pmcid\": null, \"created\": {\"$date\": 1643813405108}, \"accessions\": [\"disease@MESH:D002318\", \"gene@6876\", \"gene@4633\", \"gene@4635\", \"chemical@MESH:D005227\", \"species@9606\", \"gene@4634\", \"chemical@MESH:D014233\", \"gene@58498\"], \"journal\": \"J. Anat.\", \"year\": 2018, \"authors\": [\"Klimek-Piotrowska W\", \"Krawczyk-O\\u017c\\u00f3g A\", \"Suski M\", \"Kapusta P\", \"Wo\\u0142kow PP\", \"Ho\\u0142da MK\"]}\n",
      "\n"
     ]
    }
   ],
   "source": [
    "# get request\n",
    "r = requests.get(url)\n",
    "print(r.text)"
   ]
  },
  {
   "cell_type": "code",
   "execution_count": 25,
   "id": "0e55018b",
   "metadata": {},
   "outputs": [
    {
     "data": {
      "text/plain": [
       "dict_keys(['_id', 'id', 'infons', 'passages', 'relations', 'pmid', 'pmcid', 'created', 'accessions', 'journal', 'year', 'authors'])"
      ]
     },
     "execution_count": 25,
     "metadata": {},
     "output_type": "execute_result"
    }
   ],
   "source": [
    "# find keys\n",
    "response = r.json()\n",
    "response.keys()"
   ]
  },
  {
   "cell_type": "code",
   "execution_count": 29,
   "id": "32c3dba9",
   "metadata": {},
   "outputs": [
    {
     "name": "stdout",
     "output_type": "stream",
     "text": [
      "_id\n",
      "29484645|None\n",
      "\n",
      "id\n",
      "29484645\n",
      "\n",
      "infons\n",
      "{}\n",
      "\n",
      "passages\n",
      "[{'infons': {'journal': 'J. Anat.; 2018 Feb 27. doi:10.1111/joa.12798', 'year': '2018', 'type': 'title', 'authors': 'Klimek-Piotrowska W, Krawczyk-Ożóg A, Suski M, Kapusta P, Wołkow PP, Hołda MK', 'section': 'Title'}, 'offset': 0, 'text': 'Comparative iTRAQ analysis of protein abundance in the human sinoatrial node and working cardiomyocytes.', 'sentences': [], 'annotations': [{'id': '1', 'infons': {'identifier': '9606', 'type': 'Species'}, 'text': 'human', 'locations': [{'offset': 55, 'length': 5}]}], 'relations': []}, {'infons': {'type': 'abstract', 'section': 'Abstract'}, 'offset': 105, 'text': 'Our objective was to assess the changes in protein abundance in the human sinoatrial node (SAN) compared with working cardiomyocytes to identify SAN-specific protein signatures. Four pairs of samples (the SAN and working cardiomyocytes) were obtained postmortem from four human donors with no evidence of cardiovascular disease. We performed protein identification and quantitation using two-dimensional chromatography-tandem mass spectrometry with isobaric peptide labeling (iTRAQ). We identified 451 different proteins expressed in both the SAN and working cardiomyocytes, 166 of which were differentially regulated (110 were upregulated in the SAN and 56 in the working cardiomyocytes). We identified sarcomere structural proteins in both tissues, although they were differently distributed among the tested samples. For example, myosin light chain 4, myosin regulatory light chain 2-atrial isoform, and tropomyosin alpha-3 chain levels were twofold higher in the SAN than in working cardiomyocytes, and myosin light chain 3 and myosin regulatory light chain 2-ventricular/cardiac muscle isoform levels were twofold higher in the ventricle tissue than in SAN. We identified many mitochondrial oxidative phosphorylation, beta-oxidation, and tricarboxylic acid cycle proteins that were predominantly associated with working cardiomyocytes tissue. We detected upregulation of the fatty acid omega activation pathway proteins in the SAN samples. Some proteins specific for smooth muscle tissue were highly upregulated in the SAN (e.g. transgelin), which indicates that the SAN tissue might act as the bridge between the working myocardium and the smooth muscle. Our results show possible implementation of proteomic strategies to identify in-depth functional differences between various heart sub-structures.', 'sentences': [], 'annotations': [{'id': '12', 'infons': {'identifier': '9606', 'type': 'Species'}, 'text': 'human', 'locations': [{'offset': 173, 'length': 5}]}, {'id': '13', 'infons': {'identifier': '9606', 'type': 'Species'}, 'text': 'human', 'locations': [{'offset': 377, 'length': 5}]}, {'id': '14', 'infons': {'identifier': 'MESH:D002318', 'type': 'Disease'}, 'text': 'cardiovascular disease', 'locations': [{'offset': 410, 'length': 22}]}, {'id': '15', 'infons': {'identifier': '4635', 'type': 'Gene', 'ncbi_homologene': '20558'}, 'text': 'myosin light chain 4', 'locations': [{'offset': 938, 'length': 20}]}, {'id': '16', 'infons': {'identifier': '58498', 'type': 'Gene', 'ncbi_homologene': '23290'}, 'text': 'myosin regulatory light chain 2-atrial isoform', 'locations': [{'offset': 960, 'length': 46}]}, {'id': '17', 'infons': {'identifier': '4634', 'type': 'Gene', 'ncbi_homologene': '20099'}, 'text': 'myosin light chain 3', 'locations': [{'offset': 1112, 'length': 20}]}, {'id': '18', 'infons': {'identifier': '4633', 'type': 'Gene', 'ncbi_homologene': '55462'}, 'text': 'myosin regulatory light chain 2-ventricular/cardiac muscle isoform', 'locations': [{'offset': 1137, 'length': 66}]}, {'id': '19', 'infons': {'identifier': 'MESH:D014233', 'type': 'Chemical'}, 'text': 'tricarboxylic acid', 'locations': [{'offset': 1348, 'length': 18}]}, {'id': '20', 'infons': {'identifier': 'MESH:D005227', 'type': 'Chemical'}, 'text': 'fatty acid', 'locations': [{'offset': 1485, 'length': 10}]}, {'id': '21', 'infons': {'identifier': '6876', 'type': 'Gene', 'ncbi_homologene': '2398'}, 'text': 'transgelin', 'locations': [{'offset': 1639, 'length': 10}]}], 'relations': []}]\n",
      "\n",
      "relations\n",
      "[]\n",
      "\n",
      "pmid\n",
      "29484645\n",
      "\n",
      "pmcid\n",
      "None\n",
      "\n",
      "created\n",
      "{'$date': 1643813405108}\n",
      "\n",
      "accessions\n",
      "['disease@MESH:D002318', 'gene@6876', 'gene@4633', 'gene@4635', 'chemical@MESH:D005227', 'species@9606', 'gene@4634', 'chemical@MESH:D014233', 'gene@58498']\n",
      "\n",
      "journal\n",
      "J. Anat.\n",
      "\n",
      "year\n",
      "2018\n",
      "\n",
      "authors\n",
      "['Klimek-Piotrowska W', 'Krawczyk-Ożóg A', 'Suski M', 'Kapusta P', 'Wołkow PP', 'Hołda MK']\n",
      "\n"
     ]
    }
   ],
   "source": [
    "for key in response.keys():\n",
    "    print(key)\n",
    "    print(response[key])\n",
    "    print()"
   ]
  },
  {
   "cell_type": "code",
   "execution_count": 32,
   "id": "773c2edf",
   "metadata": {},
   "outputs": [
    {
     "name": "stdout",
     "output_type": "stream",
     "text": [
      "Index: 0\n",
      "{'infons': {'journal': 'J. Anat.; 2018 Feb 27. doi:10.1111/joa.12798', 'year': '2018', 'type': 'title', 'authors': 'Klimek-Piotrowska W, Krawczyk-Ożóg A, Suski M, Kapusta P, Wołkow PP, Hołda MK', 'section': 'Title'}, 'offset': 0, 'text': 'Comparative iTRAQ analysis of protein abundance in the human sinoatrial node and working cardiomyocytes.', 'sentences': [], 'annotations': [{'id': '1', 'infons': {'identifier': '9606', 'type': 'Species'}, 'text': 'human', 'locations': [{'offset': 55, 'length': 5}]}], 'relations': []}\n",
      "\n",
      "Index: 1\n",
      "{'infons': {'type': 'abstract', 'section': 'Abstract'}, 'offset': 105, 'text': 'Our objective was to assess the changes in protein abundance in the human sinoatrial node (SAN) compared with working cardiomyocytes to identify SAN-specific protein signatures. Four pairs of samples (the SAN and working cardiomyocytes) were obtained postmortem from four human donors with no evidence of cardiovascular disease. We performed protein identification and quantitation using two-dimensional chromatography-tandem mass spectrometry with isobaric peptide labeling (iTRAQ). We identified 451 different proteins expressed in both the SAN and working cardiomyocytes, 166 of which were differentially regulated (110 were upregulated in the SAN and 56 in the working cardiomyocytes). We identified sarcomere structural proteins in both tissues, although they were differently distributed among the tested samples. For example, myosin light chain 4, myosin regulatory light chain 2-atrial isoform, and tropomyosin alpha-3 chain levels were twofold higher in the SAN than in working cardiomyocytes, and myosin light chain 3 and myosin regulatory light chain 2-ventricular/cardiac muscle isoform levels were twofold higher in the ventricle tissue than in SAN. We identified many mitochondrial oxidative phosphorylation, beta-oxidation, and tricarboxylic acid cycle proteins that were predominantly associated with working cardiomyocytes tissue. We detected upregulation of the fatty acid omega activation pathway proteins in the SAN samples. Some proteins specific for smooth muscle tissue were highly upregulated in the SAN (e.g. transgelin), which indicates that the SAN tissue might act as the bridge between the working myocardium and the smooth muscle. Our results show possible implementation of proteomic strategies to identify in-depth functional differences between various heart sub-structures.', 'sentences': [], 'annotations': [{'id': '12', 'infons': {'identifier': '9606', 'type': 'Species'}, 'text': 'human', 'locations': [{'offset': 173, 'length': 5}]}, {'id': '13', 'infons': {'identifier': '9606', 'type': 'Species'}, 'text': 'human', 'locations': [{'offset': 377, 'length': 5}]}, {'id': '14', 'infons': {'identifier': 'MESH:D002318', 'type': 'Disease'}, 'text': 'cardiovascular disease', 'locations': [{'offset': 410, 'length': 22}]}, {'id': '15', 'infons': {'identifier': '4635', 'type': 'Gene', 'ncbi_homologene': '20558'}, 'text': 'myosin light chain 4', 'locations': [{'offset': 938, 'length': 20}]}, {'id': '16', 'infons': {'identifier': '58498', 'type': 'Gene', 'ncbi_homologene': '23290'}, 'text': 'myosin regulatory light chain 2-atrial isoform', 'locations': [{'offset': 960, 'length': 46}]}, {'id': '17', 'infons': {'identifier': '4634', 'type': 'Gene', 'ncbi_homologene': '20099'}, 'text': 'myosin light chain 3', 'locations': [{'offset': 1112, 'length': 20}]}, {'id': '18', 'infons': {'identifier': '4633', 'type': 'Gene', 'ncbi_homologene': '55462'}, 'text': 'myosin regulatory light chain 2-ventricular/cardiac muscle isoform', 'locations': [{'offset': 1137, 'length': 66}]}, {'id': '19', 'infons': {'identifier': 'MESH:D014233', 'type': 'Chemical'}, 'text': 'tricarboxylic acid', 'locations': [{'offset': 1348, 'length': 18}]}, {'id': '20', 'infons': {'identifier': 'MESH:D005227', 'type': 'Chemical'}, 'text': 'fatty acid', 'locations': [{'offset': 1485, 'length': 10}]}, {'id': '21', 'infons': {'identifier': '6876', 'type': 'Gene', 'ncbi_homologene': '2398'}, 'text': 'transgelin', 'locations': [{'offset': 1639, 'length': 10}]}], 'relations': []}\n",
      "\n"
     ]
    }
   ],
   "source": [
    "for i, text in enumerate(response[\"passages\"]):\n",
    "    print(f\"Index: {i}\")\n",
    "    print(text)\n",
    "    print()"
   ]
  }
 ],
 "metadata": {
  "kernelspec": {
   "display_name": "base",
   "language": "python",
   "name": "python3"
  },
  "language_info": {
   "codemirror_mode": {
    "name": "ipython",
    "version": 3
   },
   "file_extension": ".py",
   "mimetype": "text/x-python",
   "name": "python",
   "nbconvert_exporter": "python",
   "pygments_lexer": "ipython3",
   "version": "3.9.13"
  },
  "vscode": {
   "interpreter": {
    "hash": "79732fd3e39fcc86bf7c7aeb079145247bae47b6d1bafa505c129d7881fdf4a2"
   }
  }
 },
 "nbformat": 4,
 "nbformat_minor": 5
}
