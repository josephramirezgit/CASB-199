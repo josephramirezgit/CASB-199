{
 "cells": [
  {
   "attachments": {},
   "cell_type": "markdown",
   "id": "ba5b9af3",
   "metadata": {},
   "source": [
    "# Initial scratch"
   ]
  },
  {
   "cell_type": "code",
   "execution_count": 223,
   "id": "7eca425f",
   "metadata": {},
   "outputs": [],
   "source": [
    "# https://www.ncbi.nlm.nih.gov/research/pubtator/api.html"
   ]
  },
  {
   "cell_type": "code",
   "execution_count": 224,
   "id": "d3b3396d",
   "metadata": {},
   "outputs": [],
   "source": [
    "import requests\n",
    "import json\n",
    "\n",
    "def extract_annotations(annotation):\n",
    "    entity_type = annotation['infons']['type']\n",
    "    start_index = annotation['locations'][0]['offset']\n",
    "    end_index = start_index+annotation['locations'][0]['length']\n",
    "    \n",
    "    return entity_type, [start_index, end_index]"
   ]
  },
  {
   "cell_type": "code",
   "execution_count": 225,
   "id": "9cd10fba",
   "metadata": {},
   "outputs": [],
   "source": [
    "pmids = '28483578,28483579'\n",
    "url = f'https://www.ncbi.nlm.nih.gov/research/pubtator-api/publications/export/biocjson?pmids={pmids}'#&concepts=gene,protein'\n",
    "\n",
    "response = requests.get(url)\n",
    "responses = response.text.split('\\n')"
   ]
  },
  {
   "cell_type": "code",
   "execution_count": 226,
   "id": "fe6d5388",
   "metadata": {},
   "outputs": [
    {
     "name": "stdout",
     "output_type": "stream",
     "text": [
      "6\n",
      "1185\n",
      "9\n",
      "6\n",
      "1419\n",
      "22\n"
     ]
    }
   ],
   "source": [
    "# can also do full text I think, but we need the PMCIDs. \n",
    "# We can get that data later. \n",
    "pmid_to_entity_type_to_indices = dict()\n",
    "pmid_to_indices_to_entity_type = dict()\n",
    "abstracts = []\n",
    "\n",
    "for entry_txt in responses:\n",
    "    if entry_txt == '':\n",
    "        continue\n",
    "    entry = json.loads(entry_txt)\n",
    "    \n",
    "    # PMID\n",
    "    pmid = str(entry['id'])\n",
    "    \n",
    "    # Title\n",
    "    title_section = entry['passages'][0]\n",
    "    title = title_section['text']\n",
    "    title_annotations = title_section['annotations']\n",
    "    # print(title)\n",
    "    # Abstract\n",
    "    abstract_section = entry['passages'][1]\n",
    "    abstract = abstract_section['text']\n",
    "    abstract_annotations = abstract_section['annotations']\n",
    "    abstracts += [abstract]\n",
    "    print(len(abstract_section))\n",
    "    print(len(abstract))\n",
    "    print(len(abstract_annotations))\n",
    "\n",
    "    # Title Annotations\n",
    "    entity_type_to_title_indices = dict()\n",
    "    title_indices_to_entity_type = dict()\n",
    "    for annotation in title_annotations:    \n",
    "        entity_type, indices = extract_annotations(annotation)\n",
    "        entity_type_to_title_indices.setdefault(entity_type,list()).append(indices)\n",
    "        title_indices_to_entity_type[tuple(indices)] = entity_type\n",
    "        \n",
    "    # Abstract Annotations\n",
    "    entity_type_to_abstract_indices = dict() \n",
    "    abstract_indices_to_entity_type = dict()\n",
    "    for annotation in abstract_annotations:\n",
    "        entity_type, indices = extract_annotations(annotation)\n",
    "        entity_type_to_abstract_indices.setdefault(entity_type, list()).append(indices)\n",
    "        abstract_indices_to_entity_type[tuple(indices)] = entity_type\n",
    "        \n",
    "    # PMID->Entities->Indices\n",
    "    pmid_to_entity_type_to_indices[pmid] = dict()\n",
    "    pmid_to_entity_type_to_indices[pmid]['title'] = entity_type_to_title_indices\n",
    "    pmid_to_entity_type_to_indices[pmid]['abstract'] = entity_type_to_abstract_indices\n",
    "    \n",
    "    # PMID->Indices->Entity Type\n",
    "    pmid_to_indices_to_entity_type[pmid] = dict()\n",
    "    pmid_to_indices_to_entity_type[pmid]['title'] = title_indices_to_entity_type\n",
    "    pmid_to_indices_to_entity_type[pmid]['abstract'] = abstract_indices_to_entity_type\n",
    "    \n",
    "    # PMID->Indices->Entity Type->Entity\n",
    "    #...\n",
    "    #..."
   ]
  },
  {
   "cell_type": "code",
   "execution_count": 227,
   "id": "aa07ca96",
   "metadata": {},
   "outputs": [
    {
     "data": {
      "text/plain": [
       "[{'id': '34',\n",
       "  'infons': {'identifier': 'MESH:D014801', 'type': 'Chemical'},\n",
       "  'text': 'vitamin A',\n",
       "  'locations': [{'offset': 202, 'length': 9}]},\n",
       " {'id': '35',\n",
       "  'infons': {'identifier': 'MESH:D008103', 'type': 'Disease'},\n",
       "  'text': 'liver fibrosis',\n",
       "  'locations': [{'offset': 227, 'length': 14}]},\n",
       " {'id': '36',\n",
       "  'infons': {'identifier': '10090', 'type': 'Species'},\n",
       "  'text': 'mice',\n",
       "  'locations': [{'offset': 534, 'length': 4}]},\n",
       " {'id': '37',\n",
       "  'infons': {'identifier': '6182', 'type': 'Species'},\n",
       "  'text': 'Schistosoma japonicum',\n",
       "  'locations': [{'offset': 544, 'length': 21}]},\n",
       " {'id': '38',\n",
       "  'infons': {'identifier': '6182', 'type': 'Species'},\n",
       "  'text': 'S. japonicum',\n",
       "  'locations': [{'offset': 567, 'length': 12}]},\n",
       " {'id': '39',\n",
       "  'infons': {'identifier': 'MESH:D007239', 'type': 'Disease'},\n",
       "  'text': 'infection',\n",
       "  'locations': [{'offset': 581, 'length': 9}]},\n",
       " {'id': '40',\n",
       "  'infons': {'identifier': 'MESH:D005355', 'type': 'Disease'},\n",
       "  'text': 'fibrosis',\n",
       "  'locations': [{'offset': 659, 'length': 8}]},\n",
       " {'id': '41',\n",
       "  'infons': {'identifier': 'MESH:D012554', 'type': 'Disease'},\n",
       "  'text': 'japonicum infection',\n",
       "  'locations': [{'offset': 681, 'length': 19}]},\n",
       " {'id': '42',\n",
       "  'infons': {'identifier': '111364', 'type': 'Gene'},\n",
       "  'text': 'MHC II',\n",
       "  'locations': [{'offset': 772, 'length': 6}]},\n",
       " {'id': '43',\n",
       "  'infons': {'identifier': 'MESH:D012554', 'type': 'Disease'},\n",
       "  'text': 'japonicum infection',\n",
       "  'locations': [{'offset': 809, 'length': 19}]},\n",
       " {'id': '44',\n",
       "  'infons': {'identifier': '111364', 'type': 'Gene'},\n",
       "  'text': 'MHC II',\n",
       "  'locations': [{'offset': 859, 'length': 6}]},\n",
       " {'id': '45',\n",
       "  'infons': {'identifier': '111364', 'type': 'Gene'},\n",
       "  'text': 'MHC II',\n",
       "  'locations': [{'offset': 876, 'length': 6}]},\n",
       " {'id': '46',\n",
       "  'infons': {'identifier': '111364', 'type': 'Gene'},\n",
       "  'text': 'MHC II',\n",
       "  'locations': [{'offset': 992, 'length': 6}]},\n",
       " {'id': '47',\n",
       "  'infons': {'identifier': '111364', 'type': 'Gene'},\n",
       "  'text': 'MHC II',\n",
       "  'locations': [{'offset': 1110, 'length': 6}]},\n",
       " {'id': '48',\n",
       "  'infons': {'identifier': 'MESH:D011223', 'type': 'Chemical'},\n",
       "  'text': 'praziquantel',\n",
       "  'locations': [{'offset': 1202, 'length': 12}]},\n",
       " {'id': '49',\n",
       "  'infons': {'identifier': '111364', 'type': 'Gene'},\n",
       "  'text': 'MHC II',\n",
       "  'locations': [{'offset': 1274, 'length': 6}]},\n",
       " {'id': '50',\n",
       "  'infons': {'identifier': 'MESH:D012554', 'type': 'Disease'},\n",
       "  'text': 'japonicum-infected',\n",
       "  'locations': [{'offset': 1330, 'length': 18}]},\n",
       " {'id': '51',\n",
       "  'infons': {'identifier': '10090', 'type': 'Species'},\n",
       "  'text': 'mice',\n",
       "  'locations': [{'offset': 1349, 'length': 4}]},\n",
       " {'id': '52',\n",
       "  'infons': {'identifier': '111364', 'type': 'Gene'},\n",
       "  'text': 'MHC II',\n",
       "  'locations': [{'offset': 1378, 'length': 6}]},\n",
       " {'id': '53',\n",
       "  'infons': {'identifier': 'MESH:D005355', 'type': 'Disease'},\n",
       "  'text': 'fibrosis',\n",
       "  'locations': [{'offset': 1451, 'length': 8}]},\n",
       " {'id': '54',\n",
       "  'infons': {'identifier': 'MESH:D011223', 'type': 'Chemical'},\n",
       "  'text': 'praziquantel',\n",
       "  'locations': [{'offset': 1509, 'length': 12}]},\n",
       " {'id': '55',\n",
       "  'infons': {'identifier': 'MESH:D005355', 'type': 'Disease'},\n",
       "  'text': 'fibrosis',\n",
       "  'locations': [{'offset': 1527, 'length': 8}]}]"
      ]
     },
     "execution_count": 227,
     "metadata": {},
     "output_type": "execute_result"
    }
   ],
   "source": [
    "abstract_annotations"
   ]
  },
  {
   "cell_type": "code",
   "execution_count": 228,
   "id": "f8b228d4",
   "metadata": {},
   "outputs": [
    {
     "data": {
      "text/plain": [
       "[{'id': '6',\n",
       "  'infons': {'identifier': '111364', 'type': 'Gene'},\n",
       "  'text': 'MHC II',\n",
       "  'locations': [{'offset': 0, 'length': 6}]},\n",
       " {'id': '7',\n",
       "  'infons': {'identifier': '111364', 'type': 'Gene'},\n",
       "  'text': 'MHC II',\n",
       "  'locations': [{'offset': 17, 'length': 6}]},\n",
       " {'id': '8',\n",
       "  'infons': {'identifier': 'MESH:D005355', 'type': 'Disease'},\n",
       "  'text': 'fibrosis',\n",
       "  'locations': [{'offset': 69, 'length': 8}]},\n",
       " {'id': '9',\n",
       "  'infons': {'identifier': '10090', 'type': 'Species'},\n",
       "  'text': 'mice',\n",
       "  'locations': [{'offset': 81, 'length': 4}]},\n",
       " {'id': '10',\n",
       "  'infons': {'identifier': 'MESH:D007239', 'type': 'Disease'},\n",
       "  'text': 'infection',\n",
       "  'locations': [{'offset': 89, 'length': 9}]},\n",
       " {'id': '11',\n",
       "  'infons': {'identifier': '6182', 'type': 'Species'},\n",
       "  'text': 'Schistosoma japonicum',\n",
       "  'locations': [{'offset': 104, 'length': 21}]}]"
      ]
     },
     "execution_count": 228,
     "metadata": {},
     "output_type": "execute_result"
    }
   ],
   "source": [
    "title_annotations"
   ]
  },
  {
   "cell_type": "code",
   "execution_count": 182,
   "id": "02c2f0be",
   "metadata": {},
   "outputs": [
    {
     "data": {
      "text/plain": [
       "{'28483579': {'title': {(83, 97): 'Disease', (101, 120): 'Disease'},\n",
       "  'abstract': {(212, 226): 'Disease',\n",
       "   (238, 246): 'Species',\n",
       "   (252, 287): 'Disease',\n",
       "   (334, 342): 'Species',\n",
       "   (440, 448): 'Species',\n",
       "   (604, 619): 'Disease',\n",
       "   (715, 723): 'Species',\n",
       "   (1091, 1105): 'Disease',\n",
       "   (1210, 1224): 'Disease'}},\n",
       " '28483578': {'title': {(0, 6): 'Gene',\n",
       "   (17, 23): 'Gene',\n",
       "   (69, 77): 'Disease',\n",
       "   (81, 85): 'Species',\n",
       "   (89, 98): 'Disease',\n",
       "   (104, 125): 'Species'},\n",
       "  'abstract': {(202, 211): 'Chemical',\n",
       "   (227, 241): 'Disease',\n",
       "   (534, 538): 'Species',\n",
       "   (544, 565): 'Species',\n",
       "   (567, 579): 'Species',\n",
       "   (581, 590): 'Disease',\n",
       "   (659, 667): 'Disease',\n",
       "   (681, 700): 'Disease',\n",
       "   (772, 778): 'Gene',\n",
       "   (809, 828): 'Disease',\n",
       "   (859, 865): 'Gene',\n",
       "   (876, 882): 'Gene',\n",
       "   (992, 998): 'Gene',\n",
       "   (1110, 1116): 'Gene',\n",
       "   (1202, 1214): 'Chemical',\n",
       "   (1274, 1280): 'Gene',\n",
       "   (1330, 1348): 'Disease',\n",
       "   (1349, 1353): 'Species',\n",
       "   (1378, 1384): 'Gene',\n",
       "   (1451, 1459): 'Disease',\n",
       "   (1509, 1521): 'Chemical',\n",
       "   (1527, 1535): 'Disease'}}}"
      ]
     },
     "execution_count": 182,
     "metadata": {},
     "output_type": "execute_result"
    }
   ],
   "source": [
    "pmid_to_indices_to_entity_type"
   ]
  },
  {
   "cell_type": "code",
   "execution_count": 183,
   "id": "623c08e9",
   "metadata": {},
   "outputs": [
    {
     "data": {
      "text/plain": [
       "2"
      ]
     },
     "execution_count": 183,
     "metadata": {},
     "output_type": "execute_result"
    }
   ],
   "source": [
    "len(pmid_to_indices_to_entity_type)"
   ]
  },
  {
   "cell_type": "code",
   "execution_count": 184,
   "id": "42925e04",
   "metadata": {},
   "outputs": [
    {
     "name": "stdout",
     "output_type": "stream",
     "text": [
      "{'title': {(83, 97): 'Disease', (101, 120): 'Disease'}, 'abstract': {(212, 226): 'Disease', (238, 246): 'Species', (252, 287): 'Disease', (334, 342): 'Species', (440, 448): 'Species', (604, 619): 'Disease', (715, 723): 'Species', (1091, 1105): 'Disease', (1210, 1224): 'Disease'}}\n"
     ]
    }
   ],
   "source": [
    "temp_indices_to_entity_type = list(pmid_to_indices_to_entity_type.values())[0]\n",
    "print(temp_indices_to_entity_type)"
   ]
  },
  {
   "cell_type": "code",
   "execution_count": 185,
   "id": "4812ad1b",
   "metadata": {},
   "outputs": [
    {
     "data": {
      "text/plain": [
       "dict_keys(['title', 'abstract'])"
      ]
     },
     "execution_count": 185,
     "metadata": {},
     "output_type": "execute_result"
    }
   ],
   "source": [
    "temp_indices_to_entity_type.keys()\n",
    "# len(temp_indices_to_entity_type)"
   ]
  },
  {
   "cell_type": "code",
   "execution_count": 186,
   "id": "d75b449e",
   "metadata": {},
   "outputs": [
    {
     "data": {
      "text/plain": [
       "{(83, 97): 'Disease', (101, 120): 'Disease'}"
      ]
     },
     "execution_count": 186,
     "metadata": {},
     "output_type": "execute_result"
    }
   ],
   "source": [
    "temp_titles = temp_indices_to_entity_type['title']\n",
    "temp_titles"
   ]
  },
  {
   "cell_type": "code",
   "execution_count": 187,
   "id": "bed5f519",
   "metadata": {},
   "outputs": [
    {
     "data": {
      "text/plain": [
       "'Liver Fibrosis'"
      ]
     },
     "execution_count": 187,
     "metadata": {},
     "output_type": "execute_result"
    }
   ],
   "source": [
    "temp_title_string = \"Comparison of 2-D Shear Wave Elastography and Transient Elastography for Assessing Liver Fibrosis in Chronic Hepatitis B.\"\n",
    "temp_title_string[83:97]"
   ]
  },
  {
   "cell_type": "code",
   "execution_count": 188,
   "id": "5554771d",
   "metadata": {},
   "outputs": [
    {
     "data": {
      "text/plain": [
       "'Chronic Hepatitis B'"
      ]
     },
     "execution_count": 188,
     "metadata": {},
     "output_type": "execute_result"
    }
   ],
   "source": [
    "temp_title_string[101:120]"
   ]
  },
  {
   "cell_type": "code",
   "execution_count": 189,
   "id": "49ef0ae1",
   "metadata": {},
   "outputs": [
    {
     "data": {
      "text/plain": [
       "{(0, 6): 'Gene',\n",
       " (17, 23): 'Gene',\n",
       " (69, 77): 'Disease',\n",
       " (81, 85): 'Species',\n",
       " (89, 98): 'Disease',\n",
       " (104, 125): 'Species'}"
      ]
     },
     "execution_count": 189,
     "metadata": {},
     "output_type": "execute_result"
    }
   ],
   "source": [
    "temp_title = list(pmid_to_indices_to_entity_type.values())[1]['title']\n",
    "temp_title\n"
   ]
  },
  {
   "cell_type": "code",
   "execution_count": 190,
   "id": "909e1f5f",
   "metadata": {},
   "outputs": [
    {
     "name": "stdout",
     "output_type": "stream",
     "text": [
      "(0, 6) Gene MHC II\n",
      "(17, 23) Gene MHC II\n",
      "(69, 77) Disease fibrosis\n",
      "(81, 85) Species mice\n",
      "(89, 98) Disease infection\n",
      "(104, 125) Species Schistosoma japonicum\n"
     ]
    }
   ],
   "source": [
    "temp_title_string = \"MHC II-, but not MHC II+, hepatic Stellate cells contribute to liver fibrosis of mice in infection with Schistosoma japonicum.\"\n",
    "for idx, etype in temp_title.items():\n",
    "    print(idx,etype,temp_title_string[idx[0]:idx[1]])"
   ]
  },
  {
   "cell_type": "code",
   "execution_count": 191,
   "id": "49b680c2",
   "metadata": {},
   "outputs": [
    {
     "name": "stdout",
     "output_type": "stream",
     "text": [
      "1419\n",
      "(202, 211) Chemical have plas\n",
      "(227, 241) Disease ogeneity, whic\n",
      "(534, 538) Species bros\n",
      "(544, 565) Species sed by S. japonicum i\n",
      "(567, 579) Species ection. Resu\n",
      "(581, 590) Disease s reveale\n",
      "(659, 667) Disease rogenic \n",
      "(681, 700) Disease  japonicum infectio\n",
      "(772, 778) Gene oth tw\n",
      "(809, 828) Disease he proliferation of\n",
      "(859, 865) Gene  only \n",
      "(876, 882) Gene s disp\n",
      "(992, 998) Gene d CIIT\n",
      "(1110, 1116) Gene e expr\n",
      "(1202, 1214) Chemical  japonicum-i\n",
      "(1274, 1280) Gene  were \n",
      "(1330, 1348) Disease is and could be co\n",
      "(1349, 1353) Species side\n",
      "(1378, 1384) Gene  of pr\n",
      "(1451, 1459) Disease \n",
      "(1509, 1521) Chemical \n",
      "(1527, 1535) Disease \n"
     ]
    }
   ],
   "source": [
    "idx_etype = list(pmid_to_indices_to_entity_type.values())[1]['abstract']\n",
    "temp_abstract = abstracts[1]\n",
    "print(len(temp_abstract))\n",
    "for idx, etype in idx_etype.items():\n",
    "    print(idx,etype,temp_abstract[idx[0]:idx[1]])"
   ]
  },
  {
   "cell_type": "code",
   "execution_count": 192,
   "id": "135ec9c7",
   "metadata": {},
   "outputs": [
    {
     "data": {
      "text/plain": [
       "'Hepatic stellate cells (HSCs) are considered as the main effector cells in vitamin A metabolism and liver fibrosis, as well as in hepatic immune regulation. Recently, researches have revealed that HSCs have plasticity and heterogeneity, which depend on their lobular location and whether liver is normal or injured. This research aimed to explore the biological characteristics and heterogeneity of HSCs in mice with Schistosoma japonicum (S. japonicum) infection, and determine the subpopulation of HSCs in pathogenesis of hepatic fibrosis caused by S. japonicum infection. Results revealed that HSCs significantly increased the expressions of MHC II and fibrogenic genes after S. japonicum infection, and could be classified into MHC II+ HSCs and MHC II- HSCs subsets. Both two HSCs populations suppressed the proliferation of activated CD4+T cells, whereas only MHC II- HSCs displayed a myofibroblast-like phenotype. In response to IFN-gamma, HSCs up-regulated the expressions of MHC II and CIITA, while down-regulated the expression of fibrogenic gene Col1. In addition, praziquantel treatment decreased the expressions of fibrogenic genes in MHC II- HSCs. These results confirmed that HSCs from S. japonicum-infected mice have heterogeneity. The MHC II- alpha-SMA+ HSCs were major subsets of HSCs contributing to liver fibrosis and could be considered as a potential target of praziquantel anti-fibrosis treatment.'"
      ]
     },
     "execution_count": 192,
     "metadata": {},
     "output_type": "execute_result"
    }
   ],
   "source": [
    "temp_abstract"
   ]
  },
  {
   "cell_type": "code",
   "execution_count": 193,
   "id": "33beec7e",
   "metadata": {},
   "outputs": [
    {
     "name": "stdout",
     "output_type": "stream",
     "text": [
      "1185\n",
      "1419\n"
     ]
    }
   ],
   "source": [
    "for a in abstracts:\n",
    "    print(len(a))"
   ]
  },
  {
   "cell_type": "code",
   "execution_count": null,
   "id": "21ce5fd3",
   "metadata": {},
   "outputs": [],
   "source": []
  },
  {
   "cell_type": "code",
   "execution_count": null,
   "id": "2f7d80cd",
   "metadata": {},
   "outputs": [],
   "source": []
  },
  {
   "cell_type": "code",
   "execution_count": 194,
   "id": "90b0ae47",
   "metadata": {},
   "outputs": [
    {
     "name": "stdout",
     "output_type": "stream",
     "text": [
      "[\"Could not export data : [ErrorDetail(string='Please submit a list of pmids', code='parameter_exception')]\"]\n"
     ]
    }
   ],
   "source": [
    "import requests\n",
    "url = \"https://www.ncbi.nlm.nih.gov/research/pubtator-api/publications/export/pubtator?pmid=20085714&concepts=chemical\"\n",
    "\n",
    "r = requests.get(url)\n",
    "print(r.text)"
   ]
  },
  {
   "attachments": {},
   "cell_type": "markdown",
   "id": "3478d7e7",
   "metadata": {},
   "source": [
    "# Scratch for 28483578\n",
    "https://pubmed.ncbi.nlm.nih.gov/28483578/"
   ]
  },
  {
   "cell_type": "code",
   "execution_count": 195,
   "id": "b1c9b6f3",
   "metadata": {},
   "outputs": [],
   "source": [
    "import requests "
   ]
  },
  {
   "cell_type": "code",
   "execution_count": 196,
   "id": "366d6bf3",
   "metadata": {},
   "outputs": [],
   "source": [
    "# set url\n",
    "pmids = '29484645'\n",
    "url = f'https://www.ncbi.nlm.nih.gov/research/pubtator-api/publications/export/biocjson?pmids={pmids}&concept=chemical'#&concepts=gene,protein'"
   ]
  },
  {
   "cell_type": "code",
   "execution_count": 197,
   "id": "e5612c05",
   "metadata": {},
   "outputs": [
    {
     "name": "stdout",
     "output_type": "stream",
     "text": [
      "{\"_id\": \"29484645|None\", \"id\": \"29484645\", \"infons\": {}, \"passages\": [{\"infons\": {\"journal\": \"J. Anat.; 2018 Feb 27. doi:10.1111/joa.12798\", \"year\": \"2018\", \"type\": \"title\", \"authors\": \"Klimek-Piotrowska W, Krawczyk-O\\u017c\\u00f3g A, Suski M, Kapusta P, Wo\\u0142kow PP, Ho\\u0142da MK\", \"section\": \"Title\"}, \"offset\": 0, \"text\": \"Comparative iTRAQ analysis of protein abundance in the human sinoatrial node and working cardiomyocytes.\", \"sentences\": [], \"annotations\": [{\"id\": \"1\", \"infons\": {\"identifier\": \"9606\", \"type\": \"Species\"}, \"text\": \"human\", \"locations\": [{\"offset\": 55, \"length\": 5}]}], \"relations\": []}, {\"infons\": {\"type\": \"abstract\", \"section\": \"Abstract\"}, \"offset\": 105, \"text\": \"Our objective was to assess the changes in protein abundance in the human sinoatrial node (SAN) compared with working cardiomyocytes to identify SAN-specific protein signatures. Four pairs of samples (the SAN and working cardiomyocytes) were obtained postmortem from four human donors with no evidence of cardiovascular disease. We performed protein identification and quantitation using two-dimensional chromatography-tandem mass spectrometry with isobaric peptide labeling (iTRAQ). We identified 451 different proteins expressed in both the SAN and working cardiomyocytes, 166 of which were differentially regulated (110 were upregulated in the SAN and 56 in the working cardiomyocytes). We identified sarcomere structural proteins in both tissues, although they were differently distributed among the tested samples. For example, myosin light chain 4, myosin regulatory light chain 2-atrial isoform, and tropomyosin alpha-3 chain levels were twofold higher in the SAN than in working cardiomyocytes, and myosin light chain 3 and myosin regulatory light chain 2-ventricular/cardiac muscle isoform levels were twofold higher in the ventricle tissue than in SAN. We identified many mitochondrial oxidative phosphorylation, beta-oxidation, and tricarboxylic acid cycle proteins that were predominantly associated with working cardiomyocytes tissue. We detected upregulation of the fatty acid omega activation pathway proteins in the SAN samples. Some proteins specific for smooth muscle tissue were highly upregulated in the SAN (e.g. transgelin), which indicates that the SAN tissue might act as the bridge between the working myocardium and the smooth muscle. Our results show possible implementation of proteomic strategies to identify in-depth functional differences between various heart sub-structures.\", \"sentences\": [], \"annotations\": [{\"id\": \"12\", \"infons\": {\"identifier\": \"9606\", \"type\": \"Species\"}, \"text\": \"human\", \"locations\": [{\"offset\": 173, \"length\": 5}]}, {\"id\": \"13\", \"infons\": {\"identifier\": \"9606\", \"type\": \"Species\"}, \"text\": \"human\", \"locations\": [{\"offset\": 377, \"length\": 5}]}, {\"id\": \"14\", \"infons\": {\"identifier\": \"MESH:D002318\", \"type\": \"Disease\"}, \"text\": \"cardiovascular disease\", \"locations\": [{\"offset\": 410, \"length\": 22}]}, {\"id\": \"15\", \"infons\": {\"identifier\": \"4635\", \"type\": \"Gene\", \"ncbi_homologene\": \"20558\"}, \"text\": \"myosin light chain 4\", \"locations\": [{\"offset\": 938, \"length\": 20}]}, {\"id\": \"16\", \"infons\": {\"identifier\": \"58498\", \"type\": \"Gene\", \"ncbi_homologene\": \"23290\"}, \"text\": \"myosin regulatory light chain 2-atrial isoform\", \"locations\": [{\"offset\": 960, \"length\": 46}]}, {\"id\": \"17\", \"infons\": {\"identifier\": \"4634\", \"type\": \"Gene\", \"ncbi_homologene\": \"20099\"}, \"text\": \"myosin light chain 3\", \"locations\": [{\"offset\": 1112, \"length\": 20}]}, {\"id\": \"18\", \"infons\": {\"identifier\": \"4633\", \"type\": \"Gene\", \"ncbi_homologene\": \"55462\"}, \"text\": \"myosin regulatory light chain 2-ventricular/cardiac muscle isoform\", \"locations\": [{\"offset\": 1137, \"length\": 66}]}, {\"id\": \"19\", \"infons\": {\"identifier\": \"MESH:D014233\", \"type\": \"Chemical\"}, \"text\": \"tricarboxylic acid\", \"locations\": [{\"offset\": 1348, \"length\": 18}]}, {\"id\": \"20\", \"infons\": {\"identifier\": \"MESH:D005227\", \"type\": \"Chemical\"}, \"text\": \"fatty acid\", \"locations\": [{\"offset\": 1485, \"length\": 10}]}, {\"id\": \"21\", \"infons\": {\"identifier\": \"6876\", \"type\": \"Gene\", \"ncbi_homologene\": \"2398\"}, \"text\": \"transgelin\", \"locations\": [{\"offset\": 1639, \"length\": 10}]}], \"relations\": []}], \"relations\": [], \"pmid\": 29484645, \"pmcid\": null, \"created\": {\"$date\": 1643813405108}, \"accessions\": [\"disease@MESH:D002318\", \"gene@6876\", \"gene@4633\", \"gene@4635\", \"chemical@MESH:D005227\", \"species@9606\", \"gene@4634\", \"chemical@MESH:D014233\", \"gene@58498\"], \"journal\": \"J. Anat.\", \"year\": 2018, \"authors\": [\"Klimek-Piotrowska W\", \"Krawczyk-O\\u017c\\u00f3g A\", \"Suski M\", \"Kapusta P\", \"Wo\\u0142kow PP\", \"Ho\\u0142da MK\"]}\n",
      "\n"
     ]
    }
   ],
   "source": [
    "# get request\n",
    "r = requests.get(url)\n",
    "print(r.text)"
   ]
  },
  {
   "cell_type": "code",
   "execution_count": 198,
   "id": "0e55018b",
   "metadata": {},
   "outputs": [
    {
     "data": {
      "text/plain": [
       "dict_keys(['_id', 'id', 'infons', 'passages', 'relations', 'pmid', 'pmcid', 'created', 'accessions', 'journal', 'year', 'authors'])"
      ]
     },
     "execution_count": 198,
     "metadata": {},
     "output_type": "execute_result"
    }
   ],
   "source": [
    "# find keys\n",
    "response = r.json()\n",
    "response.keys()"
   ]
  },
  {
   "cell_type": "code",
   "execution_count": 199,
   "id": "32c3dba9",
   "metadata": {},
   "outputs": [
    {
     "name": "stdout",
     "output_type": "stream",
     "text": [
      "_id\n",
      "29484645|None\n",
      "\n",
      "id\n",
      "29484645\n",
      "\n",
      "infons\n",
      "{}\n",
      "\n",
      "passages\n",
      "[{'infons': {'journal': 'J. Anat.; 2018 Feb 27. doi:10.1111/joa.12798', 'year': '2018', 'type': 'title', 'authors': 'Klimek-Piotrowska W, Krawczyk-Ożóg A, Suski M, Kapusta P, Wołkow PP, Hołda MK', 'section': 'Title'}, 'offset': 0, 'text': 'Comparative iTRAQ analysis of protein abundance in the human sinoatrial node and working cardiomyocytes.', 'sentences': [], 'annotations': [{'id': '1', 'infons': {'identifier': '9606', 'type': 'Species'}, 'text': 'human', 'locations': [{'offset': 55, 'length': 5}]}], 'relations': []}, {'infons': {'type': 'abstract', 'section': 'Abstract'}, 'offset': 105, 'text': 'Our objective was to assess the changes in protein abundance in the human sinoatrial node (SAN) compared with working cardiomyocytes to identify SAN-specific protein signatures. Four pairs of samples (the SAN and working cardiomyocytes) were obtained postmortem from four human donors with no evidence of cardiovascular disease. We performed protein identification and quantitation using two-dimensional chromatography-tandem mass spectrometry with isobaric peptide labeling (iTRAQ). We identified 451 different proteins expressed in both the SAN and working cardiomyocytes, 166 of which were differentially regulated (110 were upregulated in the SAN and 56 in the working cardiomyocytes). We identified sarcomere structural proteins in both tissues, although they were differently distributed among the tested samples. For example, myosin light chain 4, myosin regulatory light chain 2-atrial isoform, and tropomyosin alpha-3 chain levels were twofold higher in the SAN than in working cardiomyocytes, and myosin light chain 3 and myosin regulatory light chain 2-ventricular/cardiac muscle isoform levels were twofold higher in the ventricle tissue than in SAN. We identified many mitochondrial oxidative phosphorylation, beta-oxidation, and tricarboxylic acid cycle proteins that were predominantly associated with working cardiomyocytes tissue. We detected upregulation of the fatty acid omega activation pathway proteins in the SAN samples. Some proteins specific for smooth muscle tissue were highly upregulated in the SAN (e.g. transgelin), which indicates that the SAN tissue might act as the bridge between the working myocardium and the smooth muscle. Our results show possible implementation of proteomic strategies to identify in-depth functional differences between various heart sub-structures.', 'sentences': [], 'annotations': [{'id': '12', 'infons': {'identifier': '9606', 'type': 'Species'}, 'text': 'human', 'locations': [{'offset': 173, 'length': 5}]}, {'id': '13', 'infons': {'identifier': '9606', 'type': 'Species'}, 'text': 'human', 'locations': [{'offset': 377, 'length': 5}]}, {'id': '14', 'infons': {'identifier': 'MESH:D002318', 'type': 'Disease'}, 'text': 'cardiovascular disease', 'locations': [{'offset': 410, 'length': 22}]}, {'id': '15', 'infons': {'identifier': '4635', 'type': 'Gene', 'ncbi_homologene': '20558'}, 'text': 'myosin light chain 4', 'locations': [{'offset': 938, 'length': 20}]}, {'id': '16', 'infons': {'identifier': '58498', 'type': 'Gene', 'ncbi_homologene': '23290'}, 'text': 'myosin regulatory light chain 2-atrial isoform', 'locations': [{'offset': 960, 'length': 46}]}, {'id': '17', 'infons': {'identifier': '4634', 'type': 'Gene', 'ncbi_homologene': '20099'}, 'text': 'myosin light chain 3', 'locations': [{'offset': 1112, 'length': 20}]}, {'id': '18', 'infons': {'identifier': '4633', 'type': 'Gene', 'ncbi_homologene': '55462'}, 'text': 'myosin regulatory light chain 2-ventricular/cardiac muscle isoform', 'locations': [{'offset': 1137, 'length': 66}]}, {'id': '19', 'infons': {'identifier': 'MESH:D014233', 'type': 'Chemical'}, 'text': 'tricarboxylic acid', 'locations': [{'offset': 1348, 'length': 18}]}, {'id': '20', 'infons': {'identifier': 'MESH:D005227', 'type': 'Chemical'}, 'text': 'fatty acid', 'locations': [{'offset': 1485, 'length': 10}]}, {'id': '21', 'infons': {'identifier': '6876', 'type': 'Gene', 'ncbi_homologene': '2398'}, 'text': 'transgelin', 'locations': [{'offset': 1639, 'length': 10}]}], 'relations': []}]\n",
      "\n",
      "relations\n",
      "[]\n",
      "\n",
      "pmid\n",
      "29484645\n",
      "\n",
      "pmcid\n",
      "None\n",
      "\n",
      "created\n",
      "{'$date': 1643813405108}\n",
      "\n",
      "accessions\n",
      "['disease@MESH:D002318', 'gene@6876', 'gene@4633', 'gene@4635', 'chemical@MESH:D005227', 'species@9606', 'gene@4634', 'chemical@MESH:D014233', 'gene@58498']\n",
      "\n",
      "journal\n",
      "J. Anat.\n",
      "\n",
      "year\n",
      "2018\n",
      "\n",
      "authors\n",
      "['Klimek-Piotrowska W', 'Krawczyk-Ożóg A', 'Suski M', 'Kapusta P', 'Wołkow PP', 'Hołda MK']\n",
      "\n"
     ]
    }
   ],
   "source": [
    "for key in response.keys():\n",
    "    print(key)\n",
    "    print(response[key])\n",
    "    print()"
   ]
  },
  {
   "cell_type": "code",
   "execution_count": 200,
   "id": "773c2edf",
   "metadata": {},
   "outputs": [
    {
     "name": "stdout",
     "output_type": "stream",
     "text": [
      "Index: 0\n",
      "{'infons': {'journal': 'J. Anat.; 2018 Feb 27. doi:10.1111/joa.12798', 'year': '2018', 'type': 'title', 'authors': 'Klimek-Piotrowska W, Krawczyk-Ożóg A, Suski M, Kapusta P, Wołkow PP, Hołda MK', 'section': 'Title'}, 'offset': 0, 'text': 'Comparative iTRAQ analysis of protein abundance in the human sinoatrial node and working cardiomyocytes.', 'sentences': [], 'annotations': [{'id': '1', 'infons': {'identifier': '9606', 'type': 'Species'}, 'text': 'human', 'locations': [{'offset': 55, 'length': 5}]}], 'relations': []}\n",
      "\n",
      "Index: 1\n",
      "{'infons': {'type': 'abstract', 'section': 'Abstract'}, 'offset': 105, 'text': 'Our objective was to assess the changes in protein abundance in the human sinoatrial node (SAN) compared with working cardiomyocytes to identify SAN-specific protein signatures. Four pairs of samples (the SAN and working cardiomyocytes) were obtained postmortem from four human donors with no evidence of cardiovascular disease. We performed protein identification and quantitation using two-dimensional chromatography-tandem mass spectrometry with isobaric peptide labeling (iTRAQ). We identified 451 different proteins expressed in both the SAN and working cardiomyocytes, 166 of which were differentially regulated (110 were upregulated in the SAN and 56 in the working cardiomyocytes). We identified sarcomere structural proteins in both tissues, although they were differently distributed among the tested samples. For example, myosin light chain 4, myosin regulatory light chain 2-atrial isoform, and tropomyosin alpha-3 chain levels were twofold higher in the SAN than in working cardiomyocytes, and myosin light chain 3 and myosin regulatory light chain 2-ventricular/cardiac muscle isoform levels were twofold higher in the ventricle tissue than in SAN. We identified many mitochondrial oxidative phosphorylation, beta-oxidation, and tricarboxylic acid cycle proteins that were predominantly associated with working cardiomyocytes tissue. We detected upregulation of the fatty acid omega activation pathway proteins in the SAN samples. Some proteins specific for smooth muscle tissue were highly upregulated in the SAN (e.g. transgelin), which indicates that the SAN tissue might act as the bridge between the working myocardium and the smooth muscle. Our results show possible implementation of proteomic strategies to identify in-depth functional differences between various heart sub-structures.', 'sentences': [], 'annotations': [{'id': '12', 'infons': {'identifier': '9606', 'type': 'Species'}, 'text': 'human', 'locations': [{'offset': 173, 'length': 5}]}, {'id': '13', 'infons': {'identifier': '9606', 'type': 'Species'}, 'text': 'human', 'locations': [{'offset': 377, 'length': 5}]}, {'id': '14', 'infons': {'identifier': 'MESH:D002318', 'type': 'Disease'}, 'text': 'cardiovascular disease', 'locations': [{'offset': 410, 'length': 22}]}, {'id': '15', 'infons': {'identifier': '4635', 'type': 'Gene', 'ncbi_homologene': '20558'}, 'text': 'myosin light chain 4', 'locations': [{'offset': 938, 'length': 20}]}, {'id': '16', 'infons': {'identifier': '58498', 'type': 'Gene', 'ncbi_homologene': '23290'}, 'text': 'myosin regulatory light chain 2-atrial isoform', 'locations': [{'offset': 960, 'length': 46}]}, {'id': '17', 'infons': {'identifier': '4634', 'type': 'Gene', 'ncbi_homologene': '20099'}, 'text': 'myosin light chain 3', 'locations': [{'offset': 1112, 'length': 20}]}, {'id': '18', 'infons': {'identifier': '4633', 'type': 'Gene', 'ncbi_homologene': '55462'}, 'text': 'myosin regulatory light chain 2-ventricular/cardiac muscle isoform', 'locations': [{'offset': 1137, 'length': 66}]}, {'id': '19', 'infons': {'identifier': 'MESH:D014233', 'type': 'Chemical'}, 'text': 'tricarboxylic acid', 'locations': [{'offset': 1348, 'length': 18}]}, {'id': '20', 'infons': {'identifier': 'MESH:D005227', 'type': 'Chemical'}, 'text': 'fatty acid', 'locations': [{'offset': 1485, 'length': 10}]}, {'id': '21', 'infons': {'identifier': '6876', 'type': 'Gene', 'ncbi_homologene': '2398'}, 'text': 'transgelin', 'locations': [{'offset': 1639, 'length': 10}]}], 'relations': []}\n",
      "\n"
     ]
    }
   ],
   "source": [
    "for i, text in enumerate(response[\"passages\"]):\n",
    "    print(f\"Index: {i}\")\n",
    "    print(text)\n",
    "    print()"
   ]
  },
  {
   "attachments": {},
   "cell_type": "markdown",
   "id": "08909c11",
   "metadata": {},
   "source": [
    "# Pipeline"
   ]
  },
  {
   "attachments": {},
   "cell_type": "markdown",
   "id": "e2152e2c",
   "metadata": {},
   "source": [
    "Collect report for one PMID"
   ]
  },
  {
   "cell_type": "code",
   "execution_count": 201,
   "id": "521bf3ff",
   "metadata": {},
   "outputs": [],
   "source": [
    "import requests\n",
    "import json\n",
    "import pandas as pd"
   ]
  },
  {
   "attachments": {},
   "cell_type": "markdown",
   "id": "cbe11bd6",
   "metadata": {},
   "source": [
    "PXD: PXD024135\\\n",
    "PMID: 34806902\\\n",
    "PMCID: PMC8687617"
   ]
  },
  {
   "cell_type": "code",
   "execution_count": 202,
   "id": "485df7bb",
   "metadata": {},
   "outputs": [],
   "source": [
    "# Load in one PMID \n",
    "pmids = '34806902'\n",
    "url = f'https://www.ncbi.nlm.nih.gov/research/pubtator-api/publications/export/biocjson?pmids={pmids}'#&concepts=gene,protein'\n",
    "response = requests.get(url)\n",
    "responses = response.text.split('\\n')"
   ]
  },
  {
   "cell_type": "code",
   "execution_count": 203,
   "id": "45b77f9b",
   "metadata": {},
   "outputs": [
    {
     "name": "stdout",
     "output_type": "stream",
     "text": [
      "6\n",
      "2302\n",
      "33\n"
     ]
    }
   ],
   "source": [
    "# Using Dylan's code (this block), we can extract most of the keywords\n",
    "def extract_annotations(annotation):\n",
    "    entity_type = annotation['infons']['type']\n",
    "    start_index = annotation['locations'][0]['offset']\n",
    "    end_index = start_index+annotation['locations'][0]['length']\n",
    "    \n",
    "    return entity_type, [start_index, end_index]\n",
    "\n",
    "pmid_to_entity_type_to_indices = dict()\n",
    "pmid_to_indices_to_entity_type = dict()\n",
    "abstracts = []\n",
    "\n",
    "for entry_txt in responses:\n",
    "    if entry_txt == '':\n",
    "        continue\n",
    "    entry = json.loads(entry_txt)\n",
    "    \n",
    "    # PMID\n",
    "    pmid = str(entry['id'])\n",
    "    \n",
    "    # Title\n",
    "    title_section = entry['passages'][0]\n",
    "    title = title_section['text']\n",
    "    title_annotations = title_section['annotations']\n",
    "    # print(title)\n",
    "    # Abstract\n",
    "    abstract_section = entry['passages'][1]\n",
    "    abstract = abstract_section['text']\n",
    "    abstract_annotations = abstract_section['annotations']\n",
    "    abstracts += [abstract]\n",
    "    print(len(abstract_section))\n",
    "    print(len(abstract))\n",
    "    print(len(abstract_annotations))\n",
    "\n",
    "    # Title Annotations\n",
    "    entity_type_to_title_indices = dict()\n",
    "    title_indices_to_entity_type = dict()\n",
    "    for annotation in title_annotations:    \n",
    "        entity_type, indices = extract_annotations(annotation)\n",
    "        entity_type_to_title_indices.setdefault(entity_type,list()).append(indices)\n",
    "        title_indices_to_entity_type[tuple(indices)] = entity_type\n",
    "        \n",
    "    # Abstract Annotations\n",
    "    entity_type_to_abstract_indices = dict() \n",
    "    abstract_indices_to_entity_type = dict()\n",
    "    for annotation in abstract_annotations:\n",
    "        entity_type, indices = extract_annotations(annotation)\n",
    "        entity_type_to_abstract_indices.setdefault(entity_type, list()).append(indices)\n",
    "        abstract_indices_to_entity_type[tuple(indices)] = entity_type\n",
    "        \n",
    "    # PMID->Entities->Indices\n",
    "    pmid_to_entity_type_to_indices[pmid] = dict()\n",
    "    pmid_to_entity_type_to_indices[pmid]['title'] = entity_type_to_title_indices\n",
    "    pmid_to_entity_type_to_indices[pmid]['abstract'] = entity_type_to_abstract_indices\n",
    "    \n",
    "    # PMID->Indices->Entity Type\n",
    "    pmid_to_indices_to_entity_type[pmid] = dict()\n",
    "    pmid_to_indices_to_entity_type[pmid]['title'] = title_indices_to_entity_type\n",
    "    pmid_to_indices_to_entity_type[pmid]['abstract'] = abstract_indices_to_entity_type\n",
    "    \n",
    "    # PMID->Indices->Entity Type->Entity\n",
    "    #...\n",
    "    #..."
   ]
  },
  {
   "cell_type": "code",
   "execution_count": 204,
   "id": "5d936c20",
   "metadata": {},
   "outputs": [
    {
     "name": "stdout",
     "output_type": "stream",
     "text": [
      "{'title': {(55, 62): 'Gene'}, 'abstract': {(155, 180): 'Disease', (229, 235): 'Species', (265, 272): 'Gene', (274, 338): 'Gene', (379, 386): 'Gene', (395, 415): 'Chemical', (476, 483): 'Gene', (575, 579): 'Species', (612, 619): 'Gene', (621, 628): 'Gene', (719, 727): 'Species', (926, 934): 'Species', (936, 945): 'Chemical', (986, 1002): 'Disease', (1029, 1035): 'Species', (1065, 1071): 'Gene', (1086, 1093): 'Gene', (1098, 1102): 'Species', (1104, 1110): 'Gene', (1168, 1183): 'Chemical', (1233, 1248): 'Gene', (1250, 1259): 'Gene', (1264, 1275): 'Gene', (1309, 1316): 'Gene', (1321, 1325): 'Species', (1411, 1417): 'Gene', (1428, 1447): 'Disease', (1600, 1608): 'Species', (1809, 1834): 'Gene', (1923, 1931): 'Species', (2041, 2049): 'Species', (2182, 2207): 'Disease', (2276, 2284): 'Species'}}\n"
     ]
    }
   ],
   "source": [
    "# Look at entity types \n",
    "temp_indices_to_entity_type = list(pmid_to_indices_to_entity_type.values())[0]\n",
    "print(temp_indices_to_entity_type)"
   ]
  },
  {
   "cell_type": "code",
   "execution_count": 205,
   "id": "160165bf",
   "metadata": {},
   "outputs": [
    {
     "data": {
      "text/plain": [
       "dict_keys(['title', 'abstract'])"
      ]
     },
     "execution_count": 205,
     "metadata": {},
     "output_type": "execute_result"
    }
   ],
   "source": [
    "# Examine key types\n",
    "temp_indices_to_entity_type.keys()"
   ]
  },
  {
   "cell_type": "code",
   "execution_count": 206,
   "id": "4dfa9eba",
   "metadata": {},
   "outputs": [
    {
     "name": "stdout",
     "output_type": "stream",
     "text": [
      "{(55, 62): 'Gene'}\n",
      "{(155, 180): 'Disease', (229, 235): 'Species', (265, 272): 'Gene', (274, 338): 'Gene', (379, 386): 'Gene', (395, 415): 'Chemical', (476, 483): 'Gene', (575, 579): 'Species', (612, 619): 'Gene', (621, 628): 'Gene', (719, 727): 'Species', (926, 934): 'Species', (936, 945): 'Chemical', (986, 1002): 'Disease', (1029, 1035): 'Species', (1065, 1071): 'Gene', (1086, 1093): 'Gene', (1098, 1102): 'Species', (1104, 1110): 'Gene', (1168, 1183): 'Chemical', (1233, 1248): 'Gene', (1250, 1259): 'Gene', (1264, 1275): 'Gene', (1309, 1316): 'Gene', (1321, 1325): 'Species', (1411, 1417): 'Gene', (1428, 1447): 'Disease', (1600, 1608): 'Species', (1809, 1834): 'Gene', (1923, 1931): 'Species', (2041, 2049): 'Species', (2182, 2207): 'Disease', (2276, 2284): 'Species'}\n"
     ]
    }
   ],
   "source": [
    "# Examine keys in title\n",
    "title_keys = temp_indices_to_entity_type[\"title\"]\n",
    "print(title_keys)\n",
    "# Examine keys in abstract\n",
    "abstract_keys = temp_indices_to_entity_type[\"abstract\"]\n",
    "print(abstract_keys)"
   ]
  },
  {
   "cell_type": "code",
   "execution_count": 207,
   "id": "f102d15f",
   "metadata": {},
   "outputs": [
    {
     "data": {
      "text/html": [
       "<div>\n",
       "<style scoped>\n",
       "    .dataframe tbody tr th:only-of-type {\n",
       "        vertical-align: middle;\n",
       "    }\n",
       "\n",
       "    .dataframe tbody tr th {\n",
       "        vertical-align: top;\n",
       "    }\n",
       "\n",
       "    .dataframe thead th {\n",
       "        text-align: right;\n",
       "    }\n",
       "</style>\n",
       "<table border=\"1\" class=\"dataframe\">\n",
       "  <thead>\n",
       "    <tr style=\"text-align: right;\">\n",
       "      <th></th>\n",
       "      <th>entity</th>\n",
       "      <th>end</th>\n",
       "      <th>entity-type</th>\n",
       "      <th>start</th>\n",
       "    </tr>\n",
       "  </thead>\n",
       "  <tbody>\n",
       "    <tr>\n",
       "      <th>0</th>\n",
       "      <td>Adamts5</td>\n",
       "      <td>62</td>\n",
       "      <td>Gene</td>\n",
       "      <td>55</td>\n",
       "    </tr>\n",
       "  </tbody>\n",
       "</table>\n",
       "</div>"
      ],
      "text/plain": [
       "    entity end entity-type start\n",
       "0  Adamts5  62        Gene    55"
      ]
     },
     "execution_count": 207,
     "metadata": {},
     "output_type": "execute_result"
    }
   ],
   "source": [
    "# Look into title keys\n",
    "title_dict = {}\n",
    "for key in title_keys:\n",
    "    title_attrib_dict = {}\n",
    "    start, end = key[0], key[1]\n",
    "    entity = title_keys[key]\n",
    "    entity_text = title[start:end]\n",
    "    title_attrib_dict[\"start\"] = int(start)\n",
    "    title_attrib_dict[\"end\"] = int(end)\n",
    "    title_attrib_dict[\"entity-type\"] = entity\n",
    "    title_dict[entity_text] = title_attrib_dict\n",
    "\n",
    "title_df = pd.DataFrame(title_dict)\n",
    "title_df = title_df.transpose()\n",
    "title_df = title_df.reset_index()\n",
    "title_df = title_df.rename(columns={\"index\": \"entity\"})\n",
    "title_df"
   ]
  },
  {
   "cell_type": "code",
   "execution_count": 208,
   "id": "4b0f9197",
   "metadata": {},
   "outputs": [
    {
     "data": {
      "text/html": [
       "<div>\n",
       "<style scoped>\n",
       "    .dataframe tbody tr th:only-of-type {\n",
       "        vertical-align: middle;\n",
       "    }\n",
       "\n",
       "    .dataframe tbody tr th {\n",
       "        vertical-align: top;\n",
       "    }\n",
       "\n",
       "    .dataframe thead th {\n",
       "        text-align: right;\n",
       "    }\n",
       "</style>\n",
       "<table border=\"1\" class=\"dataframe\">\n",
       "  <thead>\n",
       "    <tr style=\"text-align: right;\">\n",
       "      <th></th>\n",
       "      <th>entity</th>\n",
       "      <th>start</th>\n",
       "      <th>end</th>\n",
       "      <th>entity-type</th>\n",
       "    </tr>\n",
       "  </thead>\n",
       "  <tbody>\n",
       "    <tr>\n",
       "      <th>0</th>\n",
       "      <td>roblasts returned ADAMTS5</td>\n",
       "      <td>155</td>\n",
       "      <td>180</td>\n",
       "      <td>Disease</td>\n",
       "    </tr>\n",
       "    <tr>\n",
       "      <th>1</th>\n",
       "      <td>ospond</td>\n",
       "      <td>229</td>\n",
       "      <td>235</td>\n",
       "      <td>Species</td>\n",
       "    </tr>\n",
       "    <tr>\n",
       "      <th>2</th>\n",
       "      <td>t abund</td>\n",
       "      <td>265</td>\n",
       "      <td>272</td>\n",
       "      <td>Gene</td>\n",
       "    </tr>\n",
       "    <tr>\n",
       "      <th>3</th>\n",
       "      <td>t proteases. ADAMTS5 cleaves chondroitin sulph...</td>\n",
       "      <td>274</td>\n",
       "      <td>338</td>\n",
       "      <td>Gene</td>\n",
       "    </tr>\n",
       "    <tr>\n",
       "      <th>4</th>\n",
       "      <td>n of AD</td>\n",
       "      <td>379</td>\n",
       "      <td>386</td>\n",
       "      <td>Gene</td>\n",
       "    </tr>\n",
       "    <tr>\n",
       "      <th>5</th>\n",
       "      <td>its substrate versi</td>\n",
       "      <td>395</td>\n",
       "      <td>415</td>\n",
       "      <td>Chemical</td>\n",
       "    </tr>\n",
       "    <tr>\n",
       "      <th>6</th>\n",
       "      <td>sed in</td>\n",
       "      <td>476</td>\n",
       "      <td>483</td>\n",
       "      <td>Gene</td>\n",
       "    </tr>\n",
       "    <tr>\n",
       "      <th>7</th>\n",
       "      <td>ECM</td>\n",
       "      <td>575</td>\n",
       "      <td>579</td>\n",
       "      <td>Species</td>\n",
       "    </tr>\n",
       "    <tr>\n",
       "      <th>8</th>\n",
       "      <td>amples</td>\n",
       "      <td>612</td>\n",
       "      <td>619</td>\n",
       "      <td>Gene</td>\n",
       "    </tr>\n",
       "    <tr>\n",
       "      <th>9</th>\n",
       "      <td>om HF p</td>\n",
       "      <td>621</td>\n",
       "      <td>628</td>\n",
       "      <td>Gene</td>\n",
       "    </tr>\n",
       "    <tr>\n",
       "      <th>10</th>\n",
       "      <td>t of HF.</td>\n",
       "      <td>719</td>\n",
       "      <td>727</td>\n",
       "      <td>Species</td>\n",
       "    </tr>\n",
       "    <tr>\n",
       "      <th>11</th>\n",
       "      <td>ury and</td>\n",
       "      <td>926</td>\n",
       "      <td>934</td>\n",
       "      <td>Species</td>\n",
       "    </tr>\n",
       "    <tr>\n",
       "      <th>12</th>\n",
       "      <td>murine h</td>\n",
       "      <td>936</td>\n",
       "      <td>945</td>\n",
       "      <td>Chemical</td>\n",
       "    </tr>\n",
       "    <tr>\n",
       "      <th>13</th>\n",
       "      <td>ion. In Adamts5</td>\n",
       "      <td>986</td>\n",
       "      <td>1002</td>\n",
       "      <td>Disease</td>\n",
       "    </tr>\n",
       "    <tr>\n",
       "      <th>14</th>\n",
       "      <td>esulte</td>\n",
       "      <td>1029</td>\n",
       "      <td>1035</td>\n",
       "      <td>Species</td>\n",
       "    </tr>\n",
       "    <tr>\n",
       "      <th>15</th>\n",
       "      <td>ild-up</td>\n",
       "      <td>1065</td>\n",
       "      <td>1071</td>\n",
       "      <td>Gene</td>\n",
       "    </tr>\n",
       "    <tr>\n",
       "      <th>16</th>\n",
       "      <td>acid d</td>\n",
       "      <td>1086</td>\n",
       "      <td>1093</td>\n",
       "      <td>Gene</td>\n",
       "    </tr>\n",
       "    <tr>\n",
       "      <th>17</th>\n",
       "      <td>ange</td>\n",
       "      <td>1098</td>\n",
       "      <td>1102</td>\n",
       "      <td>Species</td>\n",
       "    </tr>\n",
       "    <tr>\n",
       "      <th>18</th>\n",
       "      <td>nt, ac</td>\n",
       "      <td>1104</td>\n",
       "      <td>1110</td>\n",
       "      <td>Gene</td>\n",
       "    </tr>\n",
       "    <tr>\n",
       "      <th>19</th>\n",
       "      <td>and connexin 43</td>\n",
       "      <td>1168</td>\n",
       "      <td>1183</td>\n",
       "      <td>Chemical</td>\n",
       "    </tr>\n",
       "    <tr>\n",
       "      <th>20</th>\n",
       "      <td>revealed a red</td>\n",
       "      <td>1233</td>\n",
       "      <td>1248</td>\n",
       "      <td>Gene</td>\n",
       "    </tr>\n",
       "    <tr>\n",
       "      <th>21</th>\n",
       "      <td>ed ejecti</td>\n",
       "      <td>1250</td>\n",
       "      <td>1259</td>\n",
       "      <td>Gene</td>\n",
       "    </tr>\n",
       "    <tr>\n",
       "      <th>22</th>\n",
       "      <td>action and</td>\n",
       "      <td>1264</td>\n",
       "      <td>1275</td>\n",
       "      <td>Gene</td>\n",
       "    </tr>\n",
       "    <tr>\n",
       "      <th>23</th>\n",
       "      <td>rain up</td>\n",
       "      <td>1309</td>\n",
       "      <td>1316</td>\n",
       "      <td>Gene</td>\n",
       "    </tr>\n",
       "    <tr>\n",
       "      <th>24</th>\n",
       "      <td>g II</td>\n",
       "      <td>1321</td>\n",
       "      <td>1325</td>\n",
       "      <td>Species</td>\n",
       "    </tr>\n",
       "    <tr>\n",
       "      <th>25</th>\n",
       "      <td>rmate</td>\n",
       "      <td>1411</td>\n",
       "      <td>1417</td>\n",
       "      <td>Gene</td>\n",
       "    </tr>\n",
       "    <tr>\n",
       "      <th>26</th>\n",
       "      <td>n a proteomics anal</td>\n",
       "      <td>1428</td>\n",
       "      <td>1447</td>\n",
       "      <td>Disease</td>\n",
       "    </tr>\n",
       "    <tr>\n",
       "      <th>27</th>\n",
       "      <td>with ve</td>\n",
       "      <td>1600</td>\n",
       "      <td>1608</td>\n",
       "      <td>Species</td>\n",
       "    </tr>\n",
       "    <tr>\n",
       "      <th>28</th>\n",
       "      <td>l characteristics, HF pat</td>\n",
       "      <td>1809</td>\n",
       "      <td>1834</td>\n",
       "      <td>Gene</td>\n",
       "    </tr>\n",
       "    <tr>\n",
       "      <th>29</th>\n",
       "      <td>ults in</td>\n",
       "      <td>1923</td>\n",
       "      <td>1931</td>\n",
       "      <td>Species</td>\n",
       "    </tr>\n",
       "    <tr>\n",
       "      <th>30</th>\n",
       "      <td>nd that</td>\n",
       "      <td>2041</td>\n",
       "      <td>2049</td>\n",
       "      <td>Species</td>\n",
       "    </tr>\n",
       "    <tr>\n",
       "      <th>31</th>\n",
       "      <td>F patients revealed that</td>\n",
       "      <td>2182</td>\n",
       "      <td>2207</td>\n",
       "      <td>Disease</td>\n",
       "    </tr>\n",
       "    <tr>\n",
       "      <th>32</th>\n",
       "      <td>the car</td>\n",
       "      <td>2276</td>\n",
       "      <td>2284</td>\n",
       "      <td>Species</td>\n",
       "    </tr>\n",
       "  </tbody>\n",
       "</table>\n",
       "</div>"
      ],
      "text/plain": [
       "                                               entity start   end entity-type\n",
       "0                           roblasts returned ADAMTS5   155   180     Disease\n",
       "1                                              ospond   229   235     Species\n",
       "2                                             t abund   265   272        Gene\n",
       "3   t proteases. ADAMTS5 cleaves chondroitin sulph...   274   338        Gene\n",
       "4                                             n of AD   379   386        Gene\n",
       "5                                 its substrate versi   395   415    Chemical\n",
       "6                                             sed in    476   483        Gene\n",
       "7                                                ECM    575   579     Species\n",
       "8                                             amples    612   619        Gene\n",
       "9                                             om HF p   621   628        Gene\n",
       "10                                           t of HF.   719   727     Species\n",
       "11                                           ury and    926   934     Species\n",
       "12                                           murine h   936   945    Chemical\n",
       "13                                   ion. In Adamts5    986  1002     Disease\n",
       "14                                             esulte  1029  1035     Species\n",
       "15                                             ild-up  1065  1071        Gene\n",
       "16                                             acid d  1086  1093        Gene\n",
       "17                                               ange  1098  1102     Species\n",
       "18                                             nt, ac  1104  1110        Gene\n",
       "19                                    and connexin 43  1168  1183    Chemical\n",
       "20                                     revealed a red  1233  1248        Gene\n",
       "21                                          ed ejecti  1250  1259        Gene\n",
       "22                                        action and   1264  1275        Gene\n",
       "23                                            rain up  1309  1316        Gene\n",
       "24                                               g II  1321  1325     Species\n",
       "25                                             rmate   1411  1417        Gene\n",
       "26                                n a proteomics anal  1428  1447     Disease\n",
       "27                                            with ve  1600  1608     Species\n",
       "28                          l characteristics, HF pat  1809  1834        Gene\n",
       "29                                           ults in   1923  1931     Species\n",
       "30                                           nd that   2041  2049     Species\n",
       "31                          F patients revealed that   2182  2207     Disease\n",
       "32                                            the car  2276  2284     Species"
      ]
     },
     "execution_count": 208,
     "metadata": {},
     "output_type": "execute_result"
    }
   ],
   "source": [
    "# Look into abstract keys\n",
    "abstract_dict = {}\n",
    "for key in abstract_keys:\n",
    "    abstract_attrib_dict = {}\n",
    "    start, end = key[0], key[1]\n",
    "    entity = abstract_keys[key]\n",
    "    entity_text = abstract[start:end]\n",
    "    abstract_attrib_dict[\"start\"] = int(start)\n",
    "    abstract_attrib_dict[\"end\"] = int(end)\n",
    "    abstract_attrib_dict[\"entity-type\"] = entity\n",
    "    abstract_dict[entity_text] = abstract_attrib_dict\n",
    "\n",
    "abstract_df = pd.DataFrame(abstract_dict)\n",
    "abstract_df = abstract_df.transpose()\n",
    "abstract_df = abstract_df.reset_index()\n",
    "abstract_df = abstract_df.rename(columns={\"index\": \"entity\"})\n",
    "abstract_df"
   ]
  },
  {
   "attachments": {},
   "cell_type": "markdown",
   "id": "c7a0bbc8",
   "metadata": {},
   "source": [
    "# Compare to sci-spaCy"
   ]
  },
  {
   "cell_type": "code",
   "execution_count": 209,
   "id": "b0db4450",
   "metadata": {},
   "outputs": [],
   "source": [
    "import scispacy\n",
    "import spacy\n",
    "import en_ner_bionlp13cg_md"
   ]
  },
  {
   "cell_type": "code",
   "execution_count": 210,
   "id": "de287a59",
   "metadata": {},
   "outputs": [],
   "source": [
    "nlp = spacy.load(\"en_ner_bionlp13cg_md\")"
   ]
  },
  {
   "cell_type": "code",
   "execution_count": 211,
   "id": "65ab5474",
   "metadata": {},
   "outputs": [
    {
     "data": {
      "text/html": [
       "<div>\n",
       "<style scoped>\n",
       "    .dataframe tbody tr th:only-of-type {\n",
       "        vertical-align: middle;\n",
       "    }\n",
       "\n",
       "    .dataframe tbody tr th {\n",
       "        vertical-align: top;\n",
       "    }\n",
       "\n",
       "    .dataframe thead th {\n",
       "        text-align: right;\n",
       "    }\n",
       "</style>\n",
       "<table border=\"1\" class=\"dataframe\">\n",
       "  <thead>\n",
       "    <tr style=\"text-align: right;\">\n",
       "      <th></th>\n",
       "      <th>entity</th>\n",
       "      <th>labels</th>\n",
       "    </tr>\n",
       "  </thead>\n",
       "  <tbody>\n",
       "    <tr>\n",
       "      <th>0</th>\n",
       "      <td>(Extracellular, Matrix)</td>\n",
       "      <td>CELLULAR_COMPONENT</td>\n",
       "    </tr>\n",
       "    <tr>\n",
       "      <th>1</th>\n",
       "      <td>(Heart)</td>\n",
       "      <td>ORGAN</td>\n",
       "    </tr>\n",
       "    <tr>\n",
       "      <th>2</th>\n",
       "      <td>(Adamts5)</td>\n",
       "      <td>GENE_OR_GENE_PRODUCT</td>\n",
       "    </tr>\n",
       "    <tr>\n",
       "      <th>3</th>\n",
       "      <td>(Proteoglycan)</td>\n",
       "      <td>GENE_OR_GENE_PRODUCT</td>\n",
       "    </tr>\n",
       "  </tbody>\n",
       "</table>\n",
       "</div>"
      ],
      "text/plain": [
       "                    entity                labels\n",
       "0  (Extracellular, Matrix)    CELLULAR_COMPONENT\n",
       "1                  (Heart)                 ORGAN\n",
       "2                (Adamts5)  GENE_OR_GENE_PRODUCT\n",
       "3           (Proteoglycan)  GENE_OR_GENE_PRODUCT"
      ]
     },
     "execution_count": 211,
     "metadata": {},
     "output_type": "execute_result"
    }
   ],
   "source": [
    "#examine title\n",
    "text = title\n",
    "text_doc = nlp(title)\n",
    "title_ents = list(text_doc.ents)\n",
    "title_entity_labels = []\n",
    "for idx, ent in enumerate(title_ents):\n",
    "    title_entity_labels.append(ent.label_)\n",
    "\n",
    "title_df = pd.DataFrame()\n",
    "title_df[\"entity\"] = title_ents\n",
    "title_df[\"labels\"] = title_entity_labels\n",
    "title_df"
   ]
  },
  {
   "cell_type": "code",
   "execution_count": 212,
   "id": "d9dd5cfb",
   "metadata": {},
   "outputs": [
    {
     "data": {
      "text/html": [
       "<div>\n",
       "<style scoped>\n",
       "    .dataframe tbody tr th:only-of-type {\n",
       "        vertical-align: middle;\n",
       "    }\n",
       "\n",
       "    .dataframe tbody tr th {\n",
       "        vertical-align: top;\n",
       "    }\n",
       "\n",
       "    .dataframe thead th {\n",
       "        text-align: right;\n",
       "    }\n",
       "</style>\n",
       "<table border=\"1\" class=\"dataframe\">\n",
       "  <thead>\n",
       "    <tr style=\"text-align: right;\">\n",
       "      <th></th>\n",
       "      <th>entity</th>\n",
       "      <th>labels</th>\n",
       "    </tr>\n",
       "  </thead>\n",
       "  <tbody>\n",
       "    <tr>\n",
       "      <th>0</th>\n",
       "      <td>(extracellular, matrix)</td>\n",
       "      <td>CELLULAR_COMPONENT</td>\n",
       "    </tr>\n",
       "    <tr>\n",
       "      <th>1</th>\n",
       "      <td>(ECM)</td>\n",
       "      <td>CELLULAR_COMPONENT</td>\n",
       "    </tr>\n",
       "    <tr>\n",
       "      <th>2</th>\n",
       "      <td>(heart)</td>\n",
       "      <td>ORGAN</td>\n",
       "    </tr>\n",
       "    <tr>\n",
       "      <th>3</th>\n",
       "      <td>(murine, cardiac, fibroblasts)</td>\n",
       "      <td>ORGANISM</td>\n",
       "    </tr>\n",
       "    <tr>\n",
       "      <th>4</th>\n",
       "      <td>(ADAMTS5)</td>\n",
       "      <td>GENE_OR_GENE_PRODUCT</td>\n",
       "    </tr>\n",
       "    <tr>\n",
       "      <th>5</th>\n",
       "      <td>(disintegrin)</td>\n",
       "      <td>GENE_OR_GENE_PRODUCT</td>\n",
       "    </tr>\n",
       "    <tr>\n",
       "      <th>6</th>\n",
       "      <td>(thrombospondin, motifs, 5)</td>\n",
       "      <td>GENE_OR_GENE_PRODUCT</td>\n",
       "    </tr>\n",
       "    <tr>\n",
       "      <th>7</th>\n",
       "      <td>(ADAMTS5)</td>\n",
       "      <td>GENE_OR_GENE_PRODUCT</td>\n",
       "    </tr>\n",
       "    <tr>\n",
       "      <th>8</th>\n",
       "      <td>(chondroitin, sulphate, proteoglycans)</td>\n",
       "      <td>GENE_OR_GENE_PRODUCT</td>\n",
       "    </tr>\n",
       "    <tr>\n",
       "      <th>9</th>\n",
       "      <td>(CSPGs)</td>\n",
       "      <td>GENE_OR_GENE_PRODUCT</td>\n",
       "    </tr>\n",
       "    <tr>\n",
       "      <th>10</th>\n",
       "      <td>(versican)</td>\n",
       "      <td>GENE_OR_GENE_PRODUCT</td>\n",
       "    </tr>\n",
       "    <tr>\n",
       "      <th>11</th>\n",
       "      <td>(ADAMTS5)</td>\n",
       "      <td>GENE_OR_GENE_PRODUCT</td>\n",
       "    </tr>\n",
       "    <tr>\n",
       "      <th>12</th>\n",
       "      <td>(versican)</td>\n",
       "      <td>GENE_OR_GENE_PRODUCT</td>\n",
       "    </tr>\n",
       "    <tr>\n",
       "      <th>13</th>\n",
       "      <td>(Versican)</td>\n",
       "      <td>GENE_OR_GENE_PRODUCT</td>\n",
       "    </tr>\n",
       "    <tr>\n",
       "      <th>14</th>\n",
       "      <td>(mice)</td>\n",
       "      <td>ORGANISM</td>\n",
       "    </tr>\n",
       "    <tr>\n",
       "      <th>15</th>\n",
       "      <td>(ADAMTS5)</td>\n",
       "      <td>GENE_OR_GENE_PRODUCT</td>\n",
       "    </tr>\n",
       "    <tr>\n",
       "      <th>16</th>\n",
       "      <td>(Adamts5, Cat)</td>\n",
       "      <td>GENE_OR_GENE_PRODUCT</td>\n",
       "    </tr>\n",
       "    <tr>\n",
       "      <th>17</th>\n",
       "      <td>(ECM)</td>\n",
       "      <td>CELLULAR_COMPONENT</td>\n",
       "    </tr>\n",
       "    <tr>\n",
       "      <th>18</th>\n",
       "      <td>(left, ventricular)</td>\n",
       "      <td>MULTI_TISSUE_STRUCTURE</td>\n",
       "    </tr>\n",
       "    <tr>\n",
       "      <th>19</th>\n",
       "      <td>(Versican)</td>\n",
       "      <td>GENE_OR_GENE_PRODUCT</td>\n",
       "    </tr>\n",
       "    <tr>\n",
       "      <th>20</th>\n",
       "      <td>(versikine)</td>\n",
       "      <td>AMINO_ACID</td>\n",
       "    </tr>\n",
       "    <tr>\n",
       "      <th>21</th>\n",
       "      <td>(versican)</td>\n",
       "      <td>GENE_OR_GENE_PRODUCT</td>\n",
       "    </tr>\n",
       "    <tr>\n",
       "      <th>22</th>\n",
       "      <td>(cardiac)</td>\n",
       "      <td>ORGAN</td>\n",
       "    </tr>\n",
       "    <tr>\n",
       "      <th>23</th>\n",
       "      <td>(murine, hearts)</td>\n",
       "      <td>ORGANISM</td>\n",
       "    </tr>\n",
       "    <tr>\n",
       "      <th>24</th>\n",
       "      <td>(angiotensin, II)</td>\n",
       "      <td>GENE_OR_GENE_PRODUCT</td>\n",
       "    </tr>\n",
       "    <tr>\n",
       "      <th>25</th>\n",
       "      <td>(Ang, II)</td>\n",
       "      <td>GENE_OR_GENE_PRODUCT</td>\n",
       "    </tr>\n",
       "    <tr>\n",
       "      <th>26</th>\n",
       "      <td>(Adamts5)</td>\n",
       "      <td>GENE_OR_GENE_PRODUCT</td>\n",
       "    </tr>\n",
       "    <tr>\n",
       "      <th>27</th>\n",
       "      <td>(Ang, II)</td>\n",
       "      <td>GENE_OR_GENE_PRODUCT</td>\n",
       "    </tr>\n",
       "    <tr>\n",
       "      <th>28</th>\n",
       "      <td>(versican)</td>\n",
       "      <td>GENE_OR_GENE_PRODUCT</td>\n",
       "    </tr>\n",
       "    <tr>\n",
       "      <th>29</th>\n",
       "      <td>(hyaluronic, acid)</td>\n",
       "      <td>GENE_OR_GENE_PRODUCT</td>\n",
       "    </tr>\n",
       "    <tr>\n",
       "      <th>30</th>\n",
       "      <td>(integrin, beta, 1)</td>\n",
       "      <td>GENE_OR_GENE_PRODUCT</td>\n",
       "    </tr>\n",
       "    <tr>\n",
       "      <th>31</th>\n",
       "      <td>(filamin, A)</td>\n",
       "      <td>GENE_OR_GENE_PRODUCT</td>\n",
       "    </tr>\n",
       "    <tr>\n",
       "      <th>32</th>\n",
       "      <td>(connexin)</td>\n",
       "      <td>GENE_OR_GENE_PRODUCT</td>\n",
       "    </tr>\n",
       "    <tr>\n",
       "      <th>33</th>\n",
       "      <td>(Adamts5, Cat, mice)</td>\n",
       "      <td>GENE_OR_GENE_PRODUCT</td>\n",
       "    </tr>\n",
       "    <tr>\n",
       "      <th>34</th>\n",
       "      <td>(Ang, II)</td>\n",
       "      <td>GENE_OR_GENE_PRODUCT</td>\n",
       "    </tr>\n",
       "    <tr>\n",
       "      <th>35</th>\n",
       "      <td>(Cardiac, hypertrophy)</td>\n",
       "      <td>TISSUE</td>\n",
       "    </tr>\n",
       "    <tr>\n",
       "      <th>36</th>\n",
       "      <td>(collagen)</td>\n",
       "      <td>GENE_OR_GENE_PRODUCT</td>\n",
       "    </tr>\n",
       "    <tr>\n",
       "      <th>37</th>\n",
       "      <td>(cardiac, explants)</td>\n",
       "      <td>TISSUE</td>\n",
       "    </tr>\n",
       "    <tr>\n",
       "      <th>38</th>\n",
       "      <td>(ECM)</td>\n",
       "      <td>CELLULAR_COMPONENT</td>\n",
       "    </tr>\n",
       "    <tr>\n",
       "      <th>39</th>\n",
       "      <td>(versican)</td>\n",
       "      <td>GENE_OR_GENE_PRODUCT</td>\n",
       "    </tr>\n",
       "    <tr>\n",
       "      <th>40</th>\n",
       "      <td>(cardiac, fibroblasts)</td>\n",
       "      <td>CELL</td>\n",
       "    </tr>\n",
       "    <tr>\n",
       "      <th>41</th>\n",
       "      <td>(beta1-adrenergic, receptor)</td>\n",
       "      <td>GENE_OR_GENE_PRODUCT</td>\n",
       "    </tr>\n",
       "    <tr>\n",
       "      <th>42</th>\n",
       "      <td>(versican)</td>\n",
       "      <td>GENE_OR_GENE_PRODUCT</td>\n",
       "    </tr>\n",
       "    <tr>\n",
       "      <th>43</th>\n",
       "      <td>(cardiac, ECM)</td>\n",
       "      <td>TISSUE</td>\n",
       "    </tr>\n",
       "    <tr>\n",
       "      <th>44</th>\n",
       "      <td>(patients)</td>\n",
       "      <td>ORGANISM</td>\n",
       "    </tr>\n",
       "    <tr>\n",
       "      <th>45</th>\n",
       "      <td>(ADAMTS)</td>\n",
       "      <td>GENE_OR_GENE_PRODUCT</td>\n",
       "    </tr>\n",
       "    <tr>\n",
       "      <th>46</th>\n",
       "      <td>(versican)</td>\n",
       "      <td>GENE_OR_GENE_PRODUCT</td>\n",
       "    </tr>\n",
       "    <tr>\n",
       "      <th>47</th>\n",
       "      <td>(heart)</td>\n",
       "      <td>ORGAN</td>\n",
       "    </tr>\n",
       "    <tr>\n",
       "      <th>48</th>\n",
       "      <td>(versican)</td>\n",
       "      <td>GENE_OR_GENE_PRODUCT</td>\n",
       "    </tr>\n",
       "    <tr>\n",
       "      <th>49</th>\n",
       "      <td>(cardiac)</td>\n",
       "      <td>ORGAN</td>\n",
       "    </tr>\n",
       "    <tr>\n",
       "      <th>50</th>\n",
       "      <td>(cardiac, ECM)</td>\n",
       "      <td>TISSUE</td>\n",
       "    </tr>\n",
       "    <tr>\n",
       "      <th>51</th>\n",
       "      <td>(cardiac, CSPG)</td>\n",
       "      <td>TISSUE</td>\n",
       "    </tr>\n",
       "  </tbody>\n",
       "</table>\n",
       "</div>"
      ],
      "text/plain": [
       "                                    entity                  labels\n",
       "0                  (extracellular, matrix)      CELLULAR_COMPONENT\n",
       "1                                    (ECM)      CELLULAR_COMPONENT\n",
       "2                                  (heart)                   ORGAN\n",
       "3           (murine, cardiac, fibroblasts)                ORGANISM\n",
       "4                                (ADAMTS5)    GENE_OR_GENE_PRODUCT\n",
       "5                            (disintegrin)    GENE_OR_GENE_PRODUCT\n",
       "6              (thrombospondin, motifs, 5)    GENE_OR_GENE_PRODUCT\n",
       "7                                (ADAMTS5)    GENE_OR_GENE_PRODUCT\n",
       "8   (chondroitin, sulphate, proteoglycans)    GENE_OR_GENE_PRODUCT\n",
       "9                                  (CSPGs)    GENE_OR_GENE_PRODUCT\n",
       "10                              (versican)    GENE_OR_GENE_PRODUCT\n",
       "11                               (ADAMTS5)    GENE_OR_GENE_PRODUCT\n",
       "12                              (versican)    GENE_OR_GENE_PRODUCT\n",
       "13                              (Versican)    GENE_OR_GENE_PRODUCT\n",
       "14                                  (mice)                ORGANISM\n",
       "15                               (ADAMTS5)    GENE_OR_GENE_PRODUCT\n",
       "16                          (Adamts5, Cat)    GENE_OR_GENE_PRODUCT\n",
       "17                                   (ECM)      CELLULAR_COMPONENT\n",
       "18                     (left, ventricular)  MULTI_TISSUE_STRUCTURE\n",
       "19                              (Versican)    GENE_OR_GENE_PRODUCT\n",
       "20                             (versikine)              AMINO_ACID\n",
       "21                              (versican)    GENE_OR_GENE_PRODUCT\n",
       "22                               (cardiac)                   ORGAN\n",
       "23                        (murine, hearts)                ORGANISM\n",
       "24                       (angiotensin, II)    GENE_OR_GENE_PRODUCT\n",
       "25                               (Ang, II)    GENE_OR_GENE_PRODUCT\n",
       "26                               (Adamts5)    GENE_OR_GENE_PRODUCT\n",
       "27                               (Ang, II)    GENE_OR_GENE_PRODUCT\n",
       "28                              (versican)    GENE_OR_GENE_PRODUCT\n",
       "29                      (hyaluronic, acid)    GENE_OR_GENE_PRODUCT\n",
       "30                     (integrin, beta, 1)    GENE_OR_GENE_PRODUCT\n",
       "31                            (filamin, A)    GENE_OR_GENE_PRODUCT\n",
       "32                              (connexin)    GENE_OR_GENE_PRODUCT\n",
       "33                    (Adamts5, Cat, mice)    GENE_OR_GENE_PRODUCT\n",
       "34                               (Ang, II)    GENE_OR_GENE_PRODUCT\n",
       "35                  (Cardiac, hypertrophy)                  TISSUE\n",
       "36                              (collagen)    GENE_OR_GENE_PRODUCT\n",
       "37                     (cardiac, explants)                  TISSUE\n",
       "38                                   (ECM)      CELLULAR_COMPONENT\n",
       "39                              (versican)    GENE_OR_GENE_PRODUCT\n",
       "40                  (cardiac, fibroblasts)                    CELL\n",
       "41            (beta1-adrenergic, receptor)    GENE_OR_GENE_PRODUCT\n",
       "42                              (versican)    GENE_OR_GENE_PRODUCT\n",
       "43                          (cardiac, ECM)                  TISSUE\n",
       "44                              (patients)                ORGANISM\n",
       "45                                (ADAMTS)    GENE_OR_GENE_PRODUCT\n",
       "46                              (versican)    GENE_OR_GENE_PRODUCT\n",
       "47                                 (heart)                   ORGAN\n",
       "48                              (versican)    GENE_OR_GENE_PRODUCT\n",
       "49                               (cardiac)                   ORGAN\n",
       "50                          (cardiac, ECM)                  TISSUE\n",
       "51                         (cardiac, CSPG)                  TISSUE"
      ]
     },
     "execution_count": 212,
     "metadata": {},
     "output_type": "execute_result"
    }
   ],
   "source": [
    "# examine abstracts\n",
    "text = abstract\n",
    "abstract_doc = nlp(text)\n",
    "abstract_ents = list(abstract_doc.ents)\n",
    "abstract_ents_labels = []\n",
    "for idx, ent in enumerate(abstract_ents):\n",
    "    abstract_ents_labels.append(ent.label_)\n",
    "\n",
    "\n",
    "abstract_df = pd.DataFrame()\n",
    "abstract_df[\"entity\"] = abstract_ents\n",
    "abstract_df[\"labels\"] = abstract_ents_labels\n",
    "abstract_df"
   ]
  },
  {
   "attachments": {},
   "cell_type": "markdown",
   "id": "546073ec",
   "metadata": {},
   "source": [
    "# Collect all entitites using PubTator and spaCy"
   ]
  },
  {
   "cell_type": "code",
   "execution_count": 238,
   "id": "e180cc28",
   "metadata": {},
   "outputs": [],
   "source": [
    "import requests\n",
    "import json\n",
    "import pandas as pd\n",
    "import scispacy\n",
    "import spacy\n",
    "import en_ner_bionlp13cg_md"
   ]
  },
  {
   "cell_type": "code",
   "execution_count": 239,
   "id": "f578da5c",
   "metadata": {},
   "outputs": [],
   "source": [
    "# load nlp\n",
    "nlp = spacy.load(\"en_ner_bionlp13cg_md\")"
   ]
  },
  {
   "cell_type": "code",
   "execution_count": 256,
   "id": "ebf36619",
   "metadata": {},
   "outputs": [],
   "source": [
    "# Load in PMIDs \n",
    "pmids = '34806902,33998164,34098726,31670476,29484645,29133944'\n",
    "PMIDS = ['34806902','33998164','34098726','31670476','29484645','29133944']\n",
    "url = f'https://www.ncbi.nlm.nih.gov/research/pubtator-api/publications/export/biocjson?pmids={pmids}'#&concepts=gene,protein'\n",
    "response = requests.get(url)\n",
    "responses = response.text.split('\\n')"
   ]
  },
  {
   "cell_type": "code",
   "execution_count": 257,
   "id": "6d672708",
   "metadata": {},
   "outputs": [],
   "source": [
    "# Using Dylan's code (this block), we can extract most of the keywords\n",
    "def extract_annotations(annotation):\n",
    "    entity_type = annotation['infons']['type']\n",
    "    start_index = annotation['locations'][0]['offset']\n",
    "    end_index = start_index+annotation['locations'][0]['length']\n",
    "    \n",
    "    return entity_type, [start_index, end_index]\n",
    "\n",
    "pmid_to_entity_type_to_indices = dict()\n",
    "pmid_to_indices_to_entity_type = dict()\n",
    "abstracts = []\n",
    "titles = []\n",
    "\n",
    "for entry_txt in responses:\n",
    "    if entry_txt == '':\n",
    "        continue\n",
    "    entry = json.loads(entry_txt)\n",
    "    \n",
    "    # PMID\n",
    "    pmid = str(entry['id'])\n",
    "    \n",
    "    # Title\n",
    "    title_section = entry['passages'][0]\n",
    "    title = title_section['text']\n",
    "    titles += [title]\n",
    "    title_annotations = title_section['annotations']\n",
    "    # print(title)\n",
    "    # Abstract\n",
    "    abstract_section = entry['passages'][1]\n",
    "    abstract = abstract_section['text']\n",
    "    abstract_annotations = abstract_section['annotations']\n",
    "    abstracts += [abstract]\n",
    "\n",
    "    # Title Annotations\n",
    "    entity_type_to_title_indices = dict()\n",
    "    title_indices_to_entity_type = dict()\n",
    "    for annotation in title_annotations:    \n",
    "        entity_type, indices = extract_annotations(annotation)\n",
    "        entity_type_to_title_indices.setdefault(entity_type,list()).append(indices)\n",
    "        title_indices_to_entity_type[tuple(indices)] = entity_type\n",
    "        \n",
    "    # Abstract Annotations\n",
    "    entity_type_to_abstract_indices = dict() \n",
    "    abstract_indices_to_entity_type = dict()\n",
    "    for annotation in abstract_annotations:\n",
    "        entity_type, indices = extract_annotations(annotation)\n",
    "        entity_type_to_abstract_indices.setdefault(entity_type, list()).append(indices)\n",
    "        abstract_indices_to_entity_type[tuple(indices)] = entity_type\n",
    "        \n",
    "    # PMID->Entities->Indices\n",
    "    pmid_to_entity_type_to_indices[pmid] = dict()\n",
    "    pmid_to_entity_type_to_indices[pmid]['title'] = entity_type_to_title_indices\n",
    "    pmid_to_entity_type_to_indices[pmid]['abstract'] = entity_type_to_abstract_indices\n",
    "    \n",
    "    # PMID->Indices->Entity Type\n",
    "    pmid_to_indices_to_entity_type[pmid] = dict()\n",
    "    pmid_to_indices_to_entity_type[pmid]['title'] = title_indices_to_entity_type\n",
    "    pmid_to_indices_to_entity_type[pmid]['abstract'] = abstract_indices_to_entity_type\n",
    "    \n",
    "    # PMID->Indices->Entity Type->Entity"
   ]
  },
  {
   "cell_type": "code",
   "execution_count": 258,
   "id": "a2b658ca",
   "metadata": {},
   "outputs": [],
   "source": [
    "title_dict = {}\n",
    "title_df_spacy = pd.DataFrame()\n",
    "title_ents = []\n",
    "title_entity_labels = []\n",
    "title_pmid = []\n",
    "\n",
    "abstract_dict = {}\n",
    "abstract_df_spacy = pd.DataFrame()\n",
    "abstract_ents = []\n",
    "abstract_ents_labels = []\n",
    "abstract_pmid = []\n",
    "\n",
    "\n",
    "NUMBER_OF_PMIDS = len(pmid_to_indices_to_entity_type)\n",
    "\n",
    "for i in range(NUMBER_OF_PMIDS):\n",
    "    temp_indices_to_entity_type = list(pmid_to_indices_to_entity_type.values())[i]\n",
    "    # Save title\n",
    "    title_keys = temp_indices_to_entity_type[\"title\"]\n",
    "    # Save abstract\n",
    "    abstract_keys = temp_indices_to_entity_type[\"abstract\"]\n",
    "\n",
    "    # Save title keys using PubTator\n",
    "    for key in title_keys:\n",
    "        title_attrib_dict = {}\n",
    "        start, end = key[0], key[1]\n",
    "        entity = title_keys[key]\n",
    "        entity_text = titles[i][start:end]\n",
    "        title_attrib_dict[\"start\"] = int(start)\n",
    "        title_attrib_dict[\"end\"] = int(end)\n",
    "        title_attrib_dict[\"entity-type\"] = entity\n",
    "        title_attrib_dict[\"PMID\"] = PMIDS[i]\n",
    "        title_dict[entity_text] = title_attrib_dict\n",
    "\n",
    "    # Title keys using spacy\n",
    "    text = titles[i]\n",
    "    text_doc = nlp(text)\n",
    "    title_ents += [*text_doc.ents]\n",
    "    for idx, ent in enumerate(text_doc.ents):\n",
    "        title_entity_labels.append(ent.label_)\n",
    "        title_pmid.append(PMIDS[i])\n",
    "    \n",
    "\n",
    "    # Save abstract keys\n",
    "    for key in abstract_keys:\n",
    "        abstract_attrib_dict = {}\n",
    "        start, end = key[0], key[1]\n",
    "        entity = abstract_keys[key]\n",
    "        entity_text = abstracts[i][start:end]\n",
    "        abstract_attrib_dict[\"start\"] = int(start)\n",
    "        abstract_attrib_dict[\"end\"] = int(end)\n",
    "        abstract_attrib_dict[\"entity-type\"] = entity\n",
    "        abstract_attrib_dict[\"PMID\"] = PMIDS[i]\n",
    "        abstract_dict[entity_text] = abstract_attrib_dict\n",
    "\n",
    "    # Title keys using spacy\n",
    "    text = titles[i]\n",
    "    text_doc = nlp(text)\n",
    "    title_ents += [*text_doc.ents]\n",
    "    for idx, ent in enumerate(text_doc.ents):\n",
    "        title_entity_labels.append(ent.label_)\n",
    "        title_pmid.append(PMIDS[i])\n",
    "    \n",
    "    # examine abstracts\n",
    "    text = abstracts[i]\n",
    "    abstract_doc = nlp(text)\n",
    "    abstract_ents += [*abstract_doc.ents]\n",
    "    for idx, ent in enumerate(abstract_doc.ents):\n",
    "        abstract_ents_labels.append(ent.label_)\n",
    "        abstract_pmid.append(PMIDS[i])\n",
    "    "
   ]
  },
  {
   "cell_type": "code",
   "execution_count": 259,
   "id": "36142172",
   "metadata": {},
   "outputs": [],
   "source": [
    "title_df_spacy[\"entity\"] = title_ents\n",
    "title_df_spacy[\"entity-labels\"] = title_entity_labels\n",
    "title_df_spacy[\"pmid\"] = title_pmid\n",
    "title_df_spacy.to_csv(\"results/scispacy_title_entities.csv\")"
   ]
  },
  {
   "cell_type": "code",
   "execution_count": 262,
   "id": "6b5d53dc",
   "metadata": {},
   "outputs": [
    {
     "ename": "AttributeError",
     "evalue": "module 'numpy' has no attribute 'unqiue'",
     "output_type": "error",
     "traceback": [
      "\u001b[0;31m---------------------------------------------------------------------------\u001b[0m",
      "\u001b[0;31mAttributeError\u001b[0m                            Traceback (most recent call last)",
      "\u001b[0;32m/var/folders/qm/zjpjs1cn2cs7098z5b1bf0vw0000gn/T/ipykernel_3114/2196120830.py\u001b[0m in \u001b[0;36m<module>\u001b[0;34m\u001b[0m\n\u001b[1;32m      1\u001b[0m \u001b[0;32mimport\u001b[0m \u001b[0mnumpy\u001b[0m \u001b[0;32mas\u001b[0m \u001b[0mnp\u001b[0m\u001b[0;34m\u001b[0m\u001b[0;34m\u001b[0m\u001b[0m\n\u001b[0;32m----> 2\u001b[0;31m \u001b[0mprint\u001b[0m\u001b[0;34m(\u001b[0m\u001b[0mnp\u001b[0m\u001b[0;34m.\u001b[0m\u001b[0munqiue\u001b[0m\u001b[0;34m(\u001b[0m\u001b[0mtitle_pmid\u001b[0m\u001b[0;34m)\u001b[0m\u001b[0;34m)\u001b[0m\u001b[0;34m\u001b[0m\u001b[0;34m\u001b[0m\u001b[0m\n\u001b[0m\u001b[1;32m      3\u001b[0m \u001b[0mprint\u001b[0m\u001b[0;34m(\u001b[0m\u001b[0mnp\u001b[0m\u001b[0;34m.\u001b[0m\u001b[0munqiue\u001b[0m\u001b[0;34m(\u001b[0m\u001b[0mabstract_pmid\u001b[0m\u001b[0;34m)\u001b[0m\u001b[0;34m)\u001b[0m\u001b[0;34m\u001b[0m\u001b[0;34m\u001b[0m\u001b[0m\n",
      "\u001b[0;32m~/opt/anaconda3/lib/python3.9/site-packages/numpy/__init__.py\u001b[0m in \u001b[0;36m__getattr__\u001b[0;34m(attr)\u001b[0m\n\u001b[1;32m    311\u001b[0m                 \u001b[0;32mreturn\u001b[0m \u001b[0mTester\u001b[0m\u001b[0;34m\u001b[0m\u001b[0;34m\u001b[0m\u001b[0m\n\u001b[1;32m    312\u001b[0m \u001b[0;34m\u001b[0m\u001b[0m\n\u001b[0;32m--> 313\u001b[0;31m             raise AttributeError(\"module {!r} has no attribute \"\n\u001b[0m\u001b[1;32m    314\u001b[0m                                  \"{!r}\".format(__name__, attr))\n\u001b[1;32m    315\u001b[0m \u001b[0;34m\u001b[0m\u001b[0m\n",
      "\u001b[0;31mAttributeError\u001b[0m: module 'numpy' has no attribute 'unqiue'"
     ]
    }
   ],
   "source": [
    "import numpy as np\n",
    "print(np.unqiue(title_pmid))\n",
    "print(np.unqiue(abstract_pmid))"
   ]
  },
  {
   "cell_type": "code",
   "execution_count": 247,
   "id": "92932b55",
   "metadata": {},
   "outputs": [],
   "source": [
    "abstract_df_spacy[\"entity\"] = abstract_ents\n",
    "abstract_df_spacy[\"entity-labels\"] = abstract_ents_labels\n",
    "abstract_df_spacy[\"pmid\"] = abstract_pmid\n",
    "abstract_df_spacy.to_csv(\"results/scispacy_abstract_entities.csv\")"
   ]
  },
  {
   "cell_type": "code",
   "execution_count": 250,
   "id": "70e94b72",
   "metadata": {},
   "outputs": [],
   "source": [
    "title_df = pd.DataFrame(title_dict)\n",
    "title_df = title_df.transpose()\n",
    "title_df = title_df.reset_index()\n",
    "title_df = title_df.rename(columns={\"index\": \"entity\"})\n",
    "title_df.to_csv(\"results/pubtator_title_entities.csv\")"
   ]
  },
  {
   "cell_type": "code",
   "execution_count": 249,
   "id": "4a3c8c5c",
   "metadata": {},
   "outputs": [],
   "source": [
    "abstract_df = pd.DataFrame(abstract_dict)\n",
    "abstract_df = abstract_df.transpose()\n",
    "abstract_df = abstract_df.reset_index()\n",
    "abstract_df = abstract_df.rename(columns={\"index\": \"entity\"})\n",
    "abstract_df.to_csv(\"results/pubtator_abstract_entities.csv\")"
   ]
  },
  {
   "cell_type": "code",
   "execution_count": 251,
   "id": "12858194",
   "metadata": {},
   "outputs": [
    {
     "name": "stdout",
     "output_type": "stream",
     "text": [
      "\u001b[44;33mHello World!\u001b[m\n"
     ]
    }
   ],
   "source": [
    "# define 3 highlight colors: 1) pubtator, 2) spacy, 3) both \n",
    "print(\"\\033[44;33mHello World!\\033[m\")"
   ]
  },
  {
   "cell_type": "code",
   "execution_count": 252,
   "id": "b07bfd67",
   "metadata": {},
   "outputs": [
    {
     "data": {
      "text/plain": [
       "'roblasts returned ADAMTS5'"
      ]
     },
     "execution_count": 252,
     "metadata": {},
     "output_type": "execute_result"
    }
   ],
   "source": [
    "abstract_temp = \"Background: Remodelling of the extracellular matrix (ECM) is a hallmark of heart failure (HF). Our previous analysis of the secretome of murine cardiac fibroblasts returned ADAMTS5 (a disintegrin and metalloproteinase with thrombospondin motifs 5) as one of the most abundant proteases. ADAMTS5 cleaves chondroitin sulphate proteoglycans (CSPGs) such as versican. The contribution of ADAMTS5 and its substrate versican to HF is unknown. Methods: Versican remodelling was assessed in mice lacking the catalytic domain of ADAMTS5 (Adamts5 Cat). Proteomics was applied to study ECM remodelling in left ventricular samples from HF patients, with a particular focus on the effects of common medications used for the treatment of HF. Results: Versican and versikine, an ADAMTS-specific versican cleavage product, accumulated in ischemic HF patients. Versikine was also elevated in a porcine model of cardiac ischemia/reperfusion injury and in murine hearts after angiotensin II (Ang II) infusion. In Adamts5 Cat mice, Ang II infusion resulted in an aggravated versican build-up and hyaluronic acid disarrangement, accompanied by reduced levels of integrin beta 1, filamin A and connexin 43. Echocardiographic assessment of Adamts5 Cat mice revealed a reduced ejection fraction and an impaired global longitudinal strain upon Ang II infusion. Cardiac hypertrophy and collagen deposition, however, were similar to littermate controls. In a proteomics analysis of a larger cohort of cardiac explants from ischemic HF patients (n=65), the use of beta-blockers was associated with a reduction in ECM deposition, with versican being among the most pronounced changes. Subsequent experiments in cardiac fibroblasts confirmed that beta1-adrenergic receptor stimulation increased versican expression. Despite similar clinical characteristics, HF patients treated with beta-blockers had a distinct cardiac ECM profile. Conclusions: Our results in animal models and patients suggest that ADAMTS proteases are critical for versican degradation in the heart, and that versican accumulation is associated with impaired cardiac function. A comprehensive characterisation of the cardiac ECM in ischemic HF patients revealed that beta-blockers may have a previously unrecognized beneficial effect on the cardiac CSPG content.\"\n",
    "abstract_temp[155:180]"
   ]
  },
  {
   "cell_type": "code",
   "execution_count": 253,
   "id": "8150c8d1",
   "metadata": {},
   "outputs": [
    {
     "data": {
      "text/plain": [
       "93"
      ]
     },
     "execution_count": 253,
     "metadata": {},
     "output_type": "execute_result"
    }
   ],
   "source": [
    "temp = \"Background: Remodelling of the extracellular matrix (ECM) is a hallmark of heart failure (HF)\"\n",
    "len(temp)"
   ]
  },
  {
   "cell_type": "code",
   "execution_count": 254,
   "id": "86133758",
   "metadata": {},
   "outputs": [
    {
     "data": {
      "text/plain": [
       "'is a hallmark of heart failure (HF)'"
      ]
     },
     "execution_count": 254,
     "metadata": {},
     "output_type": "execute_result"
    }
   ],
   "source": [
    "abstract_temp[93-(190-155):93]"
   ]
  },
  {
   "cell_type": "code",
   "execution_count": null,
   "id": "a034f308",
   "metadata": {},
   "outputs": [],
   "source": [
    "# total number of proteins for all 6 \n",
    "# num prots found in pub 1 vs the other\n",
    "# important thing is we are just trying it oyt for now\n",
    "# we have not done the full text"
   ]
  }
 ],
 "metadata": {
  "kernelspec": {
   "display_name": "base",
   "language": "python",
   "name": "python3"
  },
  "language_info": {
   "codemirror_mode": {
    "name": "ipython",
    "version": 3
   },
   "file_extension": ".py",
   "mimetype": "text/x-python",
   "name": "python",
   "nbconvert_exporter": "python",
   "pygments_lexer": "ipython3",
   "version": "3.9.13"
  },
  "vscode": {
   "interpreter": {
    "hash": "79732fd3e39fcc86bf7c7aeb079145247bae47b6d1bafa505c129d7881fdf4a2"
   }
  }
 },
 "nbformat": 4,
 "nbformat_minor": 5
}
