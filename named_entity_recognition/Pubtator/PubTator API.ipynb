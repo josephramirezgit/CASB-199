{
 "cells": [
  {
   "cell_type": "code",
   "execution_count": 2,
   "id": "7eca425f",
   "metadata": {},
   "outputs": [],
   "source": [
    "# https://www.ncbi.nlm.nih.gov/research/pubtator/api.html"
   ]
  },
  {
   "cell_type": "code",
   "execution_count": 10,
   "id": "d3b3396d",
   "metadata": {},
   "outputs": [],
   "source": [
    "import requests\n",
    "import json\n",
    "\n",
    "def extract_annotations(annotation):\n",
    "    entity_type = annotation['infons']['type']\n",
    "    start_index = annotation['locations'][0]['offset']\n",
    "    end_index = start_index+annotation['locations'][0]['length']\n",
    "    \n",
    "    return entity_type, [start_index, end_index]"
   ]
  },
  {
   "cell_type": "code",
   "execution_count": 11,
   "id": "9cd10fba",
   "metadata": {},
   "outputs": [],
   "source": [
    "pmids = '28483578,28483579'\n",
    "url = f'https://www.ncbi.nlm.nih.gov/research/pubtator-api/publications/export/biocjson?pmids={pmids}'#&concepts=gene,protein'\n",
    "\n",
    "response = requests.get(url)\n",
    "responses = response.text.split('\\n')"
   ]
  },
  {
   "cell_type": "code",
   "execution_count": 12,
   "id": "fe6d5388",
   "metadata": {},
   "outputs": [],
   "source": [
    "# can also do full text I think, but we need the PMCIDs. \n",
    "# We can get that data later. \n",
    "pmid_to_entity_type_to_indices = dict()\n",
    "pmid_to_indices_to_entity_type = dict()\n",
    "\n",
    "for entry_txt in responses:\n",
    "    if entry_txt == '':\n",
    "        continue\n",
    "    entry = json.loads(entry_txt)\n",
    "    \n",
    "    # PMID\n",
    "    pmid = str(entry['id'])\n",
    "    \n",
    "    # Title\n",
    "    title_section = entry['passages'][0]\n",
    "    title = title_section['text']\n",
    "    title_annotations = title_section['annotations']\n",
    "\n",
    "    # Abstract\n",
    "    abstract_section = entry['passages'][1]\n",
    "    abstract = abstract_section['text']\n",
    "    abstract_annotations = abstract_section['annotations']\n",
    "\n",
    "    # Title Annotations\n",
    "    entity_type_to_title_indices = dict()\n",
    "    title_indices_to_entity_type = dict()\n",
    "    for annotation in title_annotations:    \n",
    "        entity_type, indices = extract_annotations(annotation)\n",
    "        entity_type_to_title_indices.setdefault(entity_type,list()).append(indices)\n",
    "        title_indices_to_entity_type[tuple(indices)] = entity_type\n",
    "        \n",
    "    # Abstract Annotations\n",
    "    entity_type_to_abstract_indices = dict() \n",
    "    abstract_indices_to_entity_type = dict()\n",
    "    for annotation in abstract_annotations:\n",
    "        entity_type, indices = extract_annotations(annotation)\n",
    "        entity_type_to_abstract_indices.setdefault(entity_type, list()).append(indices)\n",
    "        abstract_indices_to_entity_type[tuple(indices)] = entity_type\n",
    "        \n",
    "    # PMID->Entities->Indices\n",
    "    pmid_to_entity_type_to_indices[pmid] = dict()\n",
    "    pmid_to_entity_type_to_indices[pmid]['title'] = entity_type_to_title_indices\n",
    "    pmid_to_entity_type_to_indices[pmid]['abstract'] = entity_type_to_abstract_indices\n",
    "    \n",
    "    # PMID->Indices->Entity Type\n",
    "    pmid_to_indices_to_entity_type[pmid] = dict()\n",
    "    pmid_to_indices_to_entity_type[pmid]['title'] = title_indices_to_entity_type\n",
    "    pmid_to_indices_to_entity_type[pmid]['abstract'] = abstract_indices_to_entity_type\n",
    "    \n",
    "    # PMID->Indices->Entity Type->Entity\n",
    "    #...\n",
    "    #..."
   ]
  },
  {
   "cell_type": "code",
   "execution_count": 13,
   "id": "02c2f0be",
   "metadata": {},
   "outputs": [
    {
     "data": {
      "text/plain": [
       "{'28483579': {'title': {(83, 97): 'Disease', (101, 120): 'Disease'},\n",
       "  'abstract': {(212, 226): 'Disease',\n",
       "   (238, 246): 'Species',\n",
       "   (252, 287): 'Disease',\n",
       "   (334, 342): 'Species',\n",
       "   (440, 448): 'Species',\n",
       "   (604, 619): 'Disease',\n",
       "   (715, 723): 'Species',\n",
       "   (1091, 1105): 'Disease',\n",
       "   (1210, 1224): 'Disease'}},\n",
       " '28483578': {'title': {(0, 6): 'Gene',\n",
       "   (17, 23): 'Gene',\n",
       "   (69, 77): 'Disease',\n",
       "   (81, 85): 'Species',\n",
       "   (89, 98): 'Disease',\n",
       "   (104, 125): 'Species'},\n",
       "  'abstract': {(202, 211): 'Chemical',\n",
       "   (227, 241): 'Disease',\n",
       "   (534, 538): 'Species',\n",
       "   (544, 565): 'Species',\n",
       "   (567, 579): 'Species',\n",
       "   (581, 590): 'Disease',\n",
       "   (659, 667): 'Disease',\n",
       "   (681, 700): 'Disease',\n",
       "   (772, 778): 'Gene',\n",
       "   (809, 828): 'Disease',\n",
       "   (859, 865): 'Gene',\n",
       "   (876, 882): 'Gene',\n",
       "   (992, 998): 'Gene',\n",
       "   (1110, 1116): 'Gene',\n",
       "   (1202, 1214): 'Chemical',\n",
       "   (1274, 1280): 'Gene',\n",
       "   (1330, 1348): 'Disease',\n",
       "   (1349, 1353): 'Species',\n",
       "   (1378, 1384): 'Gene',\n",
       "   (1451, 1459): 'Disease',\n",
       "   (1509, 1521): 'Chemical',\n",
       "   (1527, 1535): 'Disease'}}}"
      ]
     },
     "execution_count": 13,
     "metadata": {},
     "output_type": "execute_result"
    }
   ],
   "source": [
    "pmid_to_indices_to_entity_type"
   ]
  },
  {
   "cell_type": "code",
   "execution_count": null,
   "id": "d75b449e",
   "metadata": {},
   "outputs": [],
   "source": []
  }
 ],
 "metadata": {
  "kernelspec": {
   "display_name": "Python 3 (ipykernel)",
   "language": "python",
   "name": "python3"
  },
  "language_info": {
   "codemirror_mode": {
    "name": "ipython",
    "version": 3
   },
   "file_extension": ".py",
   "mimetype": "text/x-python",
   "name": "python",
   "nbconvert_exporter": "python",
   "pygments_lexer": "ipython3",
   "version": "3.9.7"
  }
 },
 "nbformat": 4,
 "nbformat_minor": 5
}
