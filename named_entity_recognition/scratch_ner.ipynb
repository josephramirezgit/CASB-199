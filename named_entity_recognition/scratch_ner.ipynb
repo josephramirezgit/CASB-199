{
 "cells": [
  {
   "cell_type": "code",
   "execution_count": 1,
   "id": "71b54341",
   "metadata": {},
   "outputs": [],
   "source": [
    "import spacy\n",
    "import scispacy"
   ]
  },
  {
   "cell_type": "code",
   "execution_count": 2,
   "id": "123337d1",
   "metadata": {},
   "outputs": [],
   "source": [
    "import pytextrank"
   ]
  },
  {
   "cell_type": "code",
   "execution_count": 3,
   "id": "971bef12",
   "metadata": {},
   "outputs": [],
   "source": [
    "import en_core_sci_sm                                                      \n",
    "from spacy import displacy                                               \n",
    "import pandas as pd"
   ]
  },
  {
   "cell_type": "code",
   "execution_count": 4,
   "id": "4568fc4e",
   "metadata": {},
   "outputs": [],
   "source": [
    "def extract_proteins(path: str) -> list:\n",
    "    proteins = []\n",
    "\n",
    "    # read in text file\n",
    "    with open(path, 'r') as f:\n",
    "        lines = f.readlines()\n",
    "\n",
    "    # take the first value from text file\n",
    "    for line in lines:\n",
    "        proteins.append(line.split('|')[0])\n",
    "\n",
    "    # return list\n",
    "    return proteins"
   ]
  },
  {
   "cell_type": "code",
   "execution_count": 7,
   "id": "b721e054",
   "metadata": {},
   "outputs": [],
   "source": [
    "path = \"../classification/results/functions.txt\""
   ]
  },
  {
   "cell_type": "code",
   "execution_count": 8,
   "id": "23df6913",
   "metadata": {},
   "outputs": [],
   "source": [
    "all_prots = extract_proteins(path)"
   ]
  },
  {
   "cell_type": "code",
   "execution_count": 9,
   "id": "5778e56a",
   "metadata": {},
   "outputs": [
    {
     "name": "stderr",
     "output_type": "stream",
     "text": [
      "/var/folders/qm/zjpjs1cn2cs7098z5b1bf0vw0000gn/T/ipykernel_5198/785287295.py:1: FutureWarning: The error_bad_lines argument has been deprecated and will be removed in a future version. Use on_bad_lines in the future.\n",
      "\n",
      "\n",
      "  df = pd.read_csv(path, sep='|', error_bad_lines=False)\n",
      "b'Skipping line 21: expected 2 fields, saw 3\\nSkipping line 1331: expected 2 fields, saw 5\\nSkipping line 1617: expected 2 fields, saw 3\\nSkipping line 3208: expected 2 fields, saw 3\\nSkipping line 4494: expected 2 fields, saw 3\\nSkipping line 6204: expected 2 fields, saw 5\\nSkipping line 6583: expected 2 fields, saw 3\\nSkipping line 9257: expected 2 fields, saw 4\\nSkipping line 10319: expected 2 fields, saw 3\\nSkipping line 10448: expected 2 fields, saw 3\\nSkipping line 13097: expected 2 fields, saw 3\\nSkipping line 14681: expected 2 fields, saw 3\\nSkipping line 15189: expected 2 fields, saw 5\\nSkipping line 16602: expected 2 fields, saw 3\\n'\n"
     ]
    }
   ],
   "source": [
    "df = pd.read_csv(path, sep='|', error_bad_lines=False)"
   ]
  },
  {
   "cell_type": "code",
   "execution_count": 10,
   "id": "598d559f",
   "metadata": {},
   "outputs": [
    {
     "data": {
      "text/html": [
       "<div>\n",
       "<style scoped>\n",
       "    .dataframe tbody tr th:only-of-type {\n",
       "        vertical-align: middle;\n",
       "    }\n",
       "\n",
       "    .dataframe tbody tr th {\n",
       "        vertical-align: top;\n",
       "    }\n",
       "\n",
       "    .dataframe thead th {\n",
       "        text-align: right;\n",
       "    }\n",
       "</style>\n",
       "<table border=\"1\" class=\"dataframe\">\n",
       "  <thead>\n",
       "    <tr style=\"text-align: right;\">\n",
       "      <th></th>\n",
       "      <th>Protein</th>\n",
       "      <th>Description</th>\n",
       "    </tr>\n",
       "  </thead>\n",
       "  <tbody>\n",
       "    <tr>\n",
       "      <th>0</th>\n",
       "      <td>O89090</td>\n",
       "      <td>Transcription factor that can activate or repr...</td>\n",
       "    </tr>\n",
       "    <tr>\n",
       "      <th>1</th>\n",
       "      <td>Q9ULI3</td>\n",
       "      <td>Receptor component of the CCM signaling pathwa...</td>\n",
       "    </tr>\n",
       "    <tr>\n",
       "      <th>2</th>\n",
       "      <td>P04049</td>\n",
       "      <td>Serine/threonine-protein kinase that acts as a...</td>\n",
       "    </tr>\n",
       "    <tr>\n",
       "      <th>3</th>\n",
       "      <td>Q4GWZ2</td>\n",
       "      <td>Required for the assembly and/or stability of ...</td>\n",
       "    </tr>\n",
       "    <tr>\n",
       "      <th>4</th>\n",
       "      <td>Q6AY86</td>\n",
       "      <td>Acts as component of the retromer cargo-select...</td>\n",
       "    </tr>\n",
       "    <tr>\n",
       "      <th>...</th>\n",
       "      <td>...</td>\n",
       "      <td>...</td>\n",
       "    </tr>\n",
       "    <tr>\n",
       "      <th>17756</th>\n",
       "      <td>P40227</td>\n",
       "      <td>Component of the chaperonin-containing T-compl...</td>\n",
       "    </tr>\n",
       "    <tr>\n",
       "      <th>17757</th>\n",
       "      <td>Q9H4B0</td>\n",
       "      <td>Required for the formation of a threonylcarbam...</td>\n",
       "    </tr>\n",
       "    <tr>\n",
       "      <th>17758</th>\n",
       "      <td>Q15008</td>\n",
       "      <td>Component of the 26S proteasome, a multiprotei...</td>\n",
       "    </tr>\n",
       "    <tr>\n",
       "      <th>17759</th>\n",
       "      <td>Q9JJ43</td>\n",
       "      <td>RNA-binding protein that regulates alternative...</td>\n",
       "    </tr>\n",
       "    <tr>\n",
       "      <th>17760</th>\n",
       "      <td>P14854</td>\n",
       "      <td>Component of the cytochrome c oxidase, the las...</td>\n",
       "    </tr>\n",
       "  </tbody>\n",
       "</table>\n",
       "<p>17761 rows × 2 columns</p>\n",
       "</div>"
      ],
      "text/plain": [
       "      Protein                                        Description\n",
       "0      O89090  Transcription factor that can activate or repr...\n",
       "1      Q9ULI3  Receptor component of the CCM signaling pathwa...\n",
       "2      P04049  Serine/threonine-protein kinase that acts as a...\n",
       "3      Q4GWZ2  Required for the assembly and/or stability of ...\n",
       "4      Q6AY86  Acts as component of the retromer cargo-select...\n",
       "...       ...                                                ...\n",
       "17756  P40227  Component of the chaperonin-containing T-compl...\n",
       "17757  Q9H4B0  Required for the formation of a threonylcarbam...\n",
       "17758  Q15008  Component of the 26S proteasome, a multiprotei...\n",
       "17759  Q9JJ43  RNA-binding protein that regulates alternative...\n",
       "17760  P14854  Component of the cytochrome c oxidase, the las...\n",
       "\n",
       "[17761 rows x 2 columns]"
      ]
     },
     "execution_count": 10,
     "metadata": {},
     "output_type": "execute_result"
    }
   ],
   "source": [
    "df"
   ]
  },
  {
   "cell_type": "code",
   "execution_count": 11,
   "id": "f1df400b",
   "metadata": {},
   "outputs": [
    {
     "data": {
      "text/plain": [
       "'Mediates the import of long-chain fatty acids (LCFA) into the cell by facilitating their transport at the plasma membrane (PubMed:19380575). Also functions as an acyl-CoA ligase catalyzing the ATP-dependent formation of fatty acyl-CoA using LCFA and very-long-chain fatty acids (VLCFA) as substrates, which prevents fatty acid efflux from cells and might drive more fatty acid uptake. May act directly as a bona fide transporter, or alternatively, in a cytoplasmic or membrane-associated multimeric protein complex to trap and draw fatty acids towards accumulation. Plays a pivotal role in regulating available LCFA substrates from exogenous sources in tissues undergoing high levels of beta-oxidation or triglyceride synthesis. May be involved in regulation of cholesterol metabolism. Probably involved in fatty acid transport across the blood barrier (By similarity)'"
      ]
     },
     "execution_count": 11,
     "metadata": {},
     "output_type": "execute_result"
    }
   ],
   "source": [
    "df.iloc[16601][\"Description\"]"
   ]
  },
  {
   "cell_type": "code",
   "execution_count": 12,
   "id": "e4c31852",
   "metadata": {},
   "outputs": [],
   "source": [
    "# get nlp working maybe not run the whole thing \n",
    "# start analysis on csvs tomorrow \n",
    "for protein in df[\"Protein\"]:\n",
    "    if protein in all_prots:\n",
    "        pass\n",
    "    else:\n",
    "        print(protein)"
   ]
  },
  {
   "cell_type": "code",
   "execution_count": 13,
   "id": "11946154",
   "metadata": {},
   "outputs": [
    {
     "name": "stdout",
     "output_type": "stream",
     "text": [
      "17761\n",
      "17778\n"
     ]
    }
   ],
   "source": [
    "print(len(df[\"Protein\"]))\n",
    "print(len(all_prots))"
   ]
  },
  {
   "attachments": {},
   "cell_type": "markdown",
   "id": "f60328a4",
   "metadata": {},
   "source": [
    "Sample Textrank"
   ]
  },
  {
   "cell_type": "code",
   "execution_count": 14,
   "id": "bb50cbf3",
   "metadata": {},
   "outputs": [
    {
     "ename": "AttributeError",
     "evalue": "[E046] Can't retrieve unregistered extension attribute 'nouns'. Did you forget to call the `set_extension` method?",
     "output_type": "error",
     "traceback": [
      "\u001b[0;31m---------------------------------------------------------------------------\u001b[0m",
      "\u001b[0;31mAttributeError\u001b[0m                            Traceback (most recent call last)",
      "\u001b[0;32m/var/folders/qm/zjpjs1cn2cs7098z5b1bf0vw0000gn/T/ipykernel_5198/1541752544.py\u001b[0m in \u001b[0;36m<module>\u001b[0;34m\u001b[0m\n\u001b[1;32m      6\u001b[0m \u001b[0;34m\u001b[0m\u001b[0m\n\u001b[1;32m      7\u001b[0m \u001b[0;31m# examine the top-ranked phrases in the document\u001b[0m\u001b[0;34m\u001b[0m\u001b[0;34m\u001b[0m\u001b[0m\n\u001b[0;32m----> 8\u001b[0;31m \u001b[0;32mfor\u001b[0m \u001b[0mphrase\u001b[0m \u001b[0;32min\u001b[0m \u001b[0mdoc\u001b[0m\u001b[0;34m.\u001b[0m\u001b[0m_\u001b[0m\u001b[0;34m.\u001b[0m\u001b[0mnouns\u001b[0m\u001b[0;34m:\u001b[0m\u001b[0;34m\u001b[0m\u001b[0;34m\u001b[0m\u001b[0m\n\u001b[0m\u001b[1;32m      9\u001b[0m     \u001b[0md\u001b[0m\u001b[0;34m[\u001b[0m\u001b[0mphrase\u001b[0m\u001b[0;34m.\u001b[0m\u001b[0mtext\u001b[0m\u001b[0;34m]\u001b[0m \u001b[0;34m=\u001b[0m \u001b[0mphrase\u001b[0m\u001b[0;34m.\u001b[0m\u001b[0mrank\u001b[0m\u001b[0;34m\u001b[0m\u001b[0;34m\u001b[0m\u001b[0m\n",
      "\u001b[0;32m~/opt/anaconda3/lib/python3.9/site-packages/spacy/tokens/underscore.py\u001b[0m in \u001b[0;36m__getattr__\u001b[0;34m(self, name)\u001b[0m\n\u001b[1;32m     45\u001b[0m     \u001b[0;32mdef\u001b[0m \u001b[0m__getattr__\u001b[0m\u001b[0;34m(\u001b[0m\u001b[0mself\u001b[0m\u001b[0;34m,\u001b[0m \u001b[0mname\u001b[0m\u001b[0;34m:\u001b[0m \u001b[0mstr\u001b[0m\u001b[0;34m)\u001b[0m \u001b[0;34m->\u001b[0m \u001b[0mAny\u001b[0m\u001b[0;34m:\u001b[0m\u001b[0;34m\u001b[0m\u001b[0;34m\u001b[0m\u001b[0m\n\u001b[1;32m     46\u001b[0m         \u001b[0;32mif\u001b[0m \u001b[0mname\u001b[0m \u001b[0;32mnot\u001b[0m \u001b[0;32min\u001b[0m \u001b[0mself\u001b[0m\u001b[0;34m.\u001b[0m\u001b[0m_extensions\u001b[0m\u001b[0;34m:\u001b[0m\u001b[0;34m\u001b[0m\u001b[0;34m\u001b[0m\u001b[0m\n\u001b[0;32m---> 47\u001b[0;31m             \u001b[0;32mraise\u001b[0m \u001b[0mAttributeError\u001b[0m\u001b[0;34m(\u001b[0m\u001b[0mErrors\u001b[0m\u001b[0;34m.\u001b[0m\u001b[0mE046\u001b[0m\u001b[0;34m.\u001b[0m\u001b[0mformat\u001b[0m\u001b[0;34m(\u001b[0m\u001b[0mname\u001b[0m\u001b[0;34m=\u001b[0m\u001b[0mname\u001b[0m\u001b[0;34m)\u001b[0m\u001b[0;34m)\u001b[0m\u001b[0;34m\u001b[0m\u001b[0;34m\u001b[0m\u001b[0m\n\u001b[0m\u001b[1;32m     48\u001b[0m         \u001b[0mdefault\u001b[0m\u001b[0;34m,\u001b[0m \u001b[0mmethod\u001b[0m\u001b[0;34m,\u001b[0m \u001b[0mgetter\u001b[0m\u001b[0;34m,\u001b[0m \u001b[0msetter\u001b[0m \u001b[0;34m=\u001b[0m \u001b[0mself\u001b[0m\u001b[0;34m.\u001b[0m\u001b[0m_extensions\u001b[0m\u001b[0;34m[\u001b[0m\u001b[0mname\u001b[0m\u001b[0;34m]\u001b[0m\u001b[0;34m\u001b[0m\u001b[0;34m\u001b[0m\u001b[0m\n\u001b[1;32m     49\u001b[0m         \u001b[0;32mif\u001b[0m \u001b[0mgetter\u001b[0m \u001b[0;32mis\u001b[0m \u001b[0;32mnot\u001b[0m \u001b[0;32mNone\u001b[0m\u001b[0;34m:\u001b[0m\u001b[0;34m\u001b[0m\u001b[0;34m\u001b[0m\u001b[0m\n",
      "\u001b[0;31mAttributeError\u001b[0m: [E046] Can't retrieve unregistered extension attribute 'nouns'. Did you forget to call the `set_extension` method?"
     ]
    }
   ],
   "source": [
    "text = 'Mediates the import of long-chain fatty acids (LCFA) into the cell by facilitating their transport at the plasma membrane (PubMed:19380575). Also functions as an acyl-CoA ligase catalyzing the ATP-dependent formation of fatty acyl-CoA using LCFA and very-long-chain fatty acids (VLCFA) as substrates, which prevents fatty acid efflux from cells and might drive more fatty acid uptake. May act directly as a bona fide transporter, or alternatively, in a cytoplasmic or membrane-associated multimeric protein complex to trap and draw fatty acids towards accumulation. Plays a pivotal role in regulating available LCFA substrates from exogenous sources in tissues undergoing high levels of beta-oxidation or triglyceride synthesis. May be involved in regulation of cholesterol metabolism. Probably involved in fatty acid transport across the blood barrier (By similarity)'\n",
    "nlp = spacy.load(\"en_core_sci_sm\")\n",
    "nlp.add_pipe(\"textrank\")\n",
    "doc = nlp(text)\n",
    "d = {}\n",
    "\n",
    "# examine the top-ranked phrases in the document\n",
    "for phrase in doc._.nouns:\n",
    "    d[phrase.text] = phrase.rank"
   ]
  },
  {
   "cell_type": "code",
   "execution_count": 15,
   "id": "e8e15fc3",
   "metadata": {},
   "outputs": [
    {
     "data": {
      "text/plain": [
       "Mediates the import of long-chain fatty acids (LCFA) into the cell by facilitating their transport at the plasma membrane (PubMed:19380575). Also functions as an acyl-CoA ligase catalyzing the ATP-dependent formation of fatty acyl-CoA using LCFA and very-long-chain fatty acids (VLCFA) as substrates, which prevents fatty acid efflux from cells and might drive more fatty acid uptake. May act directly as a bona fide transporter, or alternatively, in a cytoplasmic or membrane-associated multimeric protein complex to trap and draw fatty acids towards accumulation. Plays a pivotal role in regulating available LCFA substrates from exogenous sources in tissues undergoing high levels of beta-oxidation or triglyceride synthesis. May be involved in regulation of cholesterol metabolism. Probably involved in fatty acid transport across the blood barrier (By similarity)"
      ]
     },
     "execution_count": 15,
     "metadata": {},
     "output_type": "execute_result"
    }
   ],
   "source": [
    "doc._."
   ]
  },
  {
   "cell_type": "code",
   "execution_count": 52,
   "id": "f26c4944",
   "metadata": {},
   "outputs": [
    {
     "data": {
      "text/plain": [
       "{'fatty acid': 0.1736535348277748,\n",
       " 'fatty acids': 0.1736535348277748,\n",
       " 'fatty acid transport': 0.17296256150418232,\n",
       " 'draw fatty acids': 0.17016020606868004,\n",
       " 'very-long-chain fatty acids': 0.1687754339713125,\n",
       " 'fatty acid efflux': 0.16872119172401787,\n",
       " 'long-chain fatty acids': 0.16371804342835333,\n",
       " 'fatty acyl-CoA': 0.13864945196329453,\n",
       " 'triglyceride synthesis': 0.11741574869618474,\n",
       " 'more fatty acid uptake': 0.0995953458529882,\n",
       " 'membrane-associated multimeric protein complex': 0.09872108609843488,\n",
       " 'available LCFA substrates': 0.09483704066079887,\n",
       " 'high levels': 0.0914970886074248,\n",
       " 'plasma membrane': 0.08814483153849245,\n",
       " 'PubMed:19380575': 0.0876220630586746,\n",
       " 'blood barrier': 0.08538700848770249,\n",
       " 'cell': 0.08167812544226531,\n",
       " 'cells': 0.08167812544226531,\n",
       " 'substrates': 0.07928699578638707,\n",
       " 'LCFA': 0.07913334661107899,\n",
       " 'transport': 0.07722091457735752,\n",
       " 'bona fide transporter': 0.07148846319621042,\n",
       " 'beta-oxidation': 0.07079478944712034,\n",
       " 'levels': 0.06937518664232485,\n",
       " 'cholesterol metabolism': 0.06735919511254887,\n",
       " 'trap': 0.06677303306046516,\n",
       " 'accumulation': 0.06479097502129023,\n",
       " 'tissues': 0.06411628823840296,\n",
       " 'prevents': 0.06396498168052786,\n",
       " 'uptake': 0.06361658256293572,\n",
       " 'efflux': 0.0634885301011914,\n",
       " 'VLCFA': 0.06340726638132002,\n",
       " 'sources': 0.06223005440118557,\n",
       " 'exogenous': 0.0600665999839102,\n",
       " 'cytoplasmic': 0.05505905994001694,\n",
       " 'formation': 0.05505905994001694,\n",
       " 'acyl-CoA ligase': 0.05354938110237349,\n",
       " 'ATP-dependent': 0.051712260887418385,\n",
       " 'regulating': 0.04823732479518069,\n",
       " 'May act': 0.047270019644970435,\n",
       " '(PubMed:19380575': 0.04047089735510093,\n",
       " 'the ATP-dependent formation': 0.03776790306452954,\n",
       " 'import': 0.03758778852383762,\n",
       " '(LCFA': 0.03655012717422593,\n",
       " 'their transport': 0.03566681265464518,\n",
       " 'regulation': 0.035452514733727826,\n",
       " 'alternatively, in a cytoplasmic or membrane-associated multimeric protein complex': 0.03322831087596481,\n",
       " 'May': 0.03318011084637359,\n",
       " 'functions': 0.03318011084637359,\n",
       " '(VLCFA': 0.02928656185106674,\n",
       " 'a pivotal role': 0.028398847879373294,\n",
       " 'the import': 0.017361055857984305}"
      ]
     },
     "execution_count": 52,
     "metadata": {},
     "output_type": "execute_result"
    }
   ],
   "source": [
    "d\n",
    "# if the textrank score is the same within 4 decimals, group based on score\n",
    "# dont delete just combine \n",
    "    # see how often we need to correct\n",
    "    # is-a-substring-of rule (prob helper function)\n",
    "# add a scubber "
   ]
  },
  {
   "cell_type": "code",
   "execution_count": 29,
   "id": "aa272da6",
   "metadata": {},
   "outputs": [],
   "source": [
    "tr = doc._.textrank"
   ]
  },
  {
   "cell_type": "code",
   "execution_count": 36,
   "id": "da1ef943",
   "metadata": {},
   "outputs": [
    {
     "data": {
      "text/plain": [
       "['__class__',\n",
       " '__delattr__',\n",
       " '__dict__',\n",
       " '__dir__',\n",
       " '__doc__',\n",
       " '__eq__',\n",
       " '__format__',\n",
       " '__ge__',\n",
       " '__getattribute__',\n",
       " '__gt__',\n",
       " '__hash__',\n",
       " '__init__',\n",
       " '__init_subclass__',\n",
       " '__le__',\n",
       " '__lt__',\n",
       " '__module__',\n",
       " '__ne__',\n",
       " '__new__',\n",
       " '__reduce__',\n",
       " '__reduce_ex__',\n",
       " '__repr__',\n",
       " '__setattr__',\n",
       " '__sizeof__',\n",
       " '__str__',\n",
       " '__subclasshook__',\n",
       " '__weakref__',\n",
       " '_calc_discounted_normalised_rank',\n",
       " '_collect_phrases',\n",
       " '_construct_graph',\n",
       " '_get_min_phrases',\n",
       " '_is_stopword',\n",
       " '_keep_token',\n",
       " 'calc_sent_dist',\n",
       " 'calc_textrank',\n",
       " 'default_bias',\n",
       " 'doc',\n",
       " 'edge_list',\n",
       " 'edge_weight',\n",
       " 'elapsed_time',\n",
       " 'focus_tokens',\n",
       " 'get_personalization',\n",
       " 'get_unit_vector',\n",
       " 'lemma_graph',\n",
       " 'node_bias',\n",
       " 'node_list',\n",
       " 'phrases',\n",
       " 'plot_keyphrases',\n",
       " 'pos_kept',\n",
       " 'ranks',\n",
       " 'reset',\n",
       " 'scrubber',\n",
       " 'seen_lemma',\n",
       " 'segment_paragraphs',\n",
       " 'stopwords',\n",
       " 'summary',\n",
       " 'token_lookback',\n",
       " 'write_dot']"
      ]
     },
     "execution_count": 36,
     "metadata": {},
     "output_type": "execute_result"
    }
   ],
   "source": []
  },
  {
   "attachments": {},
   "cell_type": "markdown",
   "id": "110c24c0",
   "metadata": {},
   "source": [
    "Sample textrank on entire text document"
   ]
  },
  {
   "cell_type": "code",
   "execution_count": 53,
   "id": "5a96c9d4",
   "metadata": {},
   "outputs": [
    {
     "ename": "ValueError",
     "evalue": "[E088] Text of length 9133782 exceeds maximum of 1000000. The parser and NER models require roughly 1GB of temporary memory per 100,000 characters in the input. This means long texts may cause memory allocation errors. If you're not using the parser or NER, it's probably safe to increase the `nlp.max_length` limit. The limit is in number of characters, so you can check whether your inputs are too long by checking `len(text)`.",
     "output_type": "error",
     "traceback": [
      "\u001b[0;31m---------------------------------------------------------------------------\u001b[0m",
      "\u001b[0;31mValueError\u001b[0m                                Traceback (most recent call last)",
      "\u001b[0;32m/var/folders/qm/zjpjs1cn2cs7098z5b1bf0vw0000gn/T/ipykernel_1675/3448834197.py\u001b[0m in \u001b[0;36m<module>\u001b[0;34m\u001b[0m\n\u001b[0;32m----> 1\u001b[0;31m \u001b[0mdoc\u001b[0m \u001b[0;34m=\u001b[0m \u001b[0mnlp\u001b[0m\u001b[0;34m(\u001b[0m\u001b[0mopen\u001b[0m\u001b[0;34m(\u001b[0m\u001b[0mpath\u001b[0m\u001b[0;34m)\u001b[0m\u001b[0;34m.\u001b[0m\u001b[0mread\u001b[0m\u001b[0;34m(\u001b[0m\u001b[0;34m)\u001b[0m\u001b[0;34m)\u001b[0m\u001b[0;34m\u001b[0m\u001b[0;34m\u001b[0m\u001b[0m\n\u001b[0m",
      "\u001b[0;32m~/opt/anaconda3/lib/python3.9/site-packages/spacy/language.py\u001b[0m in \u001b[0;36m__call__\u001b[0;34m(self, text, disable, component_cfg)\u001b[0m\n\u001b[1;32m   1012\u001b[0m         \u001b[0mDOCS\u001b[0m\u001b[0;34m:\u001b[0m \u001b[0mhttps\u001b[0m\u001b[0;34m:\u001b[0m\u001b[0;34m//\u001b[0m\u001b[0mspacy\u001b[0m\u001b[0;34m.\u001b[0m\u001b[0mio\u001b[0m\u001b[0;34m/\u001b[0m\u001b[0mapi\u001b[0m\u001b[0;34m/\u001b[0m\u001b[0mlanguage\u001b[0m\u001b[0;31m#call\u001b[0m\u001b[0;34m\u001b[0m\u001b[0;34m\u001b[0m\u001b[0m\n\u001b[1;32m   1013\u001b[0m         \"\"\"\n\u001b[0;32m-> 1014\u001b[0;31m         \u001b[0mdoc\u001b[0m \u001b[0;34m=\u001b[0m \u001b[0mself\u001b[0m\u001b[0;34m.\u001b[0m\u001b[0m_ensure_doc\u001b[0m\u001b[0;34m(\u001b[0m\u001b[0mtext\u001b[0m\u001b[0;34m)\u001b[0m\u001b[0;34m\u001b[0m\u001b[0;34m\u001b[0m\u001b[0m\n\u001b[0m\u001b[1;32m   1015\u001b[0m         \u001b[0;32mif\u001b[0m \u001b[0mcomponent_cfg\u001b[0m \u001b[0;32mis\u001b[0m \u001b[0;32mNone\u001b[0m\u001b[0;34m:\u001b[0m\u001b[0;34m\u001b[0m\u001b[0;34m\u001b[0m\u001b[0m\n\u001b[1;32m   1016\u001b[0m             \u001b[0mcomponent_cfg\u001b[0m \u001b[0;34m=\u001b[0m \u001b[0;34m{\u001b[0m\u001b[0;34m}\u001b[0m\u001b[0;34m\u001b[0m\u001b[0;34m\u001b[0m\u001b[0m\n",
      "\u001b[0;32m~/opt/anaconda3/lib/python3.9/site-packages/spacy/language.py\u001b[0m in \u001b[0;36m_ensure_doc\u001b[0;34m(self, doc_like)\u001b[0m\n\u001b[1;32m   1103\u001b[0m             \u001b[0;32mreturn\u001b[0m \u001b[0mdoc_like\u001b[0m\u001b[0;34m\u001b[0m\u001b[0;34m\u001b[0m\u001b[0m\n\u001b[1;32m   1104\u001b[0m         \u001b[0;32mif\u001b[0m \u001b[0misinstance\u001b[0m\u001b[0;34m(\u001b[0m\u001b[0mdoc_like\u001b[0m\u001b[0;34m,\u001b[0m \u001b[0mstr\u001b[0m\u001b[0;34m)\u001b[0m\u001b[0;34m:\u001b[0m\u001b[0;34m\u001b[0m\u001b[0;34m\u001b[0m\u001b[0m\n\u001b[0;32m-> 1105\u001b[0;31m             \u001b[0;32mreturn\u001b[0m \u001b[0mself\u001b[0m\u001b[0;34m.\u001b[0m\u001b[0mmake_doc\u001b[0m\u001b[0;34m(\u001b[0m\u001b[0mdoc_like\u001b[0m\u001b[0;34m)\u001b[0m\u001b[0;34m\u001b[0m\u001b[0;34m\u001b[0m\u001b[0m\n\u001b[0m\u001b[1;32m   1106\u001b[0m         \u001b[0;32mif\u001b[0m \u001b[0misinstance\u001b[0m\u001b[0;34m(\u001b[0m\u001b[0mdoc_like\u001b[0m\u001b[0;34m,\u001b[0m \u001b[0mbytes\u001b[0m\u001b[0;34m)\u001b[0m\u001b[0;34m:\u001b[0m\u001b[0;34m\u001b[0m\u001b[0;34m\u001b[0m\u001b[0m\n\u001b[1;32m   1107\u001b[0m             \u001b[0;32mreturn\u001b[0m \u001b[0mDoc\u001b[0m\u001b[0;34m(\u001b[0m\u001b[0mself\u001b[0m\u001b[0;34m.\u001b[0m\u001b[0mvocab\u001b[0m\u001b[0;34m)\u001b[0m\u001b[0;34m.\u001b[0m\u001b[0mfrom_bytes\u001b[0m\u001b[0;34m(\u001b[0m\u001b[0mdoc_like\u001b[0m\u001b[0;34m)\u001b[0m\u001b[0;34m\u001b[0m\u001b[0;34m\u001b[0m\u001b[0m\n",
      "\u001b[0;32m~/opt/anaconda3/lib/python3.9/site-packages/spacy/language.py\u001b[0m in \u001b[0;36mmake_doc\u001b[0;34m(self, text)\u001b[0m\n\u001b[1;32m   1092\u001b[0m         \"\"\"\n\u001b[1;32m   1093\u001b[0m         \u001b[0;32mif\u001b[0m \u001b[0mlen\u001b[0m\u001b[0;34m(\u001b[0m\u001b[0mtext\u001b[0m\u001b[0;34m)\u001b[0m \u001b[0;34m>\u001b[0m \u001b[0mself\u001b[0m\u001b[0;34m.\u001b[0m\u001b[0mmax_length\u001b[0m\u001b[0;34m:\u001b[0m\u001b[0;34m\u001b[0m\u001b[0;34m\u001b[0m\u001b[0m\n\u001b[0;32m-> 1094\u001b[0;31m             raise ValueError(\n\u001b[0m\u001b[1;32m   1095\u001b[0m                 \u001b[0mErrors\u001b[0m\u001b[0;34m.\u001b[0m\u001b[0mE088\u001b[0m\u001b[0;34m.\u001b[0m\u001b[0mformat\u001b[0m\u001b[0;34m(\u001b[0m\u001b[0mlength\u001b[0m\u001b[0;34m=\u001b[0m\u001b[0mlen\u001b[0m\u001b[0;34m(\u001b[0m\u001b[0mtext\u001b[0m\u001b[0;34m)\u001b[0m\u001b[0;34m,\u001b[0m \u001b[0mmax_length\u001b[0m\u001b[0;34m=\u001b[0m\u001b[0mself\u001b[0m\u001b[0;34m.\u001b[0m\u001b[0mmax_length\u001b[0m\u001b[0;34m)\u001b[0m\u001b[0;34m\u001b[0m\u001b[0;34m\u001b[0m\u001b[0m\n\u001b[1;32m   1096\u001b[0m             )\n",
      "\u001b[0;31mValueError\u001b[0m: [E088] Text of length 9133782 exceeds maximum of 1000000. The parser and NER models require roughly 1GB of temporary memory per 100,000 characters in the input. This means long texts may cause memory allocation errors. If you're not using the parser or NER, it's probably safe to increase the `nlp.max_length` limit. The limit is in number of characters, so you can check whether your inputs are too long by checking `len(text)`."
     ]
    }
   ],
   "source": [
    "doc = nlp(open(path).read())"
   ]
  }
 ],
 "metadata": {
  "kernelspec": {
   "display_name": "base",
   "language": "python",
   "name": "python3"
  },
  "language_info": {
   "codemirror_mode": {
    "name": "ipython",
    "version": 3
   },
   "file_extension": ".py",
   "mimetype": "text/x-python",
   "name": "python",
   "nbconvert_exporter": "python",
   "pygments_lexer": "ipython3",
   "version": "3.9.13"
  },
  "vscode": {
   "interpreter": {
    "hash": "79732fd3e39fcc86bf7c7aeb079145247bae47b6d1bafa505c129d7881fdf4a2"
   }
  }
 },
 "nbformat": 4,
 "nbformat_minor": 5
}
