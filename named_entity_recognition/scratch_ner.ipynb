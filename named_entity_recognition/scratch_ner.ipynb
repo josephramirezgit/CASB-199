{
 "cells": [
  {
   "cell_type": "code",
   "execution_count": 4,
   "id": "71b54341",
   "metadata": {},
   "outputs": [],
   "source": [
    "import spacy\n",
    "import scispacy"
   ]
  },
  {
   "cell_type": "code",
   "execution_count": 5,
   "id": "971bef12",
   "metadata": {},
   "outputs": [],
   "source": [
    "import en_core_sci_sm                                                      \n",
    "from spacy import displacy                                               \n",
    "import pandas as pd"
   ]
  },
  {
   "cell_type": "code",
   "execution_count": 6,
   "id": "4568fc4e",
   "metadata": {},
   "outputs": [],
   "source": [
    "def extract_proteins(path: str) -> list:\n",
    "    proteins = []\n",
    "\n",
    "    # read in text file\n",
    "    with open(path, 'r') as f:\n",
    "        lines = f.readlines()\n",
    "\n",
    "    # take the first value from text file\n",
    "    for line in lines:\n",
    "        proteins.append(line.split('|')[0])\n",
    "\n",
    "    # return list\n",
    "    return proteins"
   ]
  },
  {
   "cell_type": "code",
   "execution_count": 8,
   "id": "b721e054",
   "metadata": {},
   "outputs": [],
   "source": [
    "path = \"../classification/results/functions.txt\""
   ]
  },
  {
   "cell_type": "code",
   "execution_count": 10,
   "id": "5778e56a",
   "metadata": {},
   "outputs": [
    {
     "name": "stderr",
     "output_type": "stream",
     "text": [
      "/var/folders/qm/zjpjs1cn2cs7098z5b1bf0vw0000gn/T/ipykernel_20047/785287295.py:1: FutureWarning: The error_bad_lines argument has been deprecated and will be removed in a future version. Use on_bad_lines in the future.\n",
      "\n",
      "\n",
      "  df = pd.read_csv(path, sep='|', error_bad_lines=False)\n",
      "b'Skipping line 20: expected 2 fields, saw 3\\nSkipping line 1330: expected 2 fields, saw 5\\nSkipping line 1616: expected 2 fields, saw 3\\nSkipping line 3207: expected 2 fields, saw 3\\nSkipping line 4493: expected 2 fields, saw 3\\nSkipping line 6203: expected 2 fields, saw 5\\nSkipping line 6582: expected 2 fields, saw 3\\nSkipping line 9256: expected 2 fields, saw 4\\nSkipping line 10318: expected 2 fields, saw 3\\nSkipping line 10447: expected 2 fields, saw 3\\nSkipping line 13096: expected 2 fields, saw 3\\nSkipping line 14680: expected 2 fields, saw 3\\nSkipping line 15188: expected 2 fields, saw 5\\nSkipping line 16601: expected 2 fields, saw 3\\n'\n"
     ]
    }
   ],
   "source": [
    "df = pd.read_csv(path, sep='|', error_bad_lines=False)"
   ]
  },
  {
   "cell_type": "code",
   "execution_count": 11,
   "id": "598d559f",
   "metadata": {},
   "outputs": [
    {
     "data": {
      "text/html": [
       "<div>\n",
       "<style scoped>\n",
       "    .dataframe tbody tr th:only-of-type {\n",
       "        vertical-align: middle;\n",
       "    }\n",
       "\n",
       "    .dataframe tbody tr th {\n",
       "        vertical-align: top;\n",
       "    }\n",
       "\n",
       "    .dataframe thead th {\n",
       "        text-align: right;\n",
       "    }\n",
       "</style>\n",
       "<table border=\"1\" class=\"dataframe\">\n",
       "  <thead>\n",
       "    <tr style=\"text-align: right;\">\n",
       "      <th></th>\n",
       "      <th>O89090</th>\n",
       "      <th>Transcription factor that can activate or repress transcription in response to physiological and pathological stimuli. Binds with high affinity to GC-rich motifs and regulates the expression of a large number of genes involved in a variety of processes such as cell growth, apoptosis, differentiation and immune responses. Highly regulated by post-translational modifications (phosphorylations, sumoylation, proteolytic cleavage, glycosylation and acetylation). Binds also the PDGFR-alpha G-box promoter. May have a role in modulating the cellular response to DNA damage. Implicated in chromatin remodeling. Plays a role in the recruitment of SMARCA4/BRG1 on the c-FOS promoter Plays an essential role in the regulation of FE65 gene expression (By similarity). Positively regulates the transcription of the core clock component BMAL1 (PubMed:24030830). Plays a role in protecting cells against oxidative stress following brain injury by regulating the expression of RNF112 (PubMed:27918959)</th>\n",
       "    </tr>\n",
       "  </thead>\n",
       "  <tbody>\n",
       "    <tr>\n",
       "      <th>0</th>\n",
       "      <td>Q9ULI3</td>\n",
       "      <td>Receptor component of the CCM signaling pathwa...</td>\n",
       "    </tr>\n",
       "    <tr>\n",
       "      <th>1</th>\n",
       "      <td>P04049</td>\n",
       "      <td>Serine/threonine-protein kinase that acts as a...</td>\n",
       "    </tr>\n",
       "    <tr>\n",
       "      <th>2</th>\n",
       "      <td>Q4GWZ2</td>\n",
       "      <td>Required for the assembly and/or stability of ...</td>\n",
       "    </tr>\n",
       "    <tr>\n",
       "      <th>3</th>\n",
       "      <td>Q6AY86</td>\n",
       "      <td>Acts as component of the retromer cargo-select...</td>\n",
       "    </tr>\n",
       "    <tr>\n",
       "      <th>4</th>\n",
       "      <td>F1RUJ4</td>\n",
       "      <td>Catalyzes the irreversible NADPH-dependent dea...</td>\n",
       "    </tr>\n",
       "    <tr>\n",
       "      <th>...</th>\n",
       "      <td>...</td>\n",
       "      <td>...</td>\n",
       "    </tr>\n",
       "    <tr>\n",
       "      <th>17755</th>\n",
       "      <td>P40227</td>\n",
       "      <td>Component of the chaperonin-containing T-compl...</td>\n",
       "    </tr>\n",
       "    <tr>\n",
       "      <th>17756</th>\n",
       "      <td>Q9H4B0</td>\n",
       "      <td>Required for the formation of a threonylcarbam...</td>\n",
       "    </tr>\n",
       "    <tr>\n",
       "      <th>17757</th>\n",
       "      <td>Q15008</td>\n",
       "      <td>Component of the 26S proteasome, a multiprotei...</td>\n",
       "    </tr>\n",
       "    <tr>\n",
       "      <th>17758</th>\n",
       "      <td>Q9JJ43</td>\n",
       "      <td>RNA-binding protein that regulates alternative...</td>\n",
       "    </tr>\n",
       "    <tr>\n",
       "      <th>17759</th>\n",
       "      <td>P14854</td>\n",
       "      <td>Component of the cytochrome c oxidase, the las...</td>\n",
       "    </tr>\n",
       "  </tbody>\n",
       "</table>\n",
       "<p>17760 rows × 2 columns</p>\n",
       "</div>"
      ],
      "text/plain": [
       "       O89090  \\\n",
       "0      Q9ULI3   \n",
       "1      P04049   \n",
       "2      Q4GWZ2   \n",
       "3      Q6AY86   \n",
       "4      F1RUJ4   \n",
       "...       ...   \n",
       "17755  P40227   \n",
       "17756  Q9H4B0   \n",
       "17757  Q15008   \n",
       "17758  Q9JJ43   \n",
       "17759  P14854   \n",
       "\n",
       "      Transcription factor that can activate or repress transcription in response to physiological and pathological stimuli. Binds with high affinity to GC-rich motifs and regulates the expression of a large number of genes involved in a variety of processes such as cell growth, apoptosis, differentiation and immune responses. Highly regulated by post-translational modifications (phosphorylations, sumoylation, proteolytic cleavage, glycosylation and acetylation). Binds also the PDGFR-alpha G-box promoter. May have a role in modulating the cellular response to DNA damage. Implicated in chromatin remodeling. Plays a role in the recruitment of SMARCA4/BRG1 on the c-FOS promoter Plays an essential role in the regulation of FE65 gene expression (By similarity). Positively regulates the transcription of the core clock component BMAL1 (PubMed:24030830). Plays a role in protecting cells against oxidative stress following brain injury by regulating the expression of RNF112 (PubMed:27918959)  \n",
       "0      Receptor component of the CCM signaling pathwa...                                                                                                                                                                                                                                                                                                                                                                                                                                                                                                                                                                                                                                                                                                                                                                                                                                                                                                                                                                              \n",
       "1      Serine/threonine-protein kinase that acts as a...                                                                                                                                                                                                                                                                                                                                                                                                                                                                                                                                                                                                                                                                                                                                                                                                                                                                                                                                                                              \n",
       "2      Required for the assembly and/or stability of ...                                                                                                                                                                                                                                                                                                                                                                                                                                                                                                                                                                                                                                                                                                                                                                                                                                                                                                                                                                              \n",
       "3      Acts as component of the retromer cargo-select...                                                                                                                                                                                                                                                                                                                                                                                                                                                                                                                                                                                                                                                                                                                                                                                                                                                                                                                                                                              \n",
       "4      Catalyzes the irreversible NADPH-dependent dea...                                                                                                                                                                                                                                                                                                                                                                                                                                                                                                                                                                                                                                                                                                                                                                                                                                                                                                                                                                              \n",
       "...                                                  ...                                                                                                                                                                                                                                                                                                                                                                                                                                                                                                                                                                                                                                                                                                                                                                                                                                                                                                                                                                              \n",
       "17755  Component of the chaperonin-containing T-compl...                                                                                                                                                                                                                                                                                                                                                                                                                                                                                                                                                                                                                                                                                                                                                                                                                                                                                                                                                                              \n",
       "17756  Required for the formation of a threonylcarbam...                                                                                                                                                                                                                                                                                                                                                                                                                                                                                                                                                                                                                                                                                                                                                                                                                                                                                                                                                                              \n",
       "17757  Component of the 26S proteasome, a multiprotei...                                                                                                                                                                                                                                                                                                                                                                                                                                                                                                                                                                                                                                                                                                                                                                                                                                                                                                                                                                              \n",
       "17758  RNA-binding protein that regulates alternative...                                                                                                                                                                                                                                                                                                                                                                                                                                                                                                                                                                                                                                                                                                                                                                                                                                                                                                                                                                              \n",
       "17759  Component of the cytochrome c oxidase, the las...                                                                                                                                                                                                                                                                                                                                                                                                                                                                                                                                                                                                                                                                                                                                                                                                                                                                                                                                                                              \n",
       "\n",
       "[17760 rows x 2 columns]"
      ]
     },
     "execution_count": 11,
     "metadata": {},
     "output_type": "execute_result"
    }
   ],
   "source": [
    "df"
   ]
  },
  {
   "cell_type": "code",
   "execution_count": null,
   "id": "e4c31852",
   "metadata": {},
   "outputs": [],
   "source": [
    "# get nlp working maybe not run the whole thing \n",
    "# start analysis on csvs tomorrow "
   ]
  }
 ],
 "metadata": {
  "kernelspec": {
   "display_name": "Python 3 (ipykernel)",
   "language": "python",
   "name": "python3"
  },
  "language_info": {
   "codemirror_mode": {
    "name": "ipython",
    "version": 3
   },
   "file_extension": ".py",
   "mimetype": "text/x-python",
   "name": "python",
   "nbconvert_exporter": "python",
   "pygments_lexer": "ipython3",
   "version": "3.9.13"
  }
 },
 "nbformat": 4,
 "nbformat_minor": 5
}
